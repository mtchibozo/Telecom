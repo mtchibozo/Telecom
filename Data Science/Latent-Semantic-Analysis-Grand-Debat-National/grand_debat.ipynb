{
 "cells": [
  {
   "cell_type": "code",
   "execution_count": 2,
   "metadata": {
    "colab": {
     "base_uri": "https://localhost:8080/",
     "height": 34
    },
    "colab_type": "code",
    "id": "Fzx6StBThTYG",
    "outputId": "58efa616-4a5c-4181-bb2a-85e0a1e3244c"
   },
   "outputs": [
    {
     "name": "stdout",
     "output_type": "stream",
     "text": [
      "Mounted at /content/drive/\n"
     ]
    }
   ],
   "source": [
    "from google.colab import drive \n",
    "drive.mount('/content/drive/', force_remount=True)\n",
    "directory = '/content/drive/My Drive/'"
   ]
  },
  {
   "cell_type": "code",
   "execution_count": 3,
   "metadata": {
    "colab": {
     "base_uri": "https://localhost:8080/",
     "height": 51
    },
    "colab_type": "code",
    "id": "xTj2C7VEhiUP",
    "outputId": "c2aad3eb-eff8-46c1-ae5e-863f07244b13"
   },
   "outputs": [
    {
     "name": "stdout",
     "output_type": "stream",
     "text": [
      "Requirement already satisfied: num2words in /usr/local/lib/python3.6/dist-packages (0.5.9)\n",
      "Requirement already satisfied: docopt>=0.6.2 in /usr/local/lib/python3.6/dist-packages (from num2words) (0.6.2)\n"
     ]
    }
   ],
   "source": [
    "!pip install num2words"
   ]
  },
  {
   "cell_type": "code",
   "execution_count": 1,
   "metadata": {
    "colab": {},
    "colab_type": "code",
    "id": "iJ6yKSGu4PTC"
   },
   "outputs": [],
   "source": [
    "import json\n",
    "import os\n",
    "from os import listdir\n",
    "from os.path import isfile, join\n",
    "import numpy as np\n",
    "import pandas as pd\n",
    "import pathlib"
   ]
  },
  {
   "cell_type": "markdown",
   "metadata": {
    "colab_type": "text",
    "id": "LDen2y3d47vU"
   },
   "source": [
    "# Functions"
   ]
  },
  {
   "cell_type": "code",
   "execution_count": 2,
   "metadata": {
    "colab": {},
    "colab_type": "code",
    "id": "5Zr4lOxN5BnH"
   },
   "outputs": [],
   "source": [
    "# -*- coding: utf-8 -*-\n",
    "\n",
    "import pandas as pd\n",
    "import pathlib\n",
    "\n",
    "\n",
    "def read_data(filename: str):\n",
    "    \"\"\" Read the json file and convert it into a pd.DataFrame\n",
    "    preprocessing: format datetime\n",
    "\n",
    "    Args:\n",
    "        filename: json filename\n",
    "\n",
    "    Returns:\n",
    "        pd.DataFrame\n",
    "    \"\"\"\n",
    "    assert filename.endswith('.json'), 'filename should be a json file'\n",
    "    assert pathlib.Path(filename).exists(), 'filename does not exists'\n",
    "\n",
    "    df = pd.read_json(filename, encoding='UTF-8')\n",
    "    df = df.assign(createdAt=pd.to_datetime(df.createdAt),\n",
    "                   publishedAt=pd.to_datetime(df.publishedAt),\n",
    "                   updatedAt=pd.to_datetime(df.updatedAt))\n",
    "\n",
    "    # remove trashed data\n",
    "    df = df[~df.trashed]\n",
    "\n",
    "    return df"
   ]
  },
  {
   "cell_type": "code",
   "execution_count": 3,
   "metadata": {
    "colab": {},
    "colab_type": "code",
    "id": "7Su_fJzs5F0_"
   },
   "outputs": [],
   "source": [
    "def extract_responses_by_id(responses: list, key: str='138'):\n",
    "    \"\"\" Extract a specific question\n",
    "\n",
    "    Args:\n",
    "        responses: list (example df.iloc[0].responses)\n",
    "        key: questionId (example '142')\n",
    "\n",
    "    Returns:\n",
    "        responses as a string\n",
    "    \"\"\"\n",
    "\n",
    "    response = [x['formattedValue'] for x in responses\n",
    "                if x['questionId'] == key]\n",
    "    if len(response):\n",
    "        return response[0]\n",
    "    else:\n",
    "        return None"
   ]
  },
  {
   "cell_type": "code",
   "execution_count": 4,
   "metadata": {
    "colab": {},
    "colab_type": "code",
    "id": "4s22ciGp5IzK"
   },
   "outputs": [],
   "source": [
    "def get_responses(df: pd.DataFrame):\n",
    "    \"\"\" Extract responses and return a pd.DataFrame\n",
    "    with columns: authorId, questionId, formattedValue\n",
    "\n",
    "    Args:\n",
    "        df: dataframe from read_data\n",
    "    \n",
    "    Returns:\n",
    "        pd.DataFrame with responses\n",
    "    \"\"\"\n",
    "    responses = []\n",
    "    for i, x in df.iterrows():\n",
    "        df_tmp = (pd.DataFrame(x.responses).\n",
    "                  filter(['questionId', 'formattedValue']).\n",
    "                  assign(authorId=x.authorId))\n",
    "        responses.append(df_tmp)\n",
    "\n",
    "    return pd.concat(responses, ignore_index=True)"
   ]
  },
  {
   "cell_type": "code",
   "execution_count": 5,
   "metadata": {
    "colab": {},
    "colab_type": "code",
    "id": "iceazmkq5M4a"
   },
   "outputs": [],
   "source": [
    "def get_ids_open_reponses(df: pd.DataFrame):\n",
    "    \"\"\" Return the ids of open questions\n",
    "    i.e does not have a predefined set of possible responses\n",
    "    \"\"\"\n",
    "    list_questions = df.iloc[0].responses\n",
    "\n",
    "    ids_open_questions = [x['questionId'] for x in list_questions\n",
    "                          if x['value'] is None or\n",
    "                          '{\"labels\"' not in x['value']]\n",
    "    return ids_open_questions"
   ]
  },
  {
   "cell_type": "code",
   "execution_count": 6,
   "metadata": {
    "colab": {},
    "colab_type": "code",
    "id": "n1U-U5Nh5PpE"
   },
   "outputs": [],
   "source": [
    "def get_open_reponses(df: pd.DataFrame):\n",
    "    \"\"\" Filter the data to only return non empty open responses\n",
    "\n",
    "    Args:\n",
    "        df: dataframe from read_data\n",
    "\n",
    "    Returns:\n",
    "        pd.DataFrame\n",
    "    \"\"\"\n",
    "\n",
    "    df_open = get_responses(df)\n",
    "    ids_open = get_ids_open_reponses(df)\n",
    "\n",
    "    df_open = df_open[df_open.questionId.isin(ids_open)]\n",
    "    df_open = df_open[~pd.isnull(df_open.formattedValue)]\n",
    "    return df_open"
   ]
  },
  {
   "cell_type": "markdown",
   "metadata": {
    "colab_type": "text",
    "id": "DQHOneyb6B6E"
   },
   "source": [
    "# Read data"
   ]
  },
  {
   "cell_type": "code",
   "execution_count": 7,
   "metadata": {
    "colab": {},
    "colab_type": "code",
    "id": "tRKnudB_6DiB"
   },
   "outputs": [],
   "source": [
    "data_fiscalisation = read_data('LA_FISCALITE_ET_LES_DEPENSES_PUBLIQUES.json')"
   ]
  },
  {
   "cell_type": "code",
   "execution_count": 8,
   "metadata": {
    "colab": {},
    "colab_type": "code",
    "id": "8erh0rAN6jnA"
   },
   "outputs": [],
   "source": [
    "responses = get_open_reponses(data_fiscalisation)"
   ]
  },
  {
   "cell_type": "code",
   "execution_count": 15,
   "metadata": {},
   "outputs": [],
   "source": [
    "responses.to_csv('responses_ficalisation.csv')"
   ]
  },
  {
   "cell_type": "code",
   "execution_count": 22,
   "metadata": {},
   "outputs": [],
   "source": [
    "responses = pd.read_csv('responses_ficalisation.csv')"
   ]
  },
  {
   "cell_type": "markdown",
   "metadata": {
    "colab_type": "text",
    "id": "ALA2oxEE5o17"
   },
   "source": [
    "# Preprocessing"
   ]
  },
  {
   "cell_type": "markdown",
   "metadata": {
    "colab_type": "text",
    "id": "pgLrqmTm4PTi"
   },
   "source": [
    "## Preprocessing - Stopwords"
   ]
  },
  {
   "cell_type": "code",
   "execution_count": 9,
   "metadata": {
    "colab": {},
    "colab_type": "code",
    "id": "5s3_YBm34PTj"
   },
   "outputs": [],
   "source": [
    "def get_stopswords(type=\"veronis\"):\n",
    "    '''returns the veronis stopwords in unicode, or if any other value is passed, it returns the default nltk french stopwords'''\n",
    "    if type==\"veronis\":\n",
    "        #VERONIS STOPWORDS\n",
    "        raw_stopword_list = [\"Ap.\", \"Apr.\", \"GHz\", \"MHz\", \"USD\", \"a\", \"afin\", \"ah\", \"ai\", \"aie\", \"aient\", \"aies\", \"ait\", \"alors\", \"après\", \"as\", \"attendu\", \"au\", \"au-delà\", \"au-devant\", \"aucun\", \"aucune\", \"audit\", \"auprès\", \"auquel\", \"aura\", \"aurai\", \"auraient\", \"aurais\", \"aurait\", \"auras\", \"aurez\", \"auriez\", \"aurions\", \"aurons\", \"auront\", \"aussi\", \"autour\", \"autre\", \"autres\", \"autrui\", \"aux\", \"auxdites\", \"auxdits\", \"auxquelles\", \"auxquels\", \"avaient\", \"avais\", \"avait\", \"avant\", \"avec\", \"avez\", \"aviez\", \"avions\", \"avons\", \"ayant\", \"ayez\", \"ayons\", \"b\", \"bah\", \"banco\", \"ben\", \"bien\", \"bé\", \"c\", \"c'\", \"c'est\", \"c'était\", \"car\", \"ce\", \"ceci\", \"cela\", \"celle\", \"celle-ci\", \"celle-là\", \"celles\", \"celles-ci\", \"celles-là\", \"celui\", \"celui-ci\", \"celui-là\", \"celà\", \"cent\", \"cents\", \"cependant\", \"certain\", \"certaine\", \"certaines\", \"certains\", \"ces\", \"cet\", \"cette\", \"ceux\", \"ceux-ci\", \"ceux-là\", \"cf.\", \"cg\", \"cgr\", \"chacun\", \"chacune\", \"chaque\", \"chez\", \"ci\", \"cinq\", \"cinquante\", \"cinquante-cinq\", \"cinquante-deux\", \"cinquante-et-un\", \"cinquante-huit\", \"cinquante-neuf\", \"cinquante-quatre\", \"cinquante-sept\", \"cinquante-six\", \"cinquante-trois\", \"cl\", \"cm\", \"cm²\", \"comme\", \"contre\", \"d\", \"d'\", \"d'après\", \"d'un\", \"d'une\", \"dans\", \"de\", \"depuis\", \"derrière\", \"des\", \"desdites\", \"desdits\", \"desquelles\", \"desquels\", \"deux\", \"devant\", \"devers\", \"dg\", \"différentes\", \"différents\", \"divers\", \"diverses\", \"dix\", \"dix-huit\", \"dix-neuf\", \"dix-sept\", \"dl\", \"dm\", \"donc\", \"dont\", \"douze\", \"du\", \"dudit\", \"duquel\", \"durant\", \"dès\", \"déjà\", \"e\", \"eh\", \"elle\", \"elles\", \"en\", \"en-dehors\", \"encore\", \"enfin\", \"entre\", \"envers\", \"es\", \"est\", \"et\", \"eu\", \"eue\", \"eues\", \"euh\", \"eurent\", \"eus\", \"eusse\", \"eussent\", \"eusses\", \"eussiez\", \"eussions\", \"eut\", \"eux\", \"eûmes\", \"eût\", \"eûtes\", \"f\", \"fait\", \"fi\", \"flac\", \"fors\", \"furent\", \"fus\", \"fusse\", \"fussent\", \"fusses\", \"fussiez\", \"fussions\", \"fut\", \"fûmes\", \"fût\", \"fûtes\", \"g\", \"gr\", \"h\", \"ha\", \"han\", \"hein\", \"hem\", \"heu\", \"hg\", \"hl\", \"hm\", \"hm³\", \"holà\", \"hop\", \"hormis\", \"hors\", \"huit\", \"hum\", \"hé\", \"i\", \"ici\", \"il\", \"ils\", \"j\", \"j'\", \"j'ai\", \"j'avais\", \"j'étais\", \"jamais\", \"je\", \"jusqu'\", \"jusqu'au\", \"jusqu'aux\", \"jusqu'à\", \"jusque\", \"k\", \"kg\", \"km\", \"km²\", \"l\", \"l'\", \"l'autre\", \"l'on\", \"l'un\", \"l'une\", \"la\", \"laquelle\", \"le\", \"lequel\", \"les\", \"lesquelles\", \"lesquels\", \"leur\", \"leurs\", \"lez\", \"lors\", \"lorsqu'\", \"lorsque\", \"lui\", \"lès\", \"m\", \"m'\", \"ma\", \"maint\", \"mainte\", \"maintes\", \"maints\", \"mais\", \"malgré\", \"me\", \"mes\", \"mg\", \"mgr\", \"mil\", \"mille\", \"milliards\", \"millions\", \"ml\", \"mm\", \"mm²\", \"moi\", \"moins\", \"mon\", \"moyennant\", \"mt\", \"m²\", \"m³\", \"même\", \"mêmes\", \"n\", \"n'avait\", \"n'y\", \"ne\", \"neuf\", \"ni\", \"non\", \"nonante\", \"nonobstant\", \"nos\", \"notre\", \"nous\", \"nul\", \"nulle\", \"nº\", \"néanmoins\", \"o\", \"octante\", \"oh\", \"on\", \"ont\", \"onze\", \"or\", \"ou\", \"outre\", \"où\", \"p\", \"par\", \"par-delà\", \"parbleu\", \"parce\", \"parmi\", \"pas\", \"passé\", \"pendant\", \"personne\", \"peu\", \"plus\", \"plus_d'un\", \"plus_d'une\", \"plusieurs\", \"pour\", \"pourquoi\", \"pourtant\", \"pourvu\", \"près\", \"puisqu'\", \"puisque\", \"q\", \"qu\", \"qu'\", \"qu'elle\", \"qu'elles\", \"qu'il\", \"qu'ils\", \"qu'on\", \"quand\", \"quant\", \"quarante\", \"quarante-cinq\", \"quarante-deux\", \"quarante-et-un\", \"quarante-huit\", \"quarante-neuf\", \"quarante-quatre\", \"quarante-sept\", \"quarante-six\", \"quarante-trois\", \"quatorze\", \"quatre\", \"quatre-vingt\", \"quatre-vingt-cinq\", \"quatre-vingt-deux\", \"quatre-vingt-dix\", \"quatre-vingt-dix-huit\", \"quatre-vingt-dix-neuf\", \"quatre-vingt-dix-sept\", \"quatre-vingt-douze\", \"quatre-vingt-huit\", \"quatre-vingt-neuf\", \"quatre-vingt-onze\", \"quatre-vingt-quatorze\", \"quatre-vingt-quatre\", \"quatre-vingt-quinze\", \"quatre-vingt-seize\", \"quatre-vingt-sept\", \"quatre-vingt-six\", \"quatre-vingt-treize\", \"quatre-vingt-trois\", \"quatre-vingt-un\", \"quatre-vingt-une\", \"quatre-vingts\", \"que\", \"quel\", \"quelle\", \"quelles\", \"quelqu'\", \"quelqu'un\", \"quelqu'une\", \"quelque\", \"quelques\", \"quelques-unes\", \"quelques-uns\", \"quels\", \"qui\", \"quiconque\", \"quinze\", \"quoi\", \"quoiqu'\", \"quoique\", \"r\", \"revoici\", \"revoilà\", \"rien\", \"s\", \"s'\", \"sa\", \"sans\", \"sauf\", \"se\", \"seize\", \"selon\", \"sept\", \"septante\", \"sera\", \"serai\", \"seraient\", \"serais\", \"serait\", \"seras\", \"serez\", \"seriez\", \"serions\", \"serons\", \"seront\", \"ses\", \"si\", \"sinon\", \"six\", \"soi\", \"soient\", \"sois\", \"soit\", \"soixante\", \"soixante-cinq\", \"soixante-deux\", \"soixante-dix\", \"soixante-dix-huit\", \"soixante-dix-neuf\", \"soixante-dix-sept\", \"soixante-douze\", \"soixante-et-onze\", \"soixante-et-un\", \"soixante-et-une\", \"soixante-huit\", \"soixante-neuf\", \"soixante-quatorze\", \"soixante-quatre\", \"soixante-quinze\", \"soixante-seize\", \"soixante-sept\", \"soixante-six\", \"soixante-treize\", \"soixante-trois\", \"sommes\", \"son\", \"sont\", \"sous\", \"soyez\", \"soyons\", \"suis\", \"suite\", \"sur\", \"sus\", \"t\", \"t'\", \"ta\", \"tacatac\", \"tandis\", \"te\", \"tel\", \"telle\", \"telles\", \"tels\", \"tes\", \"toi\", \"ton\", \"toujours\", \"tous\", \"tout\", \"toute\", \"toutefois\", \"toutes\", \"treize\", \"trente\", \"trente-cinq\", \"trente-deux\", \"trente-et-un\", \"trente-huit\", \"trente-neuf\", \"trente-quatre\", \"trente-sept\", \"trente-six\", \"trente-trois\", \"trois\", \"très\", \"tu\", \"u\", \"un\", \"une\", \"unes\", \"uns\", \"v\", \"vers\", \"via\", \"vingt\", \"vingt-cinq\", \"vingt-deux\", \"vingt-huit\", \"vingt-neuf\", \"vingt-quatre\", \"vingt-sept\", \"vingt-six\", \"vingt-trois\", \"vis-à-vis\", \"voici\", \"voilà\", \"vos\", \"votre\", \"vous\", \"w\", \"x\", \"y\", \"z\", \"zéro\", \"à\", \"ç'\", \"ça\", \"ès\", \"étaient\", \"étais\", \"était\", \"étant\", \"étiez\", \"étions\", \"été\", \"étée\", \"étées\", \"étés\", \"êtes\", \"être\", \"ô\"]\n",
    "    else:\n",
    "        #get French stopwords from the nltk kit\n",
    "        raw_stopword_list = stopwords.words('french') #create a list of all French stopwords\n",
    "    #stopword_list = [word.decode('utf8x') for word in raw_stopword_list] #make to decode the French stopwords as unicode objects rather than ascii\n",
    "    return raw_stopword_list\n",
    "\n",
    "List_stop_words = get_stopswords()\n",
    "#A mettre a jour!!!!!!!!!!\n",
    "\n",
    "List_ponctuation = [',',';',':','!','?','.','/','%','*','§','^','¨','$','£','=',')','°',']','+','}','_','&','\\t','(']\n",
    "\n",
    "\n",
    "def lister_mots(phrase):\n",
    "    for i in range (len(List_ponctuation)): #Enleve la ponctuation de la phrase\n",
    "        if List_ponctuation[i] in phrase:\n",
    "            phrase = phrase.replace(List_ponctuation[i],\"\")\n",
    "        if('\\n' in phrase):\n",
    "            phrase = phrase.replace('\\n',\" \")\n",
    "    List_mots = phrase.split(\" \")\n",
    "    return List_mots\n",
    "\n",
    "\n",
    "\n",
    "def enlever_les_stops_words(L):\n",
    "    for mot in List_stop_words:\n",
    "        if mot in L:\n",
    "            L.remove(mot)\n",
    "    return L"
   ]
  },
  {
   "cell_type": "markdown",
   "metadata": {
    "colab_type": "text",
    "id": "UJP2Wo-i4PTt"
   },
   "source": [
    "## Preprocessing - Tokenization"
   ]
  },
  {
   "cell_type": "markdown",
   "metadata": {
    "colab_type": "text",
    "id": "FDoQSFqq4PTu"
   },
   "source": [
    "We put the words in lower case and convert the numbers (ints) to their text form"
   ]
  },
  {
   "cell_type": "code",
   "execution_count": 10,
   "metadata": {
    "colab": {
     "base_uri": "https://localhost:8080/",
     "height": 34
    },
    "colab_type": "code",
    "id": "s0ZMYAwm4PTv",
    "outputId": "363f37dc-7c64-452a-ac98-afb158538743"
   },
   "outputs": [
    {
     "data": {
      "text/plain": [
       "'cent soixante-neuf'"
      ]
     },
     "execution_count": 10,
     "metadata": {},
     "output_type": "execute_result"
    }
   ],
   "source": [
    "#WARNING you must have the num2words library installed\n",
    "from num2words import num2words\n",
    "num2words(169, lang='fr')"
   ]
  },
  {
   "cell_type": "code",
   "execution_count": 11,
   "metadata": {
    "colab": {},
    "colab_type": "code",
    "id": "vHD6iHjQ4PTx"
   },
   "outputs": [],
   "source": [
    "def tokenization(word_list):\n",
    "    tokenized_list = []\n",
    "    for word in word_list:\n",
    "        try:\n",
    "            word = int(word) #if the word is the string of a number (i.e '99'), we convert it back to an int\n",
    "            word = num2words(word,lang='fr')\n",
    "        except:\n",
    "            pass\n",
    "        word = word.lower() #We put the word in lower case\n",
    "        tokenized_list.append(word)\n",
    "    return tokenized_list\n",
    "      "
   ]
  },
  {
   "cell_type": "markdown",
   "metadata": {
    "colab_type": "text",
    "id": "HHzBpM9H4PT0"
   },
   "source": [
    "## Preprocessing - Stemming"
   ]
  },
  {
   "cell_type": "code",
   "execution_count": 12,
   "metadata": {
    "colab": {
     "base_uri": "https://localhost:8080/",
     "height": 34
    },
    "colab_type": "code",
    "id": "30bbfSlR4PT1",
    "outputId": "9cec8fe3-7aa5-4f41-d253-55b1eb0c71c0"
   },
   "outputs": [
    {
     "data": {
      "text/plain": [
       "'constitutionel'"
      ]
     },
     "execution_count": 12,
     "metadata": {},
     "output_type": "execute_result"
    }
   ],
   "source": [
    "from nltk.stem import SnowballStemmer\n",
    "from nltk.tokenize import sent_tokenize, word_tokenize\n",
    "\n",
    "ps = SnowballStemmer('french')\n",
    "ps.stem('constitutionelles')"
   ]
  },
  {
   "cell_type": "markdown",
   "metadata": {},
   "source": [
    "## Exemple avec une bdd simple"
   ]
  },
  {
   "cell_type": "code",
   "execution_count": 14,
   "metadata": {
    "colab": {},
    "colab_type": "code",
    "id": "NGQiBF_X4PT4"
   },
   "outputs": [],
   "source": [
    "from sklearn.feature_extraction.text import CountVectorizer\n",
    "\n",
    "corpus = [\n",
    "'on doit supprimer isf',\n",
    "'il faut supprimer l isf',\n",
    "'isf doit etre enlever',\n",
    "'enlever isf',\n",
    "'repousser retraite',\n",
    "'retraite plus tard',\n",
    "'allonger retraite'\n",
    "]\n",
    "\n",
    "vectorizer = CountVectorizer()\n",
    "matrice = np.array(vectorizer.fit_transform(corpus).todense())\n",
    "dictionnaire = vectorizer.vocabulary_ "
   ]
  },
  {
   "cell_type": "code",
   "execution_count": 15,
   "metadata": {
    "colab": {},
    "colab_type": "code",
    "id": "3m95j8Paqe4P"
   },
   "outputs": [],
   "source": [
    "import numpy as np\n",
    "u, s, vh = np.linalg.svd(matrice.T, full_matrices=False)"
   ]
  },
  {
   "cell_type": "code",
   "execution_count": 20,
   "metadata": {},
   "outputs": [],
   "source": [
    "from scipy.sparse.linalg import svds\n",
    "matrice = matrice.astype(float)\n",
    "u, s, vh = svds(matrice.T, k=2)"
   ]
  },
  {
   "cell_type": "code",
   "execution_count": 25,
   "metadata": {},
   "outputs": [
    {
     "data": {
      "text/plain": [
       "array([[-2.37981575e-01, -5.51787292e-17],\n",
       "       [-8.22187216e-17,  3.94588107e-01],\n",
       "       [-1.02736381e-16,  3.15304138e-01],\n",
       "       [-4.97240466e-17,  1.93420395e-01],\n",
       "       [-9.13641095e-17,  1.70069595e-01],\n",
       "       [-9.13641095e-17,  1.70069595e-01],\n",
       "       [-2.26595166e-16,  6.86541446e-01],\n",
       "       [-3.24946749e-17,  2.01167712e-01],\n",
       "       [-3.36556771e-01, -5.86296509e-17],\n",
       "       [-2.37981575e-01, -3.75439531e-17],\n",
       "       [-8.12519920e-01, -1.51352333e-16],\n",
       "       [-1.23858784e-16,  3.71237307e-01],\n",
       "       [-3.36556771e-01, -5.86296509e-17]])"
      ]
     },
     "execution_count": 25,
     "metadata": {},
     "output_type": "execute_result"
    }
   ],
   "source": [
    "u"
   ]
  },
  {
   "cell_type": "code",
   "execution_count": 26,
   "metadata": {},
   "outputs": [
    {
     "name": "stdout",
     "output_type": "stream",
     "text": [
      "['repousser', 'retraite', 'plus', 'tard', 'allonger']\n"
     ]
    }
   ],
   "source": [
    "indices = [i for i, x in enumerate(np.array(abs(u[:,0])>10e-2).reshape(u.shape[0]).tolist()) if x]\n",
    "word_topic = [x for x in dictionnaire.keys() if (dictionnaire[x] in indices)]\n",
    "print(word_topic)"
   ]
  },
  {
   "cell_type": "code",
   "execution_count": 27,
   "metadata": {},
   "outputs": [
    {
     "name": "stdout",
     "output_type": "stream",
     "text": [
      "['on', 'doit', 'supprimer', 'isf', 'il', 'faut', 'etre', 'enlever']\n"
     ]
    }
   ],
   "source": [
    "indices = [i for i, x in enumerate(np.array(abs(u[:,1])>10e-2).reshape(u.shape[0]).tolist()) if x]\n",
    "word_topic = [x for x in dictionnaire.keys() if (dictionnaire[x] in indices)]\n",
    "print(word_topic)"
   ]
  },
  {
   "cell_type": "code",
   "execution_count": 115,
   "metadata": {},
   "outputs": [
    {
     "data": {
      "text/plain": [
       "{'allonger': 0,\n",
       " 'doit': 1,\n",
       " 'enlever': 2,\n",
       " 'etre': 3,\n",
       " 'faut': 4,\n",
       " 'il': 5,\n",
       " 'isf': 6,\n",
       " 'on': 7,\n",
       " 'plus': 8,\n",
       " 'repousser': 9,\n",
       " 'retraite': 10,\n",
       " 'supprimer': 11,\n",
       " 'tard': 12}"
      ]
     },
     "execution_count": 115,
     "metadata": {},
     "output_type": "execute_result"
    }
   ],
   "source": [
    "dictionnaire"
   ]
  },
  {
   "cell_type": "code",
   "execution_count": 28,
   "metadata": {},
   "outputs": [],
   "source": [
    "# permet de récuperer les indices des mots triés par fréquence\n",
    "indexes_sorted = np.argsort((matrice.T).sum(axis=1))\n",
    "\n",
    "# indices des 5 mots les plus importants\n",
    "max_indexes = indexes_sorted[-5:]"
   ]
  },
  {
   "cell_type": "code",
   "execution_count": 105,
   "metadata": {
    "colab": {
     "base_uri": "https://localhost:8080/",
     "height": 34
    },
    "colab_type": "code",
    "id": "8kygdjg2Sgwd",
    "outputId": "1c64dc01-e3e8-4caf-b362-055a9e331df1"
   },
   "outputs": [],
   "source": [
    "indices = [i for i, x in enumerate(np.array(u[:,1]>0.1).reshape(u.shape[0]).tolist()) if x]"
   ]
  },
  {
   "cell_type": "markdown",
   "metadata": {
    "colab_type": "text",
    "id": "VZraEDPJX2lk"
   },
   "source": [
    "On introduit un seuil de O.1 pour déterminer si un mot appartient a un topic ou non "
   ]
  },
  {
   "cell_type": "code",
   "execution_count": 0,
   "metadata": {
    "colab": {
     "base_uri": "https://localhost:8080/",
     "height": 34
    },
    "colab_type": "code",
    "id": "O4iYIGGsrDH4",
    "outputId": "04b76039-1a6c-4002-960d-e3a2e8561872"
   },
   "outputs": [
    {
     "data": {
      "text/plain": [
       "['like', 'sunshine', 'loves', 'to', 'sit', 'this', 'for', 'some', 'reason']"
      ]
     },
     "execution_count": 108,
     "metadata": {
      "tags": []
     },
     "output_type": "execute_result"
    }
   ],
   "source": [
    "[x for x in dictionnaire.keys() if (dictionnaire[x] in indices)]"
   ]
  },
  {
   "cell_type": "code",
   "execution_count": 0,
   "metadata": {
    "colab": {
     "base_uri": "https://localhost:8080/",
     "height": 34
    },
    "colab_type": "code",
    "id": "yx0zhvOiMMfF",
    "outputId": "19169adb-76ff-4f14-d079-f3f78846ed14"
   },
   "outputs": [
    {
     "name": "stdout",
     "output_type": "stream",
     "text": [
      "[]\n"
     ]
    }
   ],
   "source": [
    "index_topic = 0\n",
    "indices = [i for i, x in enumerate(np.array(u[:,index_topic]>0.1).reshape(u.shape[0]).tolist()) if x]\n",
    "word_topic = [x for x in dictionnaire.keys() if (dictionnaire[x] in indices)]\n",
    "print(word_topic)"
   ]
  },
  {
   "cell_type": "markdown",
   "metadata": {
    "colab_type": "text",
    "id": "2PDhqXxg5lKe"
   },
   "source": [
    "## Preprocessing function"
   ]
  },
  {
   "cell_type": "code",
   "execution_count": 29,
   "metadata": {
    "colab": {},
    "colab_type": "code",
    "id": "LBICA7VC4PT7"
   },
   "outputs": [],
   "source": [
    "from nltk.stem import SnowballStemmer\n",
    "from nltk.tokenize import sent_tokenize, word_tokenize\n",
    "\n",
    "def preprocessing(doc):\n",
    "    mots = list(lister_mots(doc))\n",
    "    mots = enlever_les_stops_words(mots)\n",
    "    mots = tokenization(mots)\n",
    "    ps = SnowballStemmer('french')\n",
    "    for indice in range(len(mots)) : \n",
    "        mots[indice] = ps.stem(mots[indice])\n",
    "    return ' '.join(mots)\n",
    "\n",
    "def preprocessing_list(liste):\n",
    "    for i in range(len(liste)):\n",
    "        liste[i]=preprocessing(liste[i])\n",
    "    return liste"
   ]
  },
  {
   "cell_type": "code",
   "execution_count": 30,
   "metadata": {
    "colab": {},
    "colab_type": "code",
    "id": "8pAWosPLhN3a"
   },
   "outputs": [],
   "source": [
    "liste = list((responses[responses['questionId']=='163'])['formattedValue'])"
   ]
  },
  {
   "cell_type": "code",
   "execution_count": 0,
   "metadata": {
    "colab": {},
    "colab_type": "code",
    "id": "SWJkAaM8mWtS"
   },
   "outputs": [],
   "source": [
    "del responses\n",
    "del data_fiscalisation"
   ]
  },
  {
   "cell_type": "code",
   "execution_count": 31,
   "metadata": {
    "colab": {},
    "colab_type": "code",
    "id": "ZW-lCEi6hN3b"
   },
   "outputs": [],
   "source": [
    "corpus = preprocessing_list(liste)"
   ]
  },
  {
   "cell_type": "code",
   "execution_count": 32,
   "metadata": {
    "colab": {},
    "colab_type": "code",
    "id": "kkLkMjFRhN3c"
   },
   "outputs": [],
   "source": [
    "from sklearn.feature_extraction.text import CountVectorizer\n",
    "vectorizer = CountVectorizer()\n",
    "matrix_topic =  vectorizer.fit_transform(corpus).todense() \n",
    "vocab =  vectorizer.vocabulary_ "
   ]
  },
  {
   "cell_type": "code",
   "execution_count": 33,
   "metadata": {},
   "outputs": [],
   "source": [
    "matrix = np.array(matrix_topic)"
   ]
  },
  {
   "cell_type": "code",
   "execution_count": 34,
   "metadata": {},
   "outputs": [],
   "source": [
    "# permet de récuperer les indices des mots triés par fréquence\n",
    "indexes_sorted = np.argsort((matrice.T).sum(axis=1))\n",
    "\n",
    "# indices des 5 mots les plus importants\n",
    "max_indexes = indexes_sorted[-200:]"
   ]
  },
  {
   "cell_type": "code",
   "execution_count": null,
   "metadata": {},
   "outputs": [],
   "source": [
    "new_dic = {key,vocab[key] for value in max_indexes if }"
   ]
  },
  {
   "cell_type": "code",
   "execution_count": 33,
   "metadata": {},
   "outputs": [],
   "source": [
    "np.save(\"matrix_163.npy\",matrix)"
   ]
  },
  {
   "cell_type": "code",
   "execution_count": 3,
   "metadata": {},
   "outputs": [],
   "source": [
    "matrix = np.load(\"matrix_163.npy\")"
   ]
  },
  {
   "cell_type": "code",
   "execution_count": 67,
   "metadata": {},
   "outputs": [],
   "source": [
    "matrix = matrix[:1000,28000:]"
   ]
  },
  {
   "cell_type": "code",
   "execution_count": 60,
   "metadata": {},
   "outputs": [
    {
     "name": "stdout",
     "output_type": "stream",
     "text": [
      "étranger\n",
      "élément\n",
      "égal\n",
      "évolu\n",
      "équilibr\n",
      "éven\n",
      "énerg\n",
      "être\n",
      "établ\n",
      "économ\n",
      "énonc\n",
      "éolien\n",
      "électr\n",
      "île\n",
      "équip\n",
      "électromécaniques\n",
      "éliminon\n",
      "énigmat\n",
      "édit\n",
      "éduc\n",
      "élèvent\n",
      "écrit\n",
      "écoul\n",
      "été\n",
      "étrang\n",
      "êtr\n",
      "évalu\n",
      "économis\n",
      "émolu\n",
      "œuvr\n",
      "écolog\n",
      "équit\n",
      "était\n",
      "état\n",
      "échapp\n",
      "équivalent\n",
      "époqu\n",
      "échang\n",
      "élect\n",
      "étendr\n",
      "éventail\n",
      "zéro\n",
      "élimin\n",
      "émiss\n",
      "épargn\n",
      "économiepuis\n",
      "étud\n",
      "élev\n",
      "équtabl\n",
      "énerget\n",
      "élus\n",
      "éthiqu\n",
      "échel\n",
      "évas\n",
      "écol\n",
      "évade\n",
      "étrangl\n",
      "élarg\n",
      "éligibil\n",
      "évident\n",
      "évit\n",
      "éventuel\n",
      "ça\n",
      "évoqu\n",
      "évoluent\n",
      "égar\n",
      "électorat\n",
      "électeur\n",
      "éternel\n",
      "égalite\n",
      "électoral\n",
      "écart\n",
      "écout\n",
      "étag\n",
      "épanou\n",
      "échelon\n",
      "énorm\n",
      "éduqu\n",
      "étre\n",
      "zon\n",
      "émetteur\n",
      "échappent\n",
      "étudi\n",
      "éloign\n",
      "âgé\n",
      "âg\n",
      "yeux\n",
      "évad\n",
      "égard\n",
      "émis\n",
      "yatch\n",
      "éclat\n",
      "écotax\n",
      "échu\n",
      "écrir\n",
      "éradiqu\n",
      "éligibl\n",
      "égalitair\n",
      "épicer\n",
      "états\n",
      "œil\n",
      "étalon\n",
      "yc\n",
      "étrger\n",
      "équivoqu\n",
      "éco\n",
      "éhont\n",
      "éclair\n",
      "équivaut\n",
      "évélu\n",
      "éducationl\n",
      "âm\n",
      "énumer\n",
      "échapper\n",
      "éditorial\n",
      "égarementset\n",
      "étap\n",
      "évasionl\n",
      "échouent\n",
      "élis\n",
      "étendu\n",
      "œuvres\n",
      "âgeil\n",
      "étion\n",
      "émouvoir\n",
      "îl\n",
      "éman\n",
      "élu\n",
      "étrier\n",
      "çel\n",
      "équilibrag\n",
      "électron\n",
      "érig\n",
      "édifice\n",
      "éché\n",
      "zonepay\n",
      "évaporationoptimis\n",
      "étant\n",
      "éconnom\n",
      "établiess\n",
      "étatsancien\n",
      "étatsl\n",
      "écolesrestaur\n",
      "échéanci\n",
      "élites\n",
      "étoil\n",
      "époque\n",
      "âner\n",
      "équilibrent\n",
      "évolue\n",
      "yv\n",
      "élit\n",
      "échapatoir\n",
      "étouff\n",
      "évolut\n",
      "étrangerqu\n",
      "çà\n",
      "évitent\n",
      "ëtre\n",
      "énergie\n",
      "équin\n",
      "âge\n",
      "étrill\n",
      "écrêt\n",
      "éte\n",
      "ôter\n",
      "étéhiv\n",
      "électricité\n",
      "écran\n",
      "évid\n",
      "étal\n",
      "étatun\n",
      "égid\n",
      "économies\n",
      "youtub\n",
      "étatadministr\n",
      "énarqu\n",
      "étai\n",
      "économiques\n",
      "émissair\n",
      "émigr\n",
      "équivalente\n",
      "émerg\n",
      "émet\n",
      "érod\n",
      "zancien\n",
      "élevag\n",
      "éton\n",
      "écras\n",
      "éducative\n",
      "étrangersl\n",
      "éminent\n",
      "ête\n",
      "èleves\n",
      "écriv\n",
      "électroménager\n",
      "élutout\n",
      "îdemnit\n",
      "zanzibarit\n",
      "élisabeth\n",
      "élabor\n",
      "épingl\n",
      "éros\n",
      "étroit\n",
      "éleveurs\n",
      "écologiquesocialeculturel\n",
      "écologiquesocial\n",
      "éclairag\n",
      "zgi\n",
      "éfficac\n",
      "églis\n",
      "ét\n",
      "écologique\n",
      "élys\n",
      "écueil\n",
      "échelonnent\n",
      "zero\n",
      "économiqueou\n",
      "épous\n",
      "équival\n",
      "élir\n",
      "à72617\n",
      "étrangeret\n",
      "évapor\n",
      "émettr\n",
      "électriquel\n",
      "économiesetc\n",
      "énergétiquel\n",
      "évasionfraudeoptimis\n",
      "échec\n",
      "éteindr\n",
      "étéun\n",
      "égalis\n",
      "œuf\n",
      "étir\n",
      "étrangèresfiscalis\n",
      "zéros\n",
      "épaul\n",
      "êt\n",
      "épouvantail\n",
      "équat\n",
      "épargnent\n",
      "zonestax\n",
      "époux\n",
      "échelleconcern\n",
      "ėvasion\n",
      "énergivor\n",
      "électricitégaz\n",
      "éxil\n",
      "éxoner\n",
      "zident\n",
      "zinzin\n",
      "étay\n",
      "énergies\n",
      "économieset\n",
      "évasionfraud\n",
      "ème\n",
      "édific\n",
      "écho\n",
      "électroménag\n",
      "écrivain\n",
      "êtrt\n",
      "érgional\n",
      "élusalloc\n",
      "étaient\n",
      "érad\n",
      "évadent\n",
      "échappatoir\n",
      "écheleon\n",
      "écritur\n",
      "érudit\n",
      "évidencecec\n",
      "écorespons\n",
      "édifi\n",
      "échantillonnag\n",
      "étatrégionsdépartementscommunaut\n",
      "éject\n",
      "électricien\n",
      "éclairent\n",
      "économiessach\n",
      "évsion\n",
      "étang\n",
      "évasionfiscaleaugment\n",
      "york\n",
      "éffort\n",
      "zonag\n",
      "ètre\n",
      "écologiel\n",
      "âgeon\n",
      "égratign\n",
      "économiquepar\n",
      "économiquedonc\n",
      "échappées\n",
      "égalitar\n",
      "écris\n",
      "zo\n",
      "à100\n",
      "élagu\n",
      "ïmpôt\n",
      "étrangers\n",
      "étrangersavec\n",
      "évacu\n",
      "étatplus\n",
      "évinc\n",
      "élève\n",
      "étais\n",
      "étudient\n",
      "ôté\n",
      "énergiebref\n",
      "zi\n",
      "évasionsoptimis\n",
      "éducation\n",
      "égocentr\n",
      "égorg\n",
      "étendus\n",
      "étrangerforf\n",
      "économiecroulent\n",
      "étouffent\n",
      "évader\n",
      "épur\n",
      "égalitéfratern\n",
      "échéanc\n",
      "écrêtag\n",
      "éducationpib\n",
      "épouvant\n",
      "évasionoptimis\n",
      "àdir\n",
      "éme\n",
      "ôtant\n",
      "îvest\n",
      "élevéimpôt\n",
      "émettent\n",
      "économiepour\n",
      "împot\n",
      "énergétiquefr\n",
      "évasion\n",
      "çàd\n",
      "étalag\n",
      "épuis\n",
      "àl\n",
      "écoles\n",
      "école\n",
      "œuvrent\n",
      "étaten\n",
      "élusqu\n",
      "éclaires\n",
      "écrem\n",
      "écologie\n",
      "écoli\n",
      "étoff\n",
      "écroul\n",
      "égoïst\n",
      "étatique\n",
      "élémentair\n",
      "écosystem\n",
      "épuisent\n",
      "émotionnel\n",
      "échange\n",
      "échangeurs\n",
      "élligibl\n",
      "étudiéesten\n",
      "étude\n",
      "ďépart\n",
      "évaluent\n",
      "étanch\n",
      "œouvr\n",
      "élusl\n",
      "épprouv\n",
      "émarg\n",
      "égoïsm\n",
      "émergent\n",
      "étatretrait\n",
      "étatindemn\n",
      "zéland\n",
      "étrangerharmonis\n",
      "èniem\n",
      "ôtaient\n",
      "émoluments\n",
      "à1k\n",
      "écologiquecertain\n",
      "équitablepourquoi\n",
      "époquenous\n",
      "ée\n",
      "écolo\n",
      "à11\n",
      "à17\n",
      "à23\n",
      "à31\n",
      "à41\n",
      "à46\n",
      "épluch\n",
      "équipag\n",
      "éphémer\n",
      "égauxc\n",
      "énergieamend\n",
      "étrangerpour\n",
      "élite\n",
      "égalitétous\n",
      "émul\n",
      "émeut\n",
      "émigrent\n",
      "ême\n",
      "étage\n",
      "éleveur\n",
      "électrogen\n",
      "étirag\n",
      "élyséen\n",
      "ye\n",
      "écologiques\n",
      "zézes\n",
      "zez\n",
      "étranger0\n",
      "écot\n",
      "zest\n",
      "yd\n",
      "étrangles\n",
      "élevésmoin\n",
      "étandr\n",
      "émanent\n",
      "ère\n",
      "égalitémoi\n",
      "échangent\n",
      "équites\n",
      "échelonnag\n",
      "émancip\n",
      "étages\n",
      "élan\n",
      "éloignent\n",
      "étrangères\n",
      "élevésfair\n",
      "împôt\n",
      "écologiquebeaucoup\n",
      "éxonérer\n",
      "écorn\n",
      "éxit\n",
      "énergivores\n",
      "étrangerartistessortifsindustrielsc\n",
      "yen\n",
      "éleph\n",
      "éradiquer\n",
      "élucubr\n",
      "écolesl\n",
      "évertu\n",
      "épargne\n",
      "évanou\n",
      "étiqu\n",
      "àla\n",
      "énergétiquenot\n",
      "yard\n",
      "énergieetc\n",
      "écœur\n",
      "éditeur\n",
      "éxonérations\n",
      "étè\n",
      "économieil\n",
      "âme\n",
      "égel\n",
      "éffet\n",
      "zrr\n",
      "étrangerexerc\n",
      "àlacharg\n",
      "éprouvent\n",
      "échantillon\n",
      "évaporent\n",
      "équilibréjust\n",
      "ėcransparad\n",
      "élevésquel\n",
      "équitablec\n",
      "élyse\n",
      "éleveursetc\n",
      "éducationnel\n",
      "étébeaucoup\n",
      "éoliennes\n",
      "évoluées\n",
      "zoo\n",
      "èr\n",
      "écolos\n",
      "échou\n",
      "zut\n",
      "économietouristiquec\n",
      "économisent\n",
      "étatet\n",
      "yak\n",
      "équivalenten\n",
      "élusrendr\n",
      "étrangersqu\n",
      "étiquet\n",
      "éduct\n",
      "élustout\n",
      "êxoner\n",
      "économisées\n",
      "électricitéinternet\n",
      "évoquent\n",
      "équipementhabill\n",
      "élast\n",
      "équivaudr\n",
      "équite\n",
      "étatcollect\n",
      "éliminent\n",
      "édictent\n",
      "élusfonctionnair\n",
      "âmelior\n",
      "énormément\n",
      "étenduesbaiss\n",
      "également\n",
      "ôte\n",
      "étapesrésultat\n",
      "élisent\n",
      "éviton\n",
      "étatvoir\n",
      "élog\n",
      "étend\n",
      "à35\n",
      "égalementl\n",
      "àusag\n",
      "étau\n",
      "yannick\n",
      "écoeur\n",
      "échos\n",
      "étatan\n",
      "à70\n",
      "échafaudag\n",
      "écrasent\n",
      "éteignent\n",
      "égot\n",
      "éclairc\n",
      "écur\n",
      "éloquent\n",
      "émettric\n",
      "électricited\n",
      "êtreauss\n",
      "ébauch\n",
      "éleg\n",
      "épic\n",
      "électro\n",
      "énervent\n",
      "φιλοσοφία\n",
      "βίου\n",
      "κυβερνήτης\n",
      "évaluationsreconduct\n",
      "yoyo\n",
      "étatvous\n",
      "éponym\n",
      "étatl\n",
      "éleve\n",
      "évitement\n",
      "égaltair\n",
      "énergied\n",
      "équitableafin\n",
      "économiecred\n",
      "étanché\n",
      "équivalents\n",
      "éthique\n",
      "éffect\n",
      "étiquetag\n",
      "évason\n",
      "évasions\n",
      "éprouv\n",
      "éduquer\n",
      "ètrang\n",
      "éducationlestransport\n",
      "élusupprim\n",
      "économiqueun\n",
      "èquit\n",
      "énigm\n",
      "ènorm\n",
      "échin\n",
      "éxécut\n",
      "échapent\n",
      "échoir\n",
      "énoncent\n",
      "étrangerc\n",
      "édulcor\n",
      "éparpill\n",
      "élusetc\n",
      "écolesd\n",
      "édict\n",
      "yakas\n",
      "évoquésil\n",
      "épisod\n",
      "égalité\n",
      "ân\n",
      "élusstopp\n",
      "éboueur\n",
      "équilibrage\n",
      "économisée\n",
      "ėlus\n",
      "évasionquand\n",
      "éfficient\n",
      "ype\n",
      "économison\n",
      "éffac\n",
      "éléctron\n",
      "éxager\n",
      "étatparticuli\n",
      "électrici\n",
      "établissementsn\n",
      "économic\n",
      "épreuv\n",
      "échalot\n",
      "évolution\n",
      "âgées\n",
      "écoled\n",
      "éveil\n",
      "yva\n",
      "zol\n",
      "éducationet\n",
      "éd\n",
      "écologiquent\n",
      "écrivent\n",
      "égalitaire\n",
      "émissaires\n",
      "éthiques\n",
      "économiemoin\n",
      "étatn\n",
      "œufslégum\n",
      "à110m2\n",
      "édil\n",
      "évat\n",
      "éveille\n",
      "économie\n",
      "économiquesc\n",
      "éducationsan\n",
      "élusains\n",
      "épidémie\n",
      "édouard\n",
      "étoiles\n",
      "zonerural\n",
      "épong\n",
      "zélandais\n",
      "yanke\n",
      "étendent\n",
      "éducationsant\n",
      "yaxb\n",
      "égalit\n",
      "élections\n",
      "équitablem\n",
      "émot\n",
      "énerv\n",
      "çapacit\n",
      "économico\n",
      "âgéeshandicap\n",
      "âr\n",
      "égauxtravailaid\n",
      "équpe\n",
      "éducationcompréhens\n",
      "éteign\n",
      "ĺa\n",
      "éduquées\n",
      "étiag\n",
      "économique\n",
      "égo\n",
      "économm\n",
      "étoufféepour\n",
      "épargner\n",
      "ñation\n",
      "électricite\n",
      "étrangerj\n",
      "étatprésident\n",
      "éliminatoir\n",
      "étranglent\n",
      "zinzins\n",
      "échiqui\n",
      "éternisent\n",
      "épinard\n",
      "étatapres\n",
      "épars\n",
      "élaborent\n",
      "zurichois\n",
      "zurich\n",
      "énergit\n",
      "étatà\n",
      "événementiel\n",
      "étymolog\n",
      "équivallent\n",
      "zoos\n",
      "œiller\n",
      "éventual\n",
      "équitablel\n",
      "équestr\n",
      "équithérap\n",
      "édicton\n",
      "émicicl\n",
      "étrangerentrepreneur\n",
      "événements\n",
      "élusparlementairesen\n",
      "étonnent\n",
      "à30\n",
      "étrangercel\n",
      "écrans\n",
      "éluimposit\n",
      "élud\n",
      "énergétiqueapres\n",
      "àisf\n",
      "électronique\n",
      "éleves\n",
      "établied\n",
      "yoacht\n",
      "études\n",
      "énergétique\n",
      "économiquesd\n",
      "écomom\n",
      "équitablement13\n",
      "êtes\n",
      "électricitéabon\n",
      "à04\n",
      "étapes\n",
      "éduquent\n",
      "âgéesdépendanteshandicapéesêtr\n",
      "étroitess\n",
      "zadist\n",
      "étrager\n",
      "zamboang\n",
      "youssef\n",
      "établissementdépend\n",
      "électricitè\n",
      "économiel\n",
      "éxerc\n",
      "zel\n",
      "évidemmentretrait\n",
      "équitable\n",
      "électrif\n",
      "égalent\n",
      "écolabellis\n",
      "ďévad\n",
      "étendard\n",
      "échelle\n",
      "économiquesocialesanitair\n",
      "électorales\n",
      "éponge\n",
      "évolutioncorrespond\n",
      "étui\n",
      "éleves500\n",
      "évalut\n",
      "über\n",
      "écologiquealimentair\n",
      "électionavantag\n",
      "ďun\n",
      "écolecollègelyc\n",
      "étagesbatimentspiscin\n",
      "électricitéeau\n",
      "économiquedepuis\n",
      "étasunien\n",
      "yog\n",
      "équitablefair\n",
      "yaourt\n",
      "épargnants\n",
      "égout\n",
      "ébranl\n",
      "µcour\n",
      "élusacteur\n",
      "éluacteur\n",
      "éteint\n",
      "ât\n",
      "yaut\n",
      "électris\n",
      "étatautoroutesaéroportfdj\n",
      "éclips\n",
      "égoist\n",
      "énergieseau\n",
      "éffectuent\n",
      "zeus\n",
      "épicentr\n",
      "étrangler\n",
      "émulsifi\n",
      "écolespiscinespetit\n",
      "àction\n",
      "économiestax\n",
      "émigres\n",
      "évict\n",
      "évdé\n",
      "économiseil\n",
      "émeuv\n",
      "étrangeril\n",
      "étatvoitur\n",
      "à20\n",
      "écologiquedon\n",
      "équivalentmultipli\n",
      "écoutent\n",
      "étenduem\n",
      "ïe\n",
      "étrangeroù\n",
      "ére\n",
      "épargnedevr\n",
      "êtresupprim\n",
      "écoleunivers\n",
      "équitables\n",
      "émoi\n",
      "élogi\n",
      "étéet\n",
      "élagag\n",
      "étourder\n",
      "étrangertax\n",
      "écologiqueetal\n",
      "épaisseur\n",
      "épais\n",
      "écoute\n",
      "éniem\n",
      "époumonent\n",
      "élusdéputéssen\n",
      "êtrefix\n",
      "écologiquetransport\n",
      "écrou\n",
      "zuckerberg\n",
      "éqit\n",
      "écoloqiquesbio\n",
      "ésoter\n",
      "épiderm\n",
      "énergieencor\n",
      "équipementsservic\n",
      "youtuber\n",
      "éthanol\n",
      "çi\n",
      "écouton\n",
      "ńy\n",
      "étatparc\n",
      "étatpourquoi\n",
      "æternam\n",
      "élargissantmêm\n",
      "équitéchaqu\n",
      "œufs\n",
      "yuan\n",
      "éducationd\n",
      "éperon\n",
      "équipent\n",
      "équitaxe\n",
      "yeuxl\n",
      "émérit\n",
      "étendon\n",
      "étatis\n",
      "échouon\n",
      "écoemballag\n",
      "épidem\n",
      "électricitépour\n",
      "évades\n",
      "égare\n",
      "zu\n",
      "étatrevoir\n",
      "élèves\n",
      "zins\n",
      "zin\n",
      "élupart\n",
      "étatssociet\n",
      "élusministr\n",
      "étourd\n",
      "écologieproduit\n",
      "équivalentpost\n",
      "étonnon\n",
      "yuk\n",
      "énergis\n",
      "young\n",
      "évêch\n",
      "élocu\n",
      "àvec\n",
      "yves\n",
      "énviron\n",
      "émiscicl\n",
      "équitablementjugul\n",
      "élec\n",
      "égalal\n",
      "électrec\n",
      "àeffectu\n",
      "za\n",
      "élevée\n",
      "étrangerfair\n",
      "yaourtscel\n",
      "youtubeur\n",
      "éconoim\n",
      "étrangè\n",
      "yatchsvoitur\n",
      "écrient\n",
      "étatisftax\n",
      "économieentrepris\n",
      "zonescommun\n",
      "étrangèresex\n",
      "écopent\n",
      "yémen\n",
      "étrnger\n",
      "émin\n",
      "évaluéespourquoi\n"
     ]
    }
   ],
   "source": [
    "for mot in vocab.keys():\n",
    "    if 29000 <vocab[mot]  :\n",
    "        print (mot)"
   ]
  },
  {
   "cell_type": "code",
   "execution_count": 22,
   "metadata": {
    "colab": {
     "base_uri": "https://localhost:8080/",
     "height": 164
    },
    "colab_type": "code",
    "id": "ZSA3f78Rmfnb",
    "outputId": "d5f7d38b-4c8a-4a4f-9a71-830748ff6138"
   },
   "outputs": [
    {
     "data": {
      "text/plain": [
       "(53716, 29638)"
      ]
     },
     "execution_count": 22,
     "metadata": {},
     "output_type": "execute_result"
    }
   ],
   "source": [
    "matrix_topic.shape"
   ]
  },
  {
   "cell_type": "code",
   "execution_count": 18,
   "metadata": {
    "colab": {},
    "colab_type": "code",
    "id": "f6sLFseUk5Ck"
   },
   "outputs": [],
   "source": [
    "def latent_decomposition(k, matrice, dictionnaire):\n",
    "  topics = []\n",
    "  u, s, vh = np.linalg.svd(matrice.T, full_matrices=False)\n",
    "  for index_topic in range(k):\n",
    "    indices = [i for i, x in enumerate(np.array(u[:,index_topic]>0.1).reshape(u.shape[0]).tolist()) if x]\n",
    "    word_topic = [x for x in dictionnaire.keys() if (dictionnaire[x] in indices)]\n",
    "    topics.append(word_topic)\n",
    "  return topics\n",
    "\n",
    "def latent_decomposition_from_corpus(corpus,k):\n",
    "  vectorizer = CountVectorizer()\n",
    "  matrix_topic =  vectorizer.fit_transform(corpus).todense() \n",
    "  vocab =  vectorizer.vocabulary_ \n",
    "  return latent_decomposition(k,matrix_topic,vocab)\n",
    "\n",
    "def latent_decomposition_from_question_id(id,k):\n",
    "  liste = list((responses[responses['questionId']=='163'])['formattedValue'])\n",
    "  corpus = preprocessing_list(liste)\n",
    "  return latent_decomposition_from_corpus(corpus,k)"
   ]
  },
  {
   "cell_type": "code",
   "execution_count": 84,
   "metadata": {},
   "outputs": [],
   "source": [
    "matrix = np.array(matrix).astype(float)"
   ]
  },
  {
   "cell_type": "code",
   "execution_count": 86,
   "metadata": {},
   "outputs": [
    {
     "data": {
      "text/plain": [
       "(1881, 1000)"
      ]
     },
     "execution_count": 86,
     "metadata": {},
     "output_type": "execute_result"
    }
   ],
   "source": [
    "matrix.T.shape"
   ]
  },
  {
   "cell_type": "code",
   "execution_count": 68,
   "metadata": {},
   "outputs": [],
   "source": [
    "from scipy.sparse.linalg import svds"
   ]
  },
  {
   "cell_type": "code",
   "execution_count": 98,
   "metadata": {},
   "outputs": [],
   "source": [
    "u, s, vh = svds((matrix.T), k=5)"
   ]
  },
  {
   "cell_type": "code",
   "execution_count": 99,
   "metadata": {},
   "outputs": [],
   "source": [
    "indices = [i for i, x in enumerate(np.array(u[:,1]>10e-6).reshape(u.shape[0]).tolist()) if x]\n",
    "word_topic = [x for x in dictionnaire.keys() if (dictionnaire[x] in indices)]"
   ]
  },
  {
   "cell_type": "code",
   "execution_count": 100,
   "metadata": {},
   "outputs": [
    {
     "name": "stdout",
     "output_type": "stream",
     "text": [
      "[]\n"
     ]
    }
   ],
   "source": [
    "print(word_topic)"
   ]
  },
  {
   "cell_type": "code",
   "execution_count": 101,
   "metadata": {},
   "outputs": [
    {
     "data": {
      "text/plain": [
       "(1881, 5)"
      ]
     },
     "execution_count": 101,
     "metadata": {},
     "output_type": "execute_result"
    }
   ],
   "source": [
    "u.shape"
   ]
  },
  {
   "cell_type": "code",
   "execution_count": null,
   "metadata": {},
   "outputs": [],
   "source": []
  }
 ],
 "metadata": {
  "colab": {
   "collapsed_sections": [
    "LDen2y3d47vU",
    "pgLrqmTm4PTi",
    "UJP2Wo-i4PTt"
   ],
   "name": "grand_debat_Dimitri.ipynb",
   "provenance": [],
   "version": "0.3.2"
  },
  "kernelspec": {
   "display_name": "Python 3",
   "language": "python",
   "name": "python3"
  },
  "language_info": {
   "codemirror_mode": {
    "name": "ipython",
    "version": 3
   },
   "file_extension": ".py",
   "mimetype": "text/x-python",
   "name": "python",
   "nbconvert_exporter": "python",
   "pygments_lexer": "ipython3",
   "version": "3.6.5"
  }
 },
 "nbformat": 4,
 "nbformat_minor": 1
}
