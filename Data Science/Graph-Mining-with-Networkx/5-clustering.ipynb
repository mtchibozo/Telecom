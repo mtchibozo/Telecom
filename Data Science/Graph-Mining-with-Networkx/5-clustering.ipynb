{
 "cells": [
  {
   "cell_type": "markdown",
   "metadata": {},
   "source": [
    "# SD212: Graph mining\n",
    "## Lab 5: Clustering\n",
    "\n",
    "You will learn how to cluster the nodes of a graph and to estimate the quality of the clustering. "
   ]
  },
  {
   "cell_type": "code",
   "execution_count": 3,
   "metadata": {},
   "outputs": [],
   "source": [
    "import networkx as nx\n",
    "actors_movies = nx.read_graphml(\"actors_movies.graphml\", node_type = int)"
   ]
  },
  {
   "cell_type": "markdown",
   "metadata": {},
   "source": [
    "## Import"
   ]
  },
  {
   "cell_type": "code",
   "execution_count": 4,
   "metadata": {},
   "outputs": [],
   "source": [
    "import networkx as nx"
   ]
  },
  {
   "cell_type": "markdown",
   "metadata": {},
   "source": [
    "The documentation is available [here](https://networkx.readthedocs.io/en/stable/)."
   ]
  },
  {
   "cell_type": "code",
   "execution_count": 5,
   "metadata": {},
   "outputs": [],
   "source": [
    "import numpy as np"
   ]
  },
  {
   "cell_type": "code",
   "execution_count": 6,
   "metadata": {},
   "outputs": [],
   "source": [
    "import warnings\n",
    "warnings.filterwarnings('ignore')"
   ]
  },
  {
   "cell_type": "code",
   "execution_count": 7,
   "metadata": {},
   "outputs": [],
   "source": [
    "import matplotlib.pyplot as plt"
   ]
  },
  {
   "cell_type": "code",
   "execution_count": 8,
   "metadata": {},
   "outputs": [
    {
     "name": "stdout",
     "output_type": "stream",
     "text": [
      "Populating the interactive namespace from numpy and matplotlib\n"
     ]
    }
   ],
   "source": [
    "%pylab inline"
   ]
  },
  {
   "cell_type": "markdown",
   "metadata": {},
   "source": [
    "## Data\n",
    "\n",
    "You will need the following datasets (the same as in previous labs, no need to download them again):\n",
    "* [Les Misérables](http://perso.telecom-paristech.fr/~bonald/graphs/miserables.graphml.gz)<br>  Graph connecting the characters of the [novel of Victor Hugo](https://fr.wikisource.org/wiki/Les_Misérables) when they appear in the same chapter. The graph is undirected and weighted. Weights correspond to the number of chapters in which characters appear together. \n",
    "* [Openflights](http://perso.telecom-paristech.fr/~bonald/graphs/openflights.graphml.gz)<br>\n",
    "Graph of the main international flights. Nodes are airports. The graph is undirected (all flights are bidirectional). Weights correspond to the number of daily flights between airports. Extracted from [Openflights](http://openflights.org).\n",
    "* [Wikipedia for schools](http://perso.telecom-paristech.fr/~bonald/graphs/wikipedia_schools.graphml.gz)<br> Graph of the hyperlinks between a subset of the pages of the English Wikipedia. The graph is directed and unweighted.\n",
    "More information [here](https://en.wikipedia.org/wiki/Wikipedia:Wikipedia_for_Schools).\n",
    "* [Actors-Movies](http://perso.telecom-paristech.fr/~bonald/graphs/actors_movies.graphml.gz)<br>\n",
    "Graph between actors and movies (a link exists if the actor stars in the movie). The graph is bipartite (see the field 'type' of each node). \n",
    "Extracted from [YaGo](http://yago-knowledge.org)."
   ]
  },
  {
   "cell_type": "markdown",
   "metadata": {},
   "source": [
    "## 1. Modularity\n",
    "\n",
    "Consider an undirected, unweighted graph of $n$ nodes and $m$ edges with adjacency matrix $A$, without self-loops.\n",
    "\n",
    "The modularity of clustering $C$ is defined by:\n",
    "$$\n",
    "Q(C) = \\frac 1 {2m} \\sum_{i,j\\in V} \\left(A_{ij} - \\frac {d_id_j}{2m}\\right) \\delta_{C(i),C(j)}\n",
    "$$\n",
    "where $d_i = \\sum_j A_{ij}$ is the degree of node $i$.\n",
    "\n",
    "The modularity can also be written:\n",
    "$$\n",
    "Q(C) = \\sum_k  \\frac{m_k}{m} - \\sum_k  \\left( \\frac{v_k}{v}\\right)^2\n",
    "$$\n",
    "where\n",
    "* $m_k$ is the number of edges in cluster $k$  \n",
    "* $v_k $ is the volume of cluster $k$ (total degree of nodes in the cluster)\n",
    "* $v$ is the volume of the graph (total degree of nodes)\n",
    "\n",
    "The definition extends to a weighted graph as follows:\n",
    "$$\n",
    "Q(C) = \\sum_k  \\frac{w_k}{w} - \\sum_k  \\left( \\frac{v_k}{v}\\right)^2\n",
    "$$\n",
    "where\n",
    "* $w_k$ is the weight of cluster $k$ (total weight of edges in the cluster)\n",
    "* $w$ is the weight of the graph (total weight of edges in the graph)"
   ]
  },
  {
   "cell_type": "markdown",
   "metadata": {},
   "source": [
    "## Toy graph\n",
    "\n",
    "Consider the following graph:"
   ]
  },
  {
   "cell_type": "code",
   "execution_count": 9,
   "metadata": {},
   "outputs": [],
   "source": [
    "edges = [(7,5),(5,3),(3,7),(4,5),(8,6),(7,4),(1,6),(9,8),(7,8),(6,1),(2,9),(8,2),(1,9)]\n",
    "graph = nx.Graph()\n",
    "graph.add_edges_from(edges)"
   ]
  },
  {
   "cell_type": "markdown",
   "metadata": {},
   "source": [
    "with the following clustering:"
   ]
  },
  {
   "cell_type": "code",
   "execution_count": 10,
   "metadata": {},
   "outputs": [],
   "source": [
    "C = {1: 0, 2: 0, 6: 0, 8: 0, 9: 0, 3: 1, 4: 1, 5: 1, 7: 1}"
   ]
  },
  {
   "cell_type": "markdown",
   "metadata": {},
   "source": [
    "Visualization:"
   ]
  },
  {
   "cell_type": "code",
   "execution_count": 11,
   "metadata": {},
   "outputs": [],
   "source": [
    "pos = nx.spring_layout(graph)"
   ]
  },
  {
   "cell_type": "code",
   "execution_count": 12,
   "metadata": {},
   "outputs": [],
   "source": [
    "prop_cycle = plt.rcParams['axes.prop_cycle']\n",
    "colors = prop_cycle.by_key()['color']"
   ]
  },
  {
   "cell_type": "code",
   "execution_count": 13,
   "metadata": {},
   "outputs": [],
   "source": [
    "node_colors = [colors[C[u] % len(colors)] for u in graph.nodes()]"
   ]
  },
  {
   "cell_type": "code",
   "execution_count": 14,
   "metadata": {
    "scrolled": true
   },
   "outputs": [
    {
     "data": {
      "image/png": "[encoded data removed]",
      "text/plain": [
       "<matplotlib.figure.Figure at 0x7f47fba63710>"
      ]
     },
     "metadata": {},
     "output_type": "display_data"
    }
   ],
   "source": [
    "plt.figure(figsize = (6,3))\n",
    "nx.draw(graph, pos, node_size = 400, node_color = node_colors, with_labels = True)\n",
    "plt.show()"
   ]
  },
  {
   "cell_type": "markdown",
   "metadata": {},
   "source": [
    "## To do\n",
    "\n",
    "* What is the fraction of edges within clusters?\n",
    "* What is the Simpson's index associated with the volume distribution between clusters?\n",
    "* Deduce the modularity of the clustering. \n",
    "* What is the maximum value of modularity for 2 clusters?\n",
    "* Complete the function `get_modularity` below and check it on the above graph."
   ]
  },
  {
   "cell_type": "markdown",
   "metadata": {},
   "source": [
    "Blue = 2 + 3 + 2 + 3 + 2 = 12            \n",
    "Orange = 3 + 2 + 3 + 2 = 10"
   ]
  },
  {
   "cell_type": "code",
   "execution_count": 15,
   "metadata": {},
   "outputs": [
    {
     "name": "stdout",
     "output_type": "stream",
     "text": [
      "0.41319444444444464\n",
      "Maximum modularity of two clusters is 1 - 1/K = 0.5\n"
     ]
    }
   ],
   "source": [
    "Q = 6 / 12 + 5 / 12 - (13/24)**2 - (11/24)**2\n",
    "print(Q)\n",
    "print(\"Maximum modularity of two clusters is 1 - 1/K = 0.5\" )"
   ]
  },
  {
   "cell_type": "code",
   "execution_count": 16,
   "metadata": {},
   "outputs": [],
   "source": [
    "def get_modularity(graph,C):\n",
    "    '''\n",
    "    graph: networkx graph\n",
    "        undirected graph (possibly weighted)\n",
    "    C: dictionary\n",
    "        cluster of each node\n",
    "        \n",
    "    Returns: float\n",
    "        modularity\n",
    "    '''\n",
    "    # add weights if none\n",
    "    if nx.get_edge_attributes(graph,'weight') == {}:\n",
    "        for u,v in graph.edges():\n",
    "            graph[u][v]['weight'] = 1\n",
    "            \n",
    "    cluster = set(C.values())\n",
    "    cluster_weight = {k: 0 for k in cluster}\n",
    "    cluster_volume = {k: 0 for k in cluster}\n",
    "    m = float(len(edges))\n",
    "    clusters = list(C.values())\n",
    "    for u,v in graph.edges():\n",
    "        if (clusters[u-1] == clusters[v-1]):\n",
    "            cluster_weight[clusters[u-1]] = cluster_weight[clusters[u-1]] + graph[u][v]['weight']\n",
    "    for u in graph.nodes():\n",
    "        summ = 0\n",
    "        for x,v in graph.edges():\n",
    "            if (x==u or v==u):\n",
    "                summ = summ + graph[x][v]['weight']\n",
    "        cluster_volume[clusters[u-1]] = cluster_volume[clusters[u-1]] + summ\n",
    "    Q = 0\n",
    "    for i in cluster:\n",
    "        Q = Q + (cluster_weight[i] / m) - (cluster_volume[i]/(2*m))**2\n",
    "        #((m1 + m2) / m) - (v1/v)**2 - (v2/v)**2\n",
    "    return Q"
   ]
  },
  {
   "cell_type": "code",
   "execution_count": 17,
   "metadata": {},
   "outputs": [
    {
     "data": {
      "text/plain": [
       "0.4171597633136096"
      ]
     },
     "execution_count": 17,
     "metadata": {},
     "output_type": "execute_result"
    }
   ],
   "source": [
    "get_modularity(graph, C)"
   ]
  },
  {
   "cell_type": "markdown",
   "metadata": {},
   "source": [
    "## Stochastic block model"
   ]
  },
  {
   "cell_type": "markdown",
   "metadata": {},
   "source": [
    "The [stochastic block model](https://en.wikipedia.org/wiki/Stochastic_block_model) is a random graph with an underlying structure in clusters (the blocks)."
   ]
  },
  {
   "cell_type": "code",
   "execution_count": 18,
   "metadata": {},
   "outputs": [],
   "source": [
    "block_sizes = [10, 15, 20]\n",
    "p_in = 0.4 # probability of connection within blocks\n",
    "p_out = 0.02 # probability of connection across blocks\n",
    "graph = nx.random_partition_graph(sizes = block_sizes, p_in = p_in, p_out = p_out,seed = 0)\n",
    "pos = nx.spring_layout(graph)"
   ]
  },
  {
   "cell_type": "code",
   "execution_count": 19,
   "metadata": {},
   "outputs": [],
   "source": [
    "pos = nx.spring_layout(graph)"
   ]
  },
  {
   "cell_type": "code",
   "execution_count": 20,
   "metadata": {},
   "outputs": [
    {
     "data": {
      "image/png": "[encoded data removed]",
      "text/plain": [
       "<matplotlib.figure.Figure at 0x7f47fa6734e0>"
      ]
     },
     "metadata": {},
     "output_type": "display_data"
    }
   ],
   "source": [
    "plt.figure(figsize = (6,4))\n",
    "nx.draw(graph, pos, node_size = 400, node_color = 'gray', with_labels = True)\n",
    "plt.show()"
   ]
  },
  {
   "cell_type": "markdown",
   "metadata": {},
   "source": [
    "## To do\n",
    "\n",
    "* Propose a clustering for this graph and compute the modularity.\n",
    "* What is the strongest cluster? \n",
    "* Complete the function `get_cluster_strength` below and check your guess.\n",
    "* Comment the results.\n",
    "\n",
    "**Hint:** Recall that the strength of cluster $k$ is defined by: $$\\frac{2w_k }{ v_k}.$$"
   ]
  },
  {
   "cell_type": "code",
   "execution_count": 21,
   "metadata": {},
   "outputs": [
    {
     "data": {
      "text/plain": [
       "{0: 0,\n",
       " 1: 0,\n",
       " 2: 0,\n",
       " 3: 0,\n",
       " 4: 0,\n",
       " 5: 0,\n",
       " 6: 0,\n",
       " 7: 0,\n",
       " 8: 0,\n",
       " 9: 0,\n",
       " 10: 1,\n",
       " 11: 1,\n",
       " 12: 1,\n",
       " 13: 1,\n",
       " 14: 1,\n",
       " 15: 1,\n",
       " 16: 1,\n",
       " 17: 1,\n",
       " 18: 1,\n",
       " 19: 1,\n",
       " 20: 1,\n",
       " 21: 1,\n",
       " 22: 1,\n",
       " 23: 1,\n",
       " 24: 1,\n",
       " 25: 2,\n",
       " 26: 2,\n",
       " 27: 2,\n",
       " 28: 2,\n",
       " 29: 2,\n",
       " 30: 2,\n",
       " 31: 2,\n",
       " 32: 2,\n",
       " 33: 2,\n",
       " 34: 2,\n",
       " 35: 2,\n",
       " 36: 2,\n",
       " 37: 2,\n",
       " 38: 2,\n",
       " 39: 2,\n",
       " 40: 2,\n",
       " 41: 2,\n",
       " 42: 2,\n",
       " 43: 2,\n",
       " 44: 2}"
      ]
     },
     "execution_count": 21,
     "metadata": {},
     "output_type": "execute_result"
    }
   ],
   "source": [
    "C = dict([(el,0) for el in [i for i in range(10)]]+[(el,1) for el in [i for i in range(10,25)]]+[(el,2) for el in [i for i in range(25,45)]])\n",
    "C"
   ]
  },
  {
   "cell_type": "code",
   "execution_count": 22,
   "metadata": {},
   "outputs": [],
   "source": [
    "def get_cluster_strength(graph,C):\n",
    "    '''\n",
    "    graph: networkx graph\n",
    "        undirected graph (possibly weighted)\n",
    "    C: dictionary\n",
    "        cluster of each node\n",
    "        \n",
    "    Returns: dictionary\n",
    "        strength of each cluster\n",
    "    '''\n",
    "    \n",
    "    # add weights if none\n",
    "    if nx.get_edge_attributes(graph,'weight') == {}:\n",
    "        for u,v in graph.edges():\n",
    "            graph[u][v]['weight'] = 1\n",
    "    \n",
    "    cluster = set(C.values())\n",
    "    cluster_weight = {k: 0 for k in cluster}\n",
    "    cluster_volume = {k: 0 for k in cluster}\n",
    "    cluster_strength = {k: 0 for k in cluster}\n",
    "    # to be completed\n",
    "    \n",
    "\n",
    "    m = float(len(edges))\n",
    "    clusters = list(C.values())\n",
    "    for u,v in graph.edges():\n",
    "        print(u,v)\n",
    "        if (clusters[u-1] == clusters[v-1]):\n",
    "            cluster_weight[clusters[u-1]] = cluster_weight[clusters[u-1]] + graph[u][v]['weight']\n",
    "    for u in graph.nodes():\n",
    "        summ = 0\n",
    "        for x,v in graph.edges():\n",
    "            if (x==u or v==u):\n",
    "                summ = summ + graph[x][v]['weight']\n",
    "        cluster_volume[clusters[u-1]] = cluster_volume[clusters[u-1]] + summ\n",
    "    \n",
    "    for i in cluster_strength.keys():\n",
    "        cluster_strength[i] = 2*cluster_weight[i] / cluster_volume[i]\n",
    "    return cluster_strength"
   ]
  },
  {
   "cell_type": "code",
   "execution_count": 23,
   "metadata": {},
   "outputs": [
    {
     "name": "stdout",
     "output_type": "stream",
     "text": [
      "0 8\n",
      "0 33\n",
      "0 4\n",
      "0 44\n",
      "1 8\n",
      "1 5\n",
      "2 44\n",
      "2 6\n",
      "3 5\n",
      "4 7\n",
      "5 8\n",
      "5 6\n",
      "5 16\n",
      "6 8\n",
      "7 9\n",
      "7 15\n",
      "8 9\n",
      "8 29\n",
      "10 24\n",
      "10 13\n",
      "11 19\n",
      "11 29\n",
      "11 13\n",
      "11 14\n",
      "11 15\n",
      "12 17\n",
      "12 15\n",
      "13 18\n",
      "13 23\n",
      "14 16\n",
      "14 18\n",
      "14 20\n",
      "14 21\n",
      "14 23\n",
      "14 34\n",
      "14 15\n",
      "15 24\n",
      "15 19\n",
      "15 23\n",
      "15 42\n",
      "16 18\n",
      "16 19\n",
      "16 22\n",
      "16 23\n",
      "16 21\n",
      "17 19\n",
      "17 36\n",
      "17 21\n",
      "17 22\n",
      "17 23\n",
      "18 19\n",
      "18 20\n",
      "18 22\n",
      "18 23\n",
      "19 20\n",
      "19 21\n",
      "20 21\n",
      "20 24\n",
      "20 34\n",
      "21 24\n",
      "22 25\n",
      "22 23\n",
      "23 34\n",
      "25 27\n",
      "25 38\n",
      "25 39\n",
      "25 41\n",
      "25 26\n",
      "25 43\n",
      "25 44\n",
      "25 29\n",
      "26 27\n",
      "26 33\n",
      "26 35\n",
      "26 36\n",
      "26 38\n",
      "26 41\n",
      "26 43\n",
      "26 44\n",
      "27 34\n",
      "27 36\n",
      "27 37\n",
      "27 39\n",
      "27 40\n",
      "27 44\n",
      "27 29\n",
      "28 32\n",
      "28 33\n",
      "28 35\n",
      "28 36\n",
      "28 38\n",
      "28 41\n",
      "28 42\n",
      "28 44\n",
      "28 30\n",
      "29 33\n",
      "29 37\n",
      "29 38\n",
      "29 39\n",
      "29 41\n",
      "29 30\n",
      "29 31\n",
      "30 35\n",
      "30 41\n",
      "30 42\n",
      "30 44\n",
      "31 32\n",
      "31 35\n",
      "31 37\n",
      "31 38\n",
      "31 44\n",
      "32 34\n",
      "32 36\n",
      "32 37\n",
      "32 38\n",
      "32 39\n",
      "32 41\n",
      "32 42\n",
      "32 43\n",
      "33 34\n",
      "33 35\n",
      "33 36\n",
      "33 38\n",
      "34 39\n",
      "34 44\n",
      "35 36\n",
      "35 37\n",
      "35 39\n",
      "35 42\n",
      "35 43\n",
      "36 37\n",
      "36 41\n",
      "36 44\n",
      "37 40\n",
      "38 39\n",
      "38 40\n",
      "38 43\n",
      "39 41\n",
      "39 42\n",
      "39 43\n",
      "40 43\n",
      "41 42\n"
     ]
    },
    {
     "data": {
      "text/plain": [
       "{0: 0.7142857142857143, 1: 0.8043478260869565, 2: 0.8902439024390244}"
      ]
     },
     "execution_count": 23,
     "metadata": {},
     "output_type": "execute_result"
    }
   ],
   "source": [
    "get_cluster_strength(graph,C)"
   ]
  },
  {
   "cell_type": "markdown",
   "metadata": {},
   "source": [
    "## 2. The Louvain algorithm"
   ]
  },
  {
   "cell_type": "markdown",
   "metadata": {},
   "source": [
    "The Louvain algorithm attempts to maximize modularity as follows:\n",
    "1. **(Initialization)** $C \\gets \\text{identity}$ \n",
    "2.  **(Maximization)** While modularity increases, update $C$ by moving one node  from its cluster to one of its neighbors\n",
    "3. **(Aggregation)** Merge all nodes belonging to the same cluster into a single node, update the weights accordingly and apply step 2 to the  aggregate graph\n",
    "\n",
    "In step 2, nodes are considered in a cyclic way. The target cluster of a node is chosen among  its neighbors as that providing the **largest gain** in modularity, if any."
   ]
  },
  {
   "cell_type": "markdown",
   "metadata": {},
   "source": [
    "## To do\n",
    "\n",
    "* Complete the function `maximize_modularity` corresponding to step 2.\n",
    "* Test your `louvain` function on the stochastic block model.\n",
    "* Test different resolution parameters."
   ]
  },
  {
   "cell_type": "code",
   "execution_count": 24,
   "metadata": {},
   "outputs": [],
   "source": [
    "def maximize_modularity(graph, resolution):\n",
    "    '''\n",
    "    graph: networkx graph\n",
    "        undirected graph \n",
    "    resolution: float\n",
    "        resolution parameter (positive)\n",
    "        \n",
    "    Returns: dictionary\n",
    "        cluster of each node\n",
    "    '''\n",
    "    m = len(list(graph.edges()))\n",
    "    node_weight = {u: 0. for u in graph.nodes()}\n",
    "    w = 0\n",
    "    for u,v in graph.edges():\n",
    "        node_weight[u] += graph[u][v]['weight']\n",
    "        node_weight[v] += graph[u][v]['weight']\n",
    "        w += graph[u][v]['weight']\n",
    "    # init the clustering\n",
    "    C = {u:u for u in graph.nodes()}\n",
    "    # cluster weights\n",
    "    cluster_weight = {u: node_weight[u] for u in graph.nodes()}\n",
    "    # node-cluster weights (between each node and the clusters)\n",
    "    node_cluster_weight = {u:{v: 1. * graph[u][v]['weight'] for v in graph.neighbors(u) if v != u} \n",
    "                           for u in graph.nodes()}\n",
    "    increase = True\n",
    "    while increase:\n",
    "        increase = False\n",
    "        for u in graph.nodes():\n",
    "            k = C[u]            \n",
    "            if k not in node_cluster_weight[u]:\n",
    "                node_cluster_weight[u][k] = 0\n",
    "            variation = {k: 0}\n",
    "            for l in C.keys():\n",
    "                if (l!=k and (l in node_cluster_weight[u])):\n",
    "                    variation[l] = (1/float(w)) * (node_cluster_weight[u][l] - node_cluster_weight[u][k]) - 2*resolution*node_weight[u]*(cluster_weight[l] - cluster_weight[k] + node_weight[u])/(4 * (m**2))\n",
    "            l = max(variation, key = variation.get)\n",
    "            if variation[l] > 0:\n",
    "                increase = True\n",
    "                # move node u from cluster k to cluster l\n",
    "                C[u] = l\n",
    "                cluster_weight[k] -= node_weight[u]\n",
    "                cluster_weight[l] += node_weight[u]\n",
    "                for v in graph.neighbors(u):\n",
    "                    if v != u:\n",
    "                        node_cluster_weight[v][k] -= graph[u][v]['weight']\n",
    "                        if node_cluster_weight[v][k] <= 0:\n",
    "                            node_cluster_weight[v].pop(k)\n",
    "                        if l not in node_cluster_weight[v]:\n",
    "                            node_cluster_weight[v][l] = 0\n",
    "                        node_cluster_weight[v][l] += graph[u][v]['weight']\n",
    "    return C"
   ]
  },
  {
   "cell_type": "code",
   "execution_count": 25,
   "metadata": {},
   "outputs": [],
   "source": [
    "def aggregate_graph(graph,C):\n",
    "    '''\n",
    "    graph: networkx graph\n",
    "        undirected graph \n",
    "    C: dictionary\n",
    "        cluster of each node\n",
    "        \n",
    "    Returns: networkx graph\n",
    "        aggregate graph with one node per cluster\n",
    "    '''\n",
    "\n",
    "    aggregate_graph_ = nx.Graph()\n",
    "    aggregate_graph_.add_nodes_from(set(C.values()))\n",
    "    for u,v in graph.edges():\n",
    "        if aggregate_graph_.has_edge(C[u],C[v]):\n",
    "            aggregate_graph_[C[u]][C[v]]['weight'] += graph[u][v]['weight']\n",
    "        else:\n",
    "            aggregate_graph_.add_edge(C[u],C[v])\n",
    "            aggregate_graph_[C[u]][C[v]]['weight'] = graph[u][v]['weight']\n",
    "    return aggregate_graph_"
   ]
  },
  {
   "cell_type": "code",
   "execution_count": 26,
   "metadata": {},
   "outputs": [],
   "source": [
    "def louvain(graph,resolution = 1):\n",
    "    '''\n",
    "    graph: networkx graph\n",
    "        undirected graph \n",
    "    resolution: float\n",
    "        resolution parameter (positive)\n",
    "        \n",
    "    Returns: dictionary\n",
    "        cluster of each node\n",
    "    '''\n",
    "\n",
    "    if nx.get_edge_attributes(graph,'weight') == {}:\n",
    "        for u,v in graph.edges():\n",
    "            graph[u][v]['weight'] = 1\n",
    "\n",
    "    C = maximize_modularity(graph, resolution)\n",
    "    n = len(C)\n",
    "    k = len(set(C.values()))\n",
    "    while k < n:\n",
    "        aggregate_graph_ = aggregate_graph(graph,C) \n",
    "        C_new = maximize_modularity(aggregate_graph_, resolution)\n",
    "        C = {u: C_new[C[u]] for u in graph.nodes()}\n",
    "        n = k\n",
    "        k = len(set(C_new.values()))\n",
    "    # reindex clusters in decreasing order of size\n",
    "    clusters = list(set(C.values()))\n",
    "    cluster_size = {k: 0 for k in clusters}\n",
    "    for u in C:\n",
    "        cluster_size[C[u]] += 1\n",
    "    cluster_index = sorted(cluster_size, key = cluster_size.get, reverse = True)\n",
    "    reindex = {k:i for i,k in enumerate(cluster_index)}\n",
    "    C = {u:reindex[C[u]] for u in C}\n",
    "    return C"
   ]
  },
  {
   "cell_type": "code",
   "execution_count": 27,
   "metadata": {},
   "outputs": [
    {
     "name": "stdout",
     "output_type": "stream",
     "text": [
      "0 8\n",
      "0 33\n",
      "0 4\n",
      "0 44\n",
      "1 8\n",
      "1 5\n",
      "2 44\n",
      "2 6\n",
      "3 5\n",
      "4 7\n",
      "5 8\n",
      "5 6\n",
      "5 16\n",
      "6 8\n",
      "7 9\n",
      "7 15\n",
      "8 9\n",
      "8 29\n",
      "10 24\n",
      "10 13\n",
      "11 19\n",
      "11 29\n",
      "11 13\n",
      "11 14\n",
      "11 15\n",
      "12 17\n",
      "12 15\n",
      "13 18\n",
      "13 23\n",
      "14 16\n",
      "14 18\n",
      "14 20\n",
      "14 21\n",
      "14 23\n",
      "14 34\n",
      "14 15\n",
      "15 24\n",
      "15 19\n",
      "15 23\n",
      "15 42\n",
      "16 18\n",
      "16 19\n",
      "16 22\n",
      "16 23\n",
      "16 21\n",
      "17 19\n",
      "17 36\n",
      "17 21\n",
      "17 22\n",
      "17 23\n",
      "18 19\n",
      "18 20\n",
      "18 22\n",
      "18 23\n",
      "19 20\n",
      "19 21\n",
      "20 21\n",
      "20 24\n",
      "20 34\n",
      "21 24\n",
      "22 25\n",
      "22 23\n",
      "23 34\n",
      "25 27\n",
      "25 38\n",
      "25 39\n",
      "25 41\n",
      "25 26\n",
      "25 43\n",
      "25 44\n",
      "25 29\n",
      "26 27\n",
      "26 33\n",
      "26 35\n",
      "26 36\n",
      "26 38\n",
      "26 41\n",
      "26 43\n",
      "26 44\n",
      "27 34\n",
      "27 36\n",
      "27 37\n",
      "27 39\n",
      "27 40\n",
      "27 44\n",
      "27 29\n",
      "28 32\n",
      "28 33\n",
      "28 35\n",
      "28 36\n",
      "28 38\n",
      "28 41\n",
      "28 42\n",
      "28 44\n",
      "28 30\n",
      "29 33\n",
      "29 37\n",
      "29 38\n",
      "29 39\n",
      "29 41\n",
      "29 30\n",
      "29 31\n",
      "30 35\n",
      "30 41\n",
      "30 42\n",
      "30 44\n",
      "31 32\n",
      "31 35\n",
      "31 37\n",
      "31 38\n",
      "31 44\n",
      "32 34\n",
      "32 36\n",
      "32 37\n",
      "32 38\n",
      "32 39\n",
      "32 41\n",
      "32 42\n",
      "32 43\n",
      "33 34\n",
      "33 35\n",
      "33 36\n",
      "33 38\n",
      "34 39\n",
      "34 44\n",
      "35 36\n",
      "35 37\n",
      "35 39\n",
      "35 42\n",
      "35 43\n",
      "36 37\n",
      "36 41\n",
      "36 44\n",
      "37 40\n",
      "38 39\n",
      "38 40\n",
      "38 43\n",
      "39 41\n",
      "39 42\n",
      "39 43\n",
      "40 43\n",
      "41 42\n"
     ]
    },
    {
     "data": {
      "text/plain": [
       "{0: 0.8043478260869565,\n",
       " 1: 0.5052631578947369,\n",
       " 2: 0.2318840579710145,\n",
       " 3: 0.46153846153846156,\n",
       " 4: 0.4}"
      ]
     },
     "execution_count": 27,
     "metadata": {},
     "output_type": "execute_result"
    }
   ],
   "source": [
    "C = louvain(graph)\n",
    "get_cluster_strength(graph,C)"
   ]
  },
  {
   "cell_type": "markdown",
   "metadata": {},
   "source": [
    "## Real data\n",
    "\n",
    "The function `get_clusters` below returns the clusters as lists of nodes in decreasing order of weight."
   ]
  },
  {
   "cell_type": "code",
   "execution_count": 28,
   "metadata": {},
   "outputs": [],
   "source": [
    "def get_clusters(graph, C):\n",
    "    '''\n",
    "    graph: networkx graph\n",
    "        undirected graph \n",
    "    C: dictionary\n",
    "        cluster of each node\n",
    "        \n",
    "    Returns: dictionary of lists\n",
    "        for each cluster, nodes are listed in decreasing order of weight\n",
    "    '''\n",
    "\n",
    "    if nx.get_edge_attributes(graph,'weight') == {}:\n",
    "        for u,v in graph.edges():\n",
    "            graph[u][v]['weight'] = 1\n",
    "\n",
    "    node_weight = {u: 0 for u in graph.nodes()}\n",
    "    for u,v in graph.edges():\n",
    "        node_weight[u] += graph[u][v]['weight']\n",
    "        node_weight[v] += graph[u][v]['weight']\n",
    "        \n",
    "    clusters = list(set(C.values()))\n",
    "    cluster_nodes = {k:{} for k in clusters}\n",
    "    for u in graph.nodes():\n",
    "        cluster_nodes[C[u]][u] = node_weight[u]\n",
    "\n",
    "    cluster_nodes = {k: sorted(cluster_nodes[k], key = cluster_nodes[k].get, reverse = True)\n",
    "                             for k in clusters}\n",
    "        \n",
    "    return cluster_nodes"
   ]
  },
  {
   "cell_type": "code",
   "execution_count": 29,
   "metadata": {},
   "outputs": [
    {
     "data": {
      "text/plain": [
       "{0: [14, 15, 23, 16, 18, 19, 17, 20, 21, 11, 22, 13, 24, 10, 12],\n",
       " 1: [29, 32, 38, 39, 25, 27, 34, 43, 37, 31, 40],\n",
       " 2: [35, 36, 44, 41, 26, 28, 33, 42, 30],\n",
       " 3: [8, 5, 6, 1, 2, 3],\n",
       " 4: [0, 7, 9, 4]}"
      ]
     },
     "execution_count": 29,
     "metadata": {},
     "output_type": "execute_result"
    }
   ],
   "source": [
    "get_clusters(graph,C)"
   ]
  },
  {
   "cell_type": "markdown",
   "metadata": {},
   "source": [
    "## To do\n",
    "\n",
    "* List the top-3 characters of each cluster of Les Miserables (resolution 1).\n",
    "* List the top-3 airports of each cluster of Openflights (resolutions 1 and 2); visualize the clusters, with the associate top airports.\n",
    "* List the top-5 pages of the 20 largest clusters of Wikipedia for Schools (resolution 2). Compare the results obtained when the graph is considered as undirected and bipartite.\n",
    "* List the top-5 actors in the cluster of **Marion Cotillard** in the actors-movies graph (resolution 10).\n",
    "\n",
    "**Note:** You may compute the size and strength of each cluster."
   ]
  },
  {
   "cell_type": "code",
   "execution_count": 30,
   "metadata": {},
   "outputs": [],
   "source": [
    "miserables = nx.read_graphml(\"miserables.graphml\", node_type = int)"
   ]
  },
  {
   "cell_type": "code",
   "execution_count": 31,
   "metadata": {},
   "outputs": [],
   "source": [
    "openflights = nx.read_graphml(\"openflights.graphml\", node_type = int)"
   ]
  },
  {
   "cell_type": "code",
   "execution_count": 32,
   "metadata": {},
   "outputs": [],
   "source": [
    "wikipedia = nx.read_graphml(\"wikipedia_schools.graphml\", node_type = int)"
   ]
  },
  {
   "cell_type": "code",
   "execution_count": 33,
   "metadata": {},
   "outputs": [],
   "source": [
    "wikipedia_undirected = wikipedia.to_undirected()"
   ]
  },
  {
   "cell_type": "code",
   "execution_count": 34,
   "metadata": {},
   "outputs": [],
   "source": [
    "def bipartite_from_directed(graph):\n",
    "    '''\n",
    "    graph: networkx graph\n",
    "        directed graph \n",
    "        \n",
    "    Returns: networkx graph\n",
    "        undirected, bipartite graph\n",
    "    '''    \n",
    "    new_graph = nx.Graph()\n",
    "    nodes = list(graph.nodes())\n",
    "    if nodes == list(np.arange(len(nodes))):\n",
    "        new_graph.add_nodes_from(nodes)\n",
    "        new_graph.add_nodes_from(list(np.arange(-len(nodes),0)))\n",
    "        edges = [(u,-v-1) for u,v in graph.edges()]\n",
    "        new_graph.add_edges_from(edges)\n",
    "    else:\n",
    "        print('Nodes must be indexed from 0 to n-1.')\n",
    "    return new_graph"
   ]
  },
  {
   "cell_type": "code",
   "execution_count": 35,
   "metadata": {},
   "outputs": [],
   "source": [
    "wikipedia_bipartite = bipartite_from_directed(wikipedia)"
   ]
  },
  {
   "cell_type": "code",
   "execution_count": 36,
   "metadata": {},
   "outputs": [],
   "source": [
    "actors_movies = nx.read_graphml(\"actors_movies.graphml\", node_type = int)"
   ]
  },
  {
   "cell_type": "code",
   "execution_count": 37,
   "metadata": {},
   "outputs": [],
   "source": [
    "marion_cotillard = 5172"
   ]
  },
  {
   "cell_type": "code",
   "execution_count": 38,
   "metadata": {},
   "outputs": [],
   "source": [
    "def louvain_resolution(graph,resolution):\n",
    "    '''\n",
    "    graph: networkx graph\n",
    "        undirected graph \n",
    "    resolution: float\n",
    "        resolution parameter (positive)\n",
    "        \n",
    "    Returns: dictionary\n",
    "        cluster of each node\n",
    "    '''\n",
    "\n",
    "    if nx.get_edge_attributes(graph,'weight') == {}:\n",
    "        for u,v in graph.edges():\n",
    "            graph[u][v]['weight'] = 1\n",
    "\n",
    "    C = maximize_modularity(graph, resolution)\n",
    "    n = len(C)\n",
    "    k = len(set(C.values()))\n",
    "    while k < n:\n",
    "        aggregate_graph_ = aggregate_graph(graph,C) \n",
    "        C_new = maximize_modularity(aggregate_graph_, resolution)\n",
    "        C = {u: C_new[C[u]] for u in graph.nodes()}\n",
    "        n = k\n",
    "        k = len(set(C_new.values()))\n",
    "    # reindex clusters in decreasing order of size\n",
    "    clusters = list(set(C.values()))\n",
    "    cluster_size = {k: 0 for k in clusters}\n",
    "    for u in C:\n",
    "        cluster_size[C[u]] += 1\n",
    "    cluster_index = sorted(cluster_size, key = cluster_size.get, reverse = True)\n",
    "    reindex = {k:i for i,k in enumerate(cluster_index)}\n",
    "    C = {u:reindex[C[u]] for u in C}\n",
    "    return C"
   ]
  },
  {
   "cell_type": "code",
   "execution_count": 39,
   "metadata": {},
   "outputs": [
    {
     "data": {
      "text/plain": [
       "{0: [0, 3, 2, 8, 1, 4, 5, 6, 7, 9],\n",
       " 1: [34, 35, 36, 37, 38, 29],\n",
       " 2: [69, 68, 70, 75, 71],\n",
       " 3: [49, 51, 54, 56, 53],\n",
       " 4: [19, 17, 18],\n",
       " 5: [20, 21, 22],\n",
       " 6: [28, 44, 45],\n",
       " 7: [48, 47, 46],\n",
       " 8: [26, 72],\n",
       " 9: [66, 76],\n",
       " 10: [57, 67],\n",
       " 11: [23, 12],\n",
       " 12: [73, 74],\n",
       " 13: [31, 30],\n",
       " 14: [27, 33],\n",
       " 15: [25, 40],\n",
       " 16: [41, 42],\n",
       " 17: [24, 50],\n",
       " 18: [39, 52],\n",
       " 19: [64],\n",
       " 20: [65],\n",
       " 21: [10],\n",
       " 22: [11],\n",
       " 23: [13],\n",
       " 24: [14],\n",
       " 25: [15],\n",
       " 26: [16],\n",
       " 27: [32],\n",
       " 28: [43],\n",
       " 29: [55],\n",
       " 30: [58],\n",
       " 31: [59],\n",
       " 32: [60],\n",
       " 33: [61],\n",
       " 34: [62],\n",
       " 35: [63]}"
      ]
     },
     "execution_count": 39,
     "metadata": {},
     "output_type": "execute_result"
    }
   ],
   "source": [
    "C = louvain_resolution(miserables,1)\n",
    "get_clusters(miserables,C)"
   ]
  },
  {
   "cell_type": "markdown",
   "metadata": {
    "collapsed": true
   },
   "source": [
    "## 3. Soft clustering"
   ]
  },
  {
   "cell_type": "markdown",
   "metadata": {},
   "source": [
    "We have so far considered **hard clustering** where the objective is to find a partition of the set of nodes. In practice, it may be interesting to allow some nodes to belong to several clusters. This is **soft clustering**. A simple approach consists in identifying so-called flipping nodes, for which a change of cluster has a negligible impact on modularity (for some given threshold). "
   ]
  },
  {
   "cell_type": "markdown",
   "metadata": {},
   "source": [
    "## To do\n",
    "\n",
    "* Complete the function `get_flipping_nodes` below.\n",
    "* Test your function on the bow-tie graph.\n",
    "* Display the airports belonging to several clusters in Openflights (resolutions 1 and 2)."
   ]
  },
  {
   "cell_type": "code",
   "execution_count": 40,
   "metadata": {},
   "outputs": [],
   "source": [
    "def get_flipping_nodes(graph, C, resolution = 1, threshold = 1e-5):\n",
    "    '''\n",
    "    graph: networkx graph\n",
    "        undirected graph \n",
    "    C: dictionary\n",
    "        cluster of each node\n",
    "    resolution: float\n",
    "        resolution parameter \n",
    "    threshold: float\n",
    "        threshold on modularity \n",
    "        \n",
    "    Returns: dictionary of lists\n",
    "        list of clusters of each flipping node (i.e., with more than 1 cluster)\n",
    "    '''\n",
    "\n",
    "    flipping_nodes = {}\n",
    "\n",
    "    node_weight = {u: 0. for u in graph.nodes()}\n",
    "    number_cluster = len(set(C.values()))\n",
    "    for u in graph.nodes():\n",
    "        k = C[u] #cluster dont le point u appartient            \n",
    "        variation = {k: 0} #modularity variation\n",
    "        \n",
    "        #Calculer la modularite pour chaque nouvelle config quand le node u passe dans le cluster i\n",
    "        for i in range(1, number_cluster+1): #Premier node=1\n",
    "            new_clustering = C.copy()\n",
    "            new_clustering[u] = i #Essai avec le node u dans le cluster i\n",
    "            variation[i], a, b = get_modularity(graph, new_clustering)\n",
    "            print(variation[i])\n",
    "            \n",
    "            #C'est un flipping node si la modularite est inferieure au seuil\n",
    "            if abs(variation[i]) < threshold:\n",
    "                flipping_nodes[u] = i\n",
    "    \n",
    "    return flipping_nodes "
   ]
  },
  {
   "cell_type": "code",
   "execution_count": 41,
   "metadata": {},
   "outputs": [],
   "source": [
    "bowtie = nx.star_graph(4)\n",
    "bowtie.add_edges_from([(1,2),(3,4)])"
   ]
  },
  {
   "cell_type": "code",
   "execution_count": 42,
   "metadata": {},
   "outputs": [
    {
     "data": {
      "image/png": "[encoded data removed]",
      "text/plain": [
       "<matplotlib.figure.Figure at 0x7f47fa2ef400>"
      ]
     },
     "metadata": {},
     "output_type": "display_data"
    }
   ],
   "source": [
    "plt.figure(figsize = (6,3))\n",
    "nx.draw(bowtie, node_size = 400, with_labels = True)\n",
    "plt.show()"
   ]
  },
  {
   "cell_type": "code",
   "execution_count": null,
   "metadata": {},
   "outputs": [],
   "source": []
  },
  {
   "cell_type": "code",
   "execution_count": null,
   "metadata": {},
   "outputs": [],
   "source": []
  },
  {
   "cell_type": "code",
   "execution_count": null,
   "metadata": {},
   "outputs": [],
   "source": []
  },
  {
   "cell_type": "code",
   "execution_count": null,
   "metadata": {},
   "outputs": [],
   "source": []
  },
  {
   "cell_type": "code",
   "execution_count": null,
   "metadata": {},
   "outputs": [],
   "source": []
  }
 ],
 "metadata": {
  "anaconda-cloud": {},
  "hide_input": false,
  "kernelspec": {
   "display_name": "Python 3",
   "language": "python",
   "name": "python3"
  },
  "language_info": {
   "codemirror_mode": {
    "name": "ipython",
    "version": 3
   },
   "file_extension": ".py",
   "mimetype": "text/x-python",
   "name": "python",
   "nbconvert_exporter": "python",
   "pygments_lexer": "ipython3",
   "version": "3.5.3"
  }
 },
 "nbformat": 4,
 "nbformat_minor": 1
}
