{
 "cells": [
  {
   "cell_type": "markdown",
   "metadata": {},
   "source": [
    "# Text Segmentation Using Hidden Markov Models"
   ]
  },
  {
   "cell_type": "markdown",
   "metadata": {},
   "source": [
    "Maxime Tchibozo "
   ]
  },
  {
   "cell_type": "markdown",
   "metadata": {},
   "source": [
    "# Pre-processing"
   ]
  },
  {
   "cell_type": "code",
   "execution_count": 1,
   "metadata": {},
   "outputs": [],
   "source": [
    "import os\n",
    "import numpy as np\n",
    "os.chdir('dat\\dat')"
   ]
  },
  {
   "cell_type": "code",
   "execution_count": 2,
   "metadata": {},
   "outputs": [],
   "source": [
    "try:\n",
    "    with open(\"dat\\dat\\mail.lst\",'r') as f :\n",
    "        mail_files = f.readlines()\n",
    "except:\n",
    "    with open(\"mail.lst\",'r') as f :\n",
    "        mail_files = f.readlines()"
   ]
  },
  {
   "cell_type": "code",
   "execution_count": 3,
   "metadata": {},
   "outputs": [
    {
     "data": {
      "text/plain": [
       "'mail1.dat'"
      ]
     },
     "execution_count": 3,
     "metadata": {},
     "output_type": "execute_result"
    }
   ],
   "source": [
    "mail_files[0][:-1]"
   ]
  },
  {
   "cell_type": "code",
   "execution_count": 4,
   "metadata": {},
   "outputs": [
    {
     "data": {
      "text/plain": [
       "'lst'"
      ]
     },
     "execution_count": 4,
     "metadata": {},
     "output_type": "execute_result"
    }
   ],
   "source": [
    "'mail.lst'[-3:]"
   ]
  },
  {
   "cell_type": "code",
   "execution_count": 5,
   "metadata": {},
   "outputs": [],
   "source": [
    "L = []\n",
    "for file in os.listdir(os.getcwd()):\n",
    "    if file[-3:] == 'dat': #We only read the .dat files\n",
    "        L.append(np.loadtxt(str(file)))"
   ]
  },
  {
   "cell_type": "code",
   "execution_count": 6,
   "metadata": {},
   "outputs": [
    {
     "data": {
      "text/plain": [
       "[array([ 70., 114., 111., ..., 115.,  10.,  10.]),\n",
       " array([ 70., 114., 111., ..., 107.,  10.,  10.]),\n",
       " array([ 70., 114., 111., ..., 108.,  10.,  10.]),\n",
       " array([ 70., 114., 111., ..., 108.,  10.,  10.]),\n",
       " array([ 70., 114., 111., ..., 101.,  10.,  10.]),\n",
       " array([ 70., 114., 111., ..., 115.,  10.,  10.]),\n",
       " array([ 70., 114., 111., ..., 107.,  10.,  10.]),\n",
       " array([ 70., 114., 111., ..., 117.,  10.,  10.]),\n",
       " array([ 70., 114., 111., ...,  10.,  10.,  10.]),\n",
       " array([ 70., 114., 111., ..., 101.,  10.,  10.]),\n",
       " array([ 70., 114., 111., ...,  10.,  10.,  10.]),\n",
       " array([ 70., 114., 111., ...,  10.,  10.,  10.]),\n",
       " array([ 70., 114., 111., ..., 101.,  10.,  10.]),\n",
       " array([ 70., 114., 111., ...,  10.,  10.,  10.]),\n",
       " array([ 70., 114., 111., ..., 101.,  10.,  10.]),\n",
       " array([ 70., 114., 111., ..., 101.,  10.,  10.]),\n",
       " array([ 70., 114., 111., ...,  10.,  10.,  10.]),\n",
       " array([ 70., 114., 111., ..., 101.,  10.,  10.]),\n",
       " array([ 70., 114., 111., ..., 107.,  10.,  10.]),\n",
       " array([ 70., 114., 111., ..., 101.,  10.,  10.]),\n",
       " array([ 70., 114., 111., ..., 107.,  10.,  10.]),\n",
       " array([ 70., 114., 111., ..., 107.,  10.,  10.]),\n",
       " array([ 70., 114., 111., ...,  10.,  10.,  10.]),\n",
       " array([ 70., 114., 111., ..., 101.,  10.,  10.]),\n",
       " array([ 70., 114., 111., ..., 115.,  10.,  10.]),\n",
       " array([ 70., 114., 111., ...,  10.,  10.,  10.]),\n",
       " array([ 70., 114., 111., ...,  10.,  10.,  10.]),\n",
       " array([ 70., 114., 111., ...,  10.,  10.,  10.]),\n",
       " array([ 70., 114., 111., ...,  10.,  10.,  10.]),\n",
       " array([ 70., 114., 111., ...,  10.,  10.,  10.])]"
      ]
     },
     "execution_count": 6,
     "metadata": {},
     "output_type": "execute_result"
    }
   ],
   "source": [
    "L"
   ]
  },
  {
   "cell_type": "code",
   "execution_count": 7,
   "metadata": {},
   "outputs": [
    {
     "data": {
      "text/plain": [
       "[5216,\n",
       " 3715,\n",
       " 3475,\n",
       " 3993,\n",
       " 3328,\n",
       " 6576,\n",
       " 6808,\n",
       " 2627,\n",
       " 3425,\n",
       " 3077,\n",
       " 2620,\n",
       " 3376,\n",
       " 2434,\n",
       " 2664,\n",
       " 3643,\n",
       " 3750,\n",
       " 3701,\n",
       " 3238,\n",
       " 4467,\n",
       " 3148,\n",
       " 2541,\n",
       " 2890,\n",
       " 3934,\n",
       " 5160,\n",
       " 3424,\n",
       " 3386,\n",
       " 3211,\n",
       " 3848,\n",
       " 3558,\n",
       " 8625]"
      ]
     },
     "execution_count": 7,
     "metadata": {},
     "output_type": "execute_result"
    }
   ],
   "source": [
    "[len(item) for item in L] #length of each e-mail vector"
   ]
  },
  {
   "cell_type": "markdown",
   "metadata": {},
   "source": [
    "# Question 1"
   ]
  },
  {
   "cell_type": "markdown",
   "metadata": {},
   "source": [
    "Initial probability vector : $\\Pi$ = $[\\pi_{i}]$ \n",
    "\n",
    "where $\\pi_{i} = P(q_{0} = i)$\n",
    "\n",
    "i.e probability that the state of the initial variable is $i$\n",
    "\n",
    "Since the e-mail necessarily starts with a header, we have : $\\Pi =  \\begin{bmatrix} 1  \\\\ 0 \\end{bmatrix}$"
   ]
  },
  {
   "cell_type": "markdown",
   "metadata": {},
   "source": [
    "# Question 2"
   ]
  },
  {
   "cell_type": "markdown",
   "metadata": {},
   "source": [
    "$ A = \\begin{bmatrix} 0.999218078035812 & 0.000781921964187974 \\\\ 0 & 1 \\end{bmatrix} $\n",
    "\n",
    "The probability of moving from $1 \\to 2 $ is : $0.000781921964187974$\n",
    "\n",
    "The probability of remaining in state $2$ is : $1$\n",
    "This is because once we are in the body of the e-mail, all the text that follows is still a part of the body. We cannot have a header beneath the body.\n",
    "\n",
    "The probability of staying in the header ($0.999218078035812$) is higher than the probability of transitionning to the body from the header($0.000781921964187974$). \n",
    "\n",
    "This makes sense : usually headers are quite long, they contain the emails of the sender and receiver, the date, the object of the e-mail etc. If the probability of $1 \\to 2$ were higher than the probability of  $1 \\to 1$, this would mean that for each letter of the header, there would be more than a $50%$ chance that the following letter is the body. This would make for extremely short headers, which is impossible.\n"
   ]
  },
  {
   "cell_type": "markdown",
   "metadata": {},
   "source": [
    "# Question 3"
   ]
  },
  {
   "cell_type": "markdown",
   "metadata": {},
   "source": [
    "Each character can have either of two states : $1$ or $2$\n",
    "\n",
    "There are N characters. Therefore, the size of the $B$ matrix is $N \\cdot 2$\n",
    "\n",
    "$ B \\in M_{N,2}(\\mathbb{R})$"
   ]
  },
  {
   "cell_type": "markdown",
   "metadata": {},
   "source": [
    "# Question 4"
   ]
  },
  {
   "cell_type": "code",
   "execution_count": 8,
   "metadata": {},
   "outputs": [],
   "source": [
    "os.chdir('C:\\\\Users\\\\Max Tchibozo\\\\Desktop\\\\SD-TSIA214\\\\TP1\\\\PerlScriptAndModel\\\\PerlScriptAndModel')\n",
    "P = np.loadtxt('P.dat')"
   ]
  },
  {
   "cell_type": "code",
   "execution_count": 9,
   "metadata": {},
   "outputs": [],
   "source": [
    "import numpy as np\n",
    "\n",
    "def viterbi(X,Pi0,A,P):\n",
    "    \"\"\"\n",
    "        Viterbi Algorithm Implementation\n",
    "\n",
    "        Keyword arguments:\n",
    "            - obs: sequence of observation\n",
    "            - states:list of states\n",
    "            - start_prob:vector of the initial probabilities\n",
    "            - trans: transition matrix\n",
    "            - emission_prob: emission probability matrix\n",
    "        Returns:\n",
    "            - seq: sequence of state\n",
    "    \"\"\"\n",
    "\n",
    "    #pour eviter d avoir des valeurs nulles dans le log\n",
    "    realmin = np.finfo(np.double).tiny\n",
    "    A = np.log(A+realmin)\n",
    "    Pi0 = np.log(Pi0+realmin)\n",
    "    P = np.log(P+realmin)\n",
    "    taille = np.shape(X) #X.shape[0]\n",
    "    T = taille[0] #nombre d observations\n",
    "    N = Pi0.shape[0]#nombre des etats du modele\n",
    "    logl = np.zeros((T,N))\n",
    "    bcktr = np.zeros((T-1,N))\n",
    "    \n",
    "    logl[0,:]=Pi0+P[int(X[0]),:] #correspond a log(pi*P(1er caractere))\n",
    "    for t in range(1,(T-1)):\n",
    "        logl[t+1,:] = P[int(X[t+1]),:]+np.array([max(A[:,0]+logl[t,:]),max(A[:,1]+logl[t,:])])       \n",
    "        bcktr[t,:] = np.array([np.argmax(A[:,0]+logl[t+1,:]),np.argmax(A[:,1]+logl[t+1,:])])\n",
    "    \n",
    "    path = np.zeros(T).astype(int)\n",
    "\n",
    "    \n",
    "    path[T-1] = np.argmax(logl[-1,:])\n",
    "    for t in list(reversed(range(T-1))):\n",
    "        path[t] = bcktr[t,path[t+1]]\n",
    "        #q_hat.append(bcktr[np.argmax(q_hat[-1])])\n",
    "        #q_hat.append(np.argmax(A[q_hat[-1],:]*logl[t+1,:]))\n",
    "        #print(A[q_hat[-1],:]*logl[t,:])\n",
    "\n",
    "    return(logl, path)"
   ]
  },
  {
   "cell_type": "code",
   "execution_count": 10,
   "metadata": {},
   "outputs": [],
   "source": [
    "A = np.array([[0.999218078035812,0.000781921964188026],[0,1]])"
   ]
  },
  {
   "cell_type": "code",
   "execution_count": 11,
   "metadata": {},
   "outputs": [],
   "source": [
    "initial_distribution = np.array([1,0])"
   ]
  },
  {
   "cell_type": "code",
   "execution_count": 12,
   "metadata": {},
   "outputs": [
    {
     "data": {
      "text/plain": [
       "(array([[-6.38815493e+00, -7.15262797e+02],\n",
       "        [ 0.00000000e+00,  0.00000000e+00],\n",
       "        [-2.97487244e+00, -2.92708851e+00],\n",
       "        ...,\n",
       "        [-1.00370715e+04, -9.82225262e+03],\n",
       "        [-1.00410439e+04, -9.82591729e+03],\n",
       "        [-1.00450163e+04, -9.82958197e+03]]), array([0, 0, 0, ..., 1, 1, 1]))"
      ]
     },
     "execution_count": 12,
     "metadata": {},
     "output_type": "execute_result"
    }
   ],
   "source": [
    "viterbi(X = L[10],Pi0=initial_distribution,A=A,P=P)"
   ]
  },
  {
   "cell_type": "code",
   "execution_count": 13,
   "metadata": {},
   "outputs": [
    {
     "data": {
      "text/plain": [
       "(array([[-6.38815493e+00, -7.15262797e+02],\n",
       "        [ 0.00000000e+00,  0.00000000e+00],\n",
       "        [-2.97487244e+00, -2.92708851e+00],\n",
       "        ...,\n",
       "        [-2.97826370e+04, -2.90739336e+04],\n",
       "        [-2.97863017e+04, -2.90775983e+04],\n",
       "        [-2.97899664e+04, -2.90812630e+04]]), array([0, 0, 0, ..., 1, 1, 1]))"
      ]
     },
     "execution_count": 13,
     "metadata": {},
     "output_type": "execute_result"
    }
   ],
   "source": [
    "viterbi(X = L[29],Pi0=initial_distribution,A=A,P=P)"
   ]
  },
  {
   "cell_type": "code",
   "execution_count": 14,
   "metadata": {},
   "outputs": [
    {
     "data": {
      "text/plain": [
       "<Figure size 640x480 with 1 Axes>"
      ]
     },
     "metadata": {},
     "output_type": "display_data"
    }
   ],
   "source": [
    "import matplotlib.pyplot as plt\n",
    "plt.figure()\n",
    "for i in range(10,30):\n",
    "    logl,path = viterbi(X = L[i],Pi0=initial_distribution,A=A,P=P)\n",
    "    plt.plot([i for i in range(len(path))],path)\n",
    "plt.title('0-1 States of the email characters - mails 11 to 30 ')\n",
    "plt.legend([\"Mail n°\"+str(i) for i in range(10,30)])\n",
    "plt.show()"
   ]
  },
  {
   "cell_type": "markdown",
   "metadata": {},
   "source": [
    "We observe that transition from state 0 to 1 happens between characters 1700 and 2300. This is compatible with the view that most emails contain the same basic metadata : date sent, date received, sender email, receiver email, etc. \n",
    "\n",
    "These characters are always present which explains why the emails all start around the same value. In some cases, there are additional characters : object of the email, cc email, etc. This explains why some headers are slightly longer.\n",
    "\n",
    "We also find a result that is coherent with the transition matrix : once we pass from state 1 to state 2, we cannot go back."
   ]
  },
  {
   "cell_type": "markdown",
   "metadata": {},
   "source": [
    "# Visualizing Segmentation"
   ]
  },
  {
   "cell_type": "code",
   "execution_count": 15,
   "metadata": {},
   "outputs": [
    {
     "name": "stdout",
     "output_type": "stream",
     "text": [
      "From exmh-workers-admin@redhat.com  Thu Aug 22 12:36:23 2002\n",
      "Return-Path: <exmh-workers-admin@spamassassin.taint.org>\n",
      "Delivered-To: zzzz@localhost.netnoteinc.com\n",
      "Received: from localhost (localhost [127.0.0.1])\n",
      "\tby phobos.labs.netnoteinc.com (Postfix) with ESMTP id D03E543C36\n",
      "\tfor <zzzz@localhost>; Thu, 22 Aug 2002 07:36:16 -0400 (EDT)\n",
      "Received: from phobos [127.0.0.1]\n",
      "\tby localhost with IMAP (fetchmail-5.9.0)\n",
      "\tfor zzzz@localhost (single-drop); Thu, 22 Aug 2002 12:36:16 +0100 (IST)\n",
      "Received: from listman.spamassassin.taint.org (listman.spamassassin.taint.org [66.187.233.211]) by\n",
      "    dogma.slashnull.org (8.11.6/8.11.6) with ESMTP id g7MBYrZ04811 for\n",
      "    <zzzz-exmh@spamassassin.taint.org>; Thu, 22 Aug 2002 12:34:53 +0100\n",
      "Received: from listman.spamassassin.taint.org (localhost.localdomain [127.0.0.1]) by\n",
      "    listman.redhat.com (Postfix) with ESMTP id 8386540858; Thu, 22 Aug 2002\n",
      "    07:35:02 -0400 (EDT)\n",
      "Delivered-To: exmh-workers@listman.spamassassin.taint.org\n",
      "Received: from int-mx1.corp.spamassassin.taint.org (int-mx1.corp.spamassassin.taint.org\n",
      "    [172.16.52.254]) by listman.redhat.com (Postfix) with ESMTP id 10CF8406D7\n",
      "    for <exmh-workers@listman.redhat.com>; Thu, 22 Aug 2002 07:34:10 -0400\n",
      "    (EDT)\n",
      "Received: (from mail@localhost) by int-mx1.corp.spamassassin.taint.org (8.11.6/8.11.6)\n",
      "    id g7MBY7g11259 for exmh-workers@listman.redhat.com; Thu, 22 Aug 2002\n",
      "    07:34:07 -0400\n",
      "Received: from mx1.spamassassin.taint.org (mx1.spamassassin.taint.org [172.16.48.31]) by\n",
      "    int-mx1.corp.redhat.com (8.11.6/8.11.6) with SMTP id g7MBY7Y11255 for\n",
      "    <exmh-workers@redhat.com>; Thu, 22 Aug 2002 07:34:07 -0400\n",
      "Received: from ratree.psu.ac.th ([202.28.97.6]) by mx1.spamassassin.taint.org\n",
      "    (8.11.6/8.11.6) with SMTP id g7MBIhl25223 for <exmh-workers@redhat.com>;\n",
      "    Thu, 22 Aug 2002 07:18:55 -0400\n",
      "Received: from delta.cs.mu.OZ.AU (delta.coe.psu.ac.th [172.30.0.98]) by\n",
      "    ratree.psu.ac.th (8.11.6/8.11.6) with ESMTP id g7MBWel29762;\n",
      "    Thu, 22 Aug 2002 18:32:40 +0700 (ICT)\n",
      "Received: from munnari.OZ.AU (localhost [127.0.0.1]) by delta.cs.mu.OZ.AU\n",
      "    (8.11.6/8.11.6) with ESMTP id g7MBQPW13260; Thu, 22 Aug 2002 18:26:25\n",
      "    +0700 (ICT)\n",
      "From: Robert Elz <kre@munnari.OZ.AU>\n",
      "To: Chris Garrigues <cwg-dated-1030377287.06fa6d@DeepEddy.Com>\n",
      "Cc: exmh-workers@spamassassin.taint.org\n",
      "Subject: Re: New Sequences Window\n",
      "In-Reply-To: <1029945287.4797.TMDA@deepeddy.vircio.com>\n",
      "References: <1029945287.4797.TMDA@deepeddy.vircio.com>\n",
      "    <1029882468.3116.TMDA@deepeddy.vircio.com> <9627.1029933001@munnari.OZ.AU>\n",
      "    <1029943066.26919.TMDA@deepeddy.vircio.com>\n",
      "    <1029944441.398.TMDA@deepeddy.vircio.com>\n",
      "MIME-Version: 1.0\n",
      "Content-Type: text/plain; charset=us-ascii\n",
      "Message-Id: <13258.1030015585@munnari.OZ.AU>\n",
      "X-Loop: exmh-workers@spamassassin.taint.org\n",
      "Sender: exmh-workers-admin@spamassassin.taint.org\n",
      "Errors-To: exmh-workers-admin@spamassassin.taint.org\n",
      "X-Beenthere: exmh-workers@spamassassin.taint.org\n",
      "X-Mailman-Version: 2.0.1\n",
      "Precedence: bulk\n",
      "List-Help: <mailto:exmh-workers-request@spamassassin.taint.org?subject=help>\n",
      "List-Post: <mailto:exmh-workers@spamassassin.taint.org>\n",
      "List-Subscribe: <https://listman.spamassassin.taint.org/mailman/listinfo/exmh-workers>,\n",
      "    <mailto:exmh-workers-request@redhat.com?subject=subscribe>\n",
      "List-Id: Discussion list for EXMH developers <exmh-workers.spamassassin.taint.org>\n",
      "List-Unsubscribe: <https://listman.spamassassin.taint.org/mailman/listinfo/exmh-workers>,\n",
      "    <mailto:exmh-workers-request@redhat.com?subject=unsubscribe>\n",
      "List-Archive: <https://listman.spamassassin.taint.org/mailman/private/exmh-workers/>\n",
      "Date: Thu, 22 Aug 2002 18:26:25 +0700\n",
      "\n",
      "    Date:        Wed, 21 Aug 2002 10:54:46 -0500\n",
      "    From:        Chris Garrigues <cwg-dated-1030377287.06fa6d@DeepEddy.Com>\n",
      "    Message-ID:  <1029945287.4797.TMDA@deepeddy.vircio.com>\n",
      "===== cut here\n",
      "\n",
      "\n",
      "\n",
      "  | I can't reproduce this error.\n",
      "\n",
      "For me it is very repeatable... (like every time, without fail).\n",
      "\n",
      "This is the debug log of the pick happening ...\n",
      "\n",
      "18:19:03 Pick_It {exec pick +inbox -list -lbrace -lbrace -subject ftp -rbrace -rbrace} {4852-4852 -sequence mercury}\n",
      "18:19:03 exec pick +inbox -list -lbrace -lbrace -subject ftp -rbrace -rbrace 4852-4852 -sequence mercury\n",
      "18:19:04 Ftoc_PickMsgs {{1 hit}}\n",
      "18:19:04 Marking 1 hits\n",
      "18:19:04 tkerror: syntax error in expression \"int ...\n",
      "\n",
      "Note, if I run the pick command by hand ...\n",
      "\n",
      "delta$ pick +inbox -list -lbrace -lbrace -subject ftp -rbrace -rbrace  4852-4852 -sequence mercury\n",
      "1 hit\n",
      "\n",
      "That's where the \"1 hit\" comes from (obviously).  The version of nmh I'm\n",
      "using is ...\n",
      "\n",
      "delta$ pick -version\n",
      "pick -- nmh-1.0.4 [compiled on fuchsia.cs.mu.OZ.AU at Sun Mar 17 14:55:56 ICT 2002]\n",
      "\n",
      "And the relevant part of my .mh_profile ...\n",
      "\n",
      "delta$ mhparam pick\n",
      "-seq sel -list\n",
      "\n",
      "\n",
      "Since the pick command works, the sequence (actually, both of them, the\n",
      "one that's explicit on the command line, from the search popup, and the\n",
      "one that comes from .mh_profile) do get created.\n",
      "\n",
      "kre\n",
      "\n",
      "ps: this is still using the version of the code form a day ago, I haven't\n",
      "been able to reach the cvs repository today (local routing issue I think).\n",
      "\n",
      "\n",
      "\n",
      "_______________________________________________\n",
      "Exmh-workers mailing list\n",
      "Exmh-workers@redhat.com\n",
      "https://listman.redhat.com/mailman/listinfo/exmh-workers\n",
      "\n",
      "\n"
     ]
    }
   ],
   "source": [
    "import os\n",
    "os.chdir('C:\\\\Users\\\\Max Tchibozo\\\\Desktop\\\\SD-TSIA214\\\\TP1\\\\dat\\\\dat\\\\')\n",
    "\n",
    "with open(\"mail1.txt\",'r') as f:\n",
    "    lines = f.readlines()\n",
    "text = \"\"\n",
    "for i in range(len(lines)):\n",
    "    text+=str(lines[i])\n",
    "logl,path = viterbi(X = L[0],Pi0=initial_distribution,A=A,P=P)\n",
    "i = 0\n",
    "while path[i] ==  path[i+1]:\n",
    "    i+=1\n",
    "i+=1\n",
    "print(text[:i+1])\n",
    "print(\"===== cut here\")\n",
    "print(text[i+1:])"
   ]
  },
  {
   "cell_type": "markdown",
   "metadata": {},
   "source": [
    "The algorithm has the desired effect."
   ]
  },
  {
   "cell_type": "markdown",
   "metadata": {},
   "source": [
    "# Question 5"
   ]
  },
  {
   "cell_type": "code",
   "execution_count": 17,
   "metadata": {},
   "outputs": [],
   "source": [
    "import os\n",
    "os.chdir('C:\\\\Users\\\\Max Tchibozo\\\\Desktop\\\\SD-TSIA214\\\\TP1\\\\')"
   ]
  },
  {
   "cell_type": "code",
   "execution_count": 30,
   "metadata": {},
   "outputs": [
    {
     "data": {
      "image/png": "[encoded data removed]",
      "text/plain": [
       "<Figure size 1200x800 with 1 Axes>"
      ]
     },
     "metadata": {},
     "output_type": "display_data"
    }
   ],
   "source": [
    "import matplotlib.pyplot as plt\n",
    "import matplotlib.image as mpimg\n",
    "\n",
    "img=mpimg.imread('3_part_Model.png')\n",
    "plt.figure(figsize=(15,10),dpi=80)\n",
    "imgplot = plt.imshow(img, aspect='auto')"
   ]
  },
  {
   "cell_type": "markdown",
   "metadata": {},
   "source": [
    "If this image is not displayed, please view the 3_part_Model.png file."
   ]
  },
  {
   "cell_type": "markdown",
   "metadata": {},
   "source": [
    "Nb : We can transition from the header to the signature if the body of the mail is empty."
   ]
  },
  {
   "cell_type": "markdown",
   "metadata": {},
   "source": [
    "An example for A would be : \n",
    "\n",
    "$A = \\begin{bmatrix}\n",
    "    0.1   & 0.8  & 0.1 \\\\\n",
    "    0     & 0.2  & 0.8 \\\\\n",
    "    0     & 0    & 1\n",
    "\\end{bmatrix}$"
   ]
  },
  {
   "cell_type": "markdown",
   "metadata": {},
   "source": [
    "# Question 6"
   ]
  },
  {
   "cell_type": "markdown",
   "metadata": {},
   "source": [
    "We propose the following model in order to take into account referencing to other mails."
   ]
  },
  {
   "cell_type": "code",
   "execution_count": 32,
   "metadata": {},
   "outputs": [
    {
     "data": {
      "image/png": "[encoded data removed]",
      "text/plain": [
       "<Figure size 1200x800 with 1 Axes>"
      ]
     },
     "metadata": {},
     "output_type": "display_data"
    }
   ],
   "source": [
    "import matplotlib.pyplot as plt\n",
    "import matplotlib.image as mpimg\n",
    "\n",
    "img=mpimg.imread('mail_included.png')\n",
    "plt.figure(figsize=(15,10),dpi=80)\n",
    "imgplot = plt.imshow(img, aspect='auto')"
   ]
  },
  {
   "cell_type": "markdown",
   "metadata": {},
   "source": [
    "The Viterbi Method has been proven to be effective in the simple case of having to separate the header of a mail the body. However, in cases where there are many different states, or loops within the Markov Chain, it seems unlikely that we would use such an approach.\n",
    "\n",
    "Furthermore, the A and P matrices need to be learnt ahead of time, which adds computational strain on this method.\n",
    "\n",
    "In practise, it is likely that deep learning methods are preferred to the Viterbi algorithm."
   ]
  },
  {
   "cell_type": "markdown",
   "metadata": {},
   "source": [
    "If this image is not displayed, please view the mail_included.png file."
   ]
  },
  {
   "cell_type": "code",
   "execution_count": null,
   "metadata": {},
   "outputs": [],
   "source": []
  }
 ],
 "metadata": {
  "kernelspec": {
   "display_name": "Python 3",
   "language": "python",
   "name": "python3"
  },
  "language_info": {
   "codemirror_mode": {
    "name": "ipython",
    "version": 3
   },
   "file_extension": ".py",
   "mimetype": "text/x-python",
   "name": "python",
   "nbconvert_exporter": "python",
   "pygments_lexer": "ipython3",
   "version": "3.6.5"
  }
 },
 "nbformat": 4,
 "nbformat_minor": 2
}
