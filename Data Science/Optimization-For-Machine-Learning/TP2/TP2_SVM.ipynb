{
 "cells": [
  {
   "cell_type": "markdown",
   "metadata": {},
   "source": [
    "# TP2 Séparateurs à Vaste Marge\n",
    "by Maxime TCHIBOZO and Dimitri THEVENEAU"
   ]
  },
  {
   "cell_type": "code",
   "execution_count": 106,
   "metadata": {},
   "outputs": [],
   "source": [
    "import random\n",
    "import numpy as np\n",
    "import matplotlib.pyplot as plt\n"
   ]
  },
  {
   "cell_type": "code",
   "execution_count": 107,
   "metadata": {},
   "outputs": [],
   "source": [
    "def load_breastcancer(filename):\n",
    "    \"\"\"\n",
    "    Cette fonction lit le fichier filename, par exemple\n",
    "    filename = 'wdbc_M1_B0.data'\n",
    "    Elle retourne \n",
    "    X : une matrice de caracteristiques\n",
    "    y : un vecteur des classes tel que si y[i] = 1, la tumeur est maligne\n",
    "        et si y[i] = -1, la tumeur est benigne\n",
    "\n",
    "    Pour plus d'infos sur la base de donnees,\n",
    "    https://archive.ics.uci.edu/ml/datasets/Breast+Cancer+Wisconsin+%28Prognostic%29\n",
    "    \"\"\"\n",
    "\n",
    "    data = np.loadtxt(filename, delimiter=',')\n",
    "\n",
    "    # la colonne 0 ne nous interesse pas ici\n",
    "    y = data[:, 1] * 2 - 1\n",
    "    X = data[:, 2:]\n",
    "\n",
    "    # Standardisation de la matrice\n",
    "    X = X - np.mean(X, axis=0)\n",
    "    X = X / np.std(X, axis=0)\n",
    "\n",
    "    return X, y\n"
   ]
  },
  {
   "cell_type": "code",
   "execution_count": 108,
   "metadata": {},
   "outputs": [],
   "source": [
    "X,y = load_breastcancer(\"wdbcM1B0.data\")"
   ]
  },
  {
   "cell_type": "code",
   "execution_count": 109,
   "metadata": {},
   "outputs": [],
   "source": [
    "X = np.insert(X,X.shape[1],1,axis=1) #We add a column of ones for question 2.4"
   ]
  },
  {
   "cell_type": "code",
   "execution_count": 110,
   "metadata": {},
   "outputs": [
    {
     "data": {
      "text/plain": [
       "(569, 31)"
      ]
     },
     "execution_count": 110,
     "metadata": {},
     "output_type": "execute_result"
    }
   ],
   "source": [
    "X.shape"
   ]
  },
  {
   "cell_type": "code",
   "execution_count": 111,
   "metadata": {},
   "outputs": [
    {
     "data": {
      "text/plain": [
       "array([[ 1.09706398,  1.82982061,  1.57988811, ...,  0.70228425,\n",
       "         1.83834103, -1.80840125],\n",
       "       [-2.07333501, -0.35363241,  0.45618695, ...,  2.0455738 ,\n",
       "         2.33645719,  1.22179204],\n",
       "       [ 1.26993369,  1.68595471,  1.56650313, ...,  0.67267578,\n",
       "         1.98252415, -1.81438851],\n",
       "       ...,\n",
       "       [ 2.75062224, -0.24388967,  1.152255  , ..., -1.10454895,\n",
       "         1.91908301, -0.04813821],\n",
       "       [ 1.93701461,  0.28118999,  0.20139121, ..., -0.31840916,\n",
       "         2.21963528, -0.75120669],\n",
       "       [ 1.        ,  1.        ,  1.        , ...,  1.        ,\n",
       "         1.        ,  1.        ]])"
      ]
     },
     "execution_count": 111,
     "metadata": {},
     "output_type": "execute_result"
    }
   ],
   "source": [
    "X.transpose()"
   ]
  },
  {
   "cell_type": "markdown",
   "metadata": {},
   "source": [
    "# Question 2.1"
   ]
  },
  {
   "cell_type": "markdown",
   "metadata": {},
   "source": [
    "We want to solve\n",
    "\\begin{align}\n",
    "\\min_{v\\in\\mathbb{R},a\\in\\mathbb{R},\\epsilon\\in\\mathbb{R}^n}&{\\frac{1}{2}\\sum{v_j^2}+c\\sum{\\epsilon_i}} \\\\\n",
    "&\\epsilon_{i}\\geq{0} \\\\\n",
    "&\\epsilon_{i}\\geq{1-y_{i}(x_i^{T}v+a)}\n",
    "\\end{align}\n",
    "wich is equivalent to \n",
    "\\begin{align}\n",
    "\\min_{v\\in\\mathbb{R},a\\in\\mathbb{R},\\epsilon\\in\\mathbb{R}^n}&{\\frac{1}{2}\\sum{v_j^2}+c\\sum{\\epsilon_i}} \\\\\n",
    "&\\epsilon_{i}\\geq{max(0,1-y_{i}(x_i^{T}v+a))} \n",
    "\\end{align}\n",
    "The conditions give\n",
    "\\begin{equation}\n",
    "\\forall{\\epsilon\\in\\mathbb{R}^n},\\sum{\\epsilon_i}\\geq{\\sum{max(0,1-y_{i}(x_i^{T}v+a))}}\n",
    "\\end{equation}\n",
    "\n",
    "As $c>0$, the optimal $\\epsilon$ is obtained for $\\epsilon_i=max(0,1-y_{i}(x_i^{T}v+a)$\n",
    "\n",
    "The probleme is thus equivalent to\n",
    "\\begin{equation}\n",
    "\\min_{v\\in\\mathbb{R},a\\in\\mathbb{R}}{\\frac{1}{2}\\sum{v_j^2}+c\\sum{max(0,1-y_{i}(x_i^{T}v+a)}} \\\\\n",
    "\\end{equation}"
   ]
  },
  {
   "cell_type": "markdown",
   "metadata": {},
   "source": [
    "# Question 2.2"
   ]
  },
  {
   "cell_type": "code",
   "execution_count": 112,
   "metadata": {},
   "outputs": [],
   "source": [
    "Z = np.linspace(-5,7,100)\n"
   ]
  },
  {
   "cell_type": "code",
   "execution_count": 113,
   "metadata": {},
   "outputs": [
    {
     "data": {
      "image/png": "[encoded data removed]",
      "text/plain": [
       "<matplotlib.figure.Figure at 0x112fc1a90>"
      ]
     },
     "metadata": {},
     "output_type": "display_data"
    }
   ],
   "source": [
    "plt.plot(Z,[max(0,1-z) for z in Z], 'black', linewidth=5)\n",
    "for i in range(10):\n",
    "    plt.plot(Z,[-i/10*(z-1) for z in Z],color='r')\n",
    "plt.title(\"Graphical Representation of the subdifferentials of h\")\n",
    "plt.show()"
   ]
  },
  {
   "cell_type": "markdown",
   "metadata": {},
   "source": [
    "We observe that when $x < 1$ the subdifferential is equal to the slope : $\\{-1\\}$\n",
    "\n",
    "\n",
    "When $x>1$, the subdifferential is also equal to the slope : $\\{0\\}$\n",
    "\n",
    "Finally, for $x=0$, we observe that all the slopes in the interval $[-1,0]$ are underneath the h function"
   ]
  },
  {
   "cell_type": "markdown",
   "metadata": {},
   "source": [
    "# Question 2.3"
   ]
  },
  {
   "cell_type": "markdown",
   "metadata": {},
   "source": [
    "$f(v,a) = \\frac{1}{2}\\cdotp\\sum_{j=1}^{m} v^2_j  + c\\cdotp\\sum_{i=1}^{n}max(0,1-y_i(x_i^Tv+a)) $\n",
    "\n",
    "We want to find N and H separable such that :\n",
    "\n",
    "$f(v,a) = N(v,a) + c\\cdotp H(M(v,a))$\n",
    "\n",
    "For $N(v,a)$ : \n",
    "\n",
    "We choose $N(v,a) = \\sum_{j=1}^{m} h_j $ with $ h_j(v) = \\frac{1}{2}v_j^2$  which is a separable function.\n",
    "\n",
    "For $H(v,a)$ and $M(v,a)$ :\n",
    "\n",
    "$H(v,a)\\cdotp M(v,a) = \\sum_{i=1}^{n}max(0,1-y_i(x_i^Tv+a)) $\n",
    "\n",
    "First, we put of all the $y_i$ values in a diagonal matrix D:\n",
    "\n",
    "$D = \\begin{pmatrix}\n",
    "y_1 & ... & 0 \\\\\n",
    "... & ... & ...\\\\\n",
    " 0 & ... & y_n\n",
    "\\end{pmatrix}$\n",
    "\n",
    "We create another matrix L with each observation $x_i^T$ concatenated with a column of ones (this is so we can introduce the constant a=1 for each observation.\n",
    "\n",
    "$L= \\begin{pmatrix}\n",
    "x_1^T & 1 \\\\\n",
    "... & ...\\\\\n",
    " x_n^T & 1\n",
    "\\end{pmatrix}$\n",
    "\n",
    "We then create the Matrix M which such that $M = D\\cdotp L $\n",
    "\n",
    "Finally, we have : \n",
    "\n",
    "$M(v,a) = M \\cdotp \\begin{pmatrix} v\\\\a\\end{pmatrix}$\n",
    "\n",
    "M is separable : \n",
    "\n",
    "$M = \\sum_{i = 1}^{n} m_i $ Where $ m_i = \\begin{pmatrix}\n",
    "0 & 0 \\\\\n",
    "x_i^T & 1\\\\\n",
    " 0 & 0\n",
    "\\end{pmatrix}$\n",
    "\n",
    "Finally, $H = \\sum_{i=1}^{n}h_i $ Where $ h_i(W) = max(0,1-w_i)$  for vector $W$ is separable (in practive W will be the product of $M$ and $\\begin{pmatrix}v\\\\a\\end{pmatrix}$.\n",
    "\n"
   ]
  },
  {
   "cell_type": "markdown",
   "metadata": {},
   "source": [
    "# subdifferentials of f"
   ]
  },
  {
   "cell_type": "markdown",
   "metadata": {},
   "source": [
    "$f(v,a) = N(v,a) + c\\cdotp H(M(v,a))$ so $\\delta f(v,a) = \\delta N(v,a) + c\\cdotp \\delta [ H(M(v,a))]$\n",
    "\n",
    "$\\delta N(v,a) = \\begin{pmatrix} v \\\\ 0 \\end{pmatrix} $\n",
    "\n",
    "M is a linear operator so $\\nabla (H(M(v,a)) = M^T\\nabla H(M(v,a)) $  (see paragraph 2.4, p.13 of the polycopié).\n",
    "\n",
    "$\\delta H(W) = \\delta h_1(w_1) \\times ... \\times \\delta h_n(w_n) $ where $ \\times $ denotes the cartesian product and for all i, $ \\delta h_i (w_i)  $ is the subdifferential of $max(0,1-w_i)$"
   ]
  },
  {
   "cell_type": "markdown",
   "metadata": {},
   "source": [
    "# Question 2.4 "
   ]
  },
  {
   "cell_type": "code",
   "execution_count": 114,
   "metadata": {},
   "outputs": [],
   "source": [
    "def delta_H(z):\n",
    "    # gives a subdgradient of h taken randomly in the subgradient\n",
    "    return ((z<1)*(-1)+(np.random.rand(1)[0]-1)*(z==1))"
   ]
  },
  {
   "cell_type": "code",
   "execution_count": 115,
   "metadata": {},
   "outputs": [],
   "source": [
    "def f(v,a): \n",
    "    v_sum = 1/2*sum([v[j]**2 for j in range(len(v))])\n",
    "    # diagonal matrix containing y\n",
    "    D = np.diag(y)\n",
    "    M = np.dot(X.transpose(),D)#with ones\n",
    "    M_v_a = np.dot(M.transpose(),np.concatenate((v,[a]),axis=0))\n",
    "    c_sum = sum([max(0,1-M_v_a[i]) for i in range(len(M_v_a))])\n",
    "    #value of the function\n",
    "    return v_sum+c_sum"
   ]
  },
  {
   "cell_type": "code",
   "execution_count": 116,
   "metadata": {},
   "outputs": [],
   "source": [
    "def gradient(v,a):\n",
    "    #We compute the value of the gradient\n",
    "    n_grad = np.concatenate((v,[0]),axis=0)\n",
    "    D = np.diag(y)\n",
    "    M = np.dot(D,X)#with ones\n",
    "    # the matrice Mva from question 3 \n",
    "    M_v_a = np.dot(M,np.concatenate((v,[a]),axis=0))\n",
    "    deltah = np.array([delta_H(z) for z in M_v_a])\n",
    "    h_grad = np.dot(M.T,deltah)\n",
    "    return (n_grad + h_grad)\n"
   ]
  },
  {
   "cell_type": "code",
   "execution_count": 117,
   "metadata": {},
   "outputs": [
    {
     "data": {
      "text/plain": [
       "603.8252882581148"
      ]
     },
     "execution_count": 117,
     "metadata": {},
     "output_type": "execute_result"
    }
   ],
   "source": [
    "v = np.ones(30)\n",
    "f(v,1)"
   ]
  },
  {
   "cell_type": "code",
   "execution_count": 118,
   "metadata": {
    "scrolled": false
   },
   "outputs": [
    {
     "data": {
      "text/plain": [
       "array([-38.73829648, -20.70475549, -34.49379607, -34.9876155 ,\n",
       "        38.59618269,  45.35166232,  23.55585667,   1.95675574,\n",
       "        36.5927392 ,  89.42902745,  -6.13062046,  28.6170554 ,\n",
       "         0.18689247, -13.53182243,  59.92957203,  84.51089819,\n",
       "        72.68924277,  60.05022852,  41.47511889,  99.88454603,\n",
       "       -39.4982886 , -27.61455329, -34.31830559, -34.37001474,\n",
       "        18.65124737,  28.15298039,  20.26382933,  -2.07793185,\n",
       "        -2.28514378,  55.68259705,  26.        ])"
      ]
     },
     "execution_count": 118,
     "metadata": {},
     "output_type": "execute_result"
    }
   ],
   "source": [
    "gradient(v,1)"
   ]
  },
  {
   "cell_type": "markdown",
   "metadata": {},
   "source": [
    "# Question 2.5"
   ]
  },
  {
   "cell_type": "code",
   "execution_count": 119,
   "metadata": {},
   "outputs": [],
   "source": [
    "def sous_gradient(v0,a0):\n",
    "    gk = gradient(v0,a0)\n",
    "    xk = np.zeros(31)\n",
    "    k = 1    \n",
    "    while k<1000: \n",
    "        k += 1\n",
    "        xk -= 1/(k+1)*gk\n",
    "        gk = gradient(xk[:-1],xk[-1])\n",
    "    return xk"
   ]
  },
  {
   "cell_type": "code",
   "execution_count": 120,
   "metadata": {},
   "outputs": [],
   "source": [
    "v = np.zeros(30)"
   ]
  },
  {
   "cell_type": "code",
   "execution_count": 121,
   "metadata": {},
   "outputs": [],
   "source": [
    "tmp = sous_gradient(v,0)"
   ]
  },
  {
   "cell_type": "code",
   "execution_count": 122,
   "metadata": {},
   "outputs": [
    {
     "name": "stdout",
     "output_type": "stream",
     "text": [
      "The subgradient method gives us a mininumum of : 27.013625854193027 given the initial conditions (v0,a0)=0\n"
     ]
    }
   ],
   "source": [
    "print(\"The subgradient method gives us a mininumum of : \"+ str(f(tmp[:-1],tmp[-1])) + \" given the initial conditions (v0,a0)=0\")"
   ]
  },
  {
   "cell_type": "markdown",
   "metadata": {},
   "source": [
    "# Question 3.1"
   ]
  },
  {
   "cell_type": "markdown",
   "metadata": {},
   "source": [
    "\\begin{equation}\n",
    "\\mathbb{E}(f_I(v,a))=\\sum_i{f_i(v,a)\\mathbb{P}(I=i)}\n",
    "\\end{equation}\n",
    "\n",
    "$I$ follows a uniform distribution thus \n",
    "\n",
    "\\begin{align}\n",
    "\\mathbb{E}(f_I(v,a))&=\\frac{1}{n}\\sum_i{f_i(v,a)} \\\\\n",
    "                    &=\\frac{1}{2}\\sum_{j=1}^{m}{v_j^2}+\\frac{1}{n}\\sum_{i=1}^n{cn\\max{0,1-y_i(x_i^{T}v+a}}) \\\\\n",
    "                    &=\\frac{1}{2}\\sum_{j=1}^{m}{v_j^2}+\\sum_{i=1}^n{c\\max{0,1-y_i(x_i^{T}v+a}}) \\\\\n",
    "                    &= f(v,a)\n",
    "\\end{align}"
   ]
  },
  {
   "cell_type": "markdown",
   "metadata": {},
   "source": [
    "# Question 3.2"
   ]
  },
  {
   "cell_type": "markdown",
   "metadata": {},
   "source": [
    "We have \n",
    "\\begin{equation}\n",
    "f_i(v,a)= \\frac{1}{2}\\sum_{j=1}^{m}{v_j^2}+cn\\max\\left({0,1-y_i(x_i^{T}v+a})\\right)\n",
    "\\end{equation}\n",
    "Thus \n",
    "\\begin{align}\n",
    "\\frac{\\partial f_i}{\\partial v}= v+cn y_i x_i^{T} \\partial{h}(1-y_i(x_i^{T}v+a))\n",
    "\\end{align}\n",
    "\\begin{align}\n",
    "\\frac{\\partial f_i}{\\partial a}= cn\\partial{h}(1-y_i(x_i^{T}v+a))\n",
    "\\end{align}\n",
    "\\begin{align}\n",
    "\\partial f_i= \\begin{pmatrix}v\\\\0\\end{pmatrix} + cn\\partial{h}(1-y_i(x_i^{T}v+a))\\begin{pmatrix}y_ix_i\\\\y_i\\end{pmatrix}\n",
    "\\end{align}"
   ]
  },
  {
   "cell_type": "markdown",
   "metadata": {},
   "source": [
    "# Question 3.3"
   ]
  },
  {
   "cell_type": "code",
   "execution_count": 123,
   "metadata": {},
   "outputs": [
    {
     "data": {
      "text/plain": [
       "(31, 569)"
      ]
     },
     "execution_count": 123,
     "metadata": {},
     "output_type": "execute_result"
    }
   ],
   "source": [
    "X.T.shape"
   ]
  },
  {
   "cell_type": "code",
   "execution_count": 124,
   "metadata": {},
   "outputs": [],
   "source": [
    "def partial_diferential(i,v,a):\n",
    "    # differential according to component i \n",
    "    n_grad = np.concatenate((v,[0]),axis=0)\n",
    "    # we take a vector composed of v and a zero \n",
    "    v_a_vector = np.concatenate((v,[a]),axis=0)\n",
    "    h_grad = delta_H(y[i]*(np.dot(X[i].T,v_a_vector)))*y[i]*X[i]\n",
    "    return (n_grad + h_grad)\n"
   ]
  },
  {
   "cell_type": "code",
   "execution_count": 125,
   "metadata": {},
   "outputs": [],
   "source": [
    "def sous_gradient_stochastique(v0,a0):\n",
    "    i = int(np.random.rand()*X.shape[0])\n",
    "    gk = partial_diferential(i,v0,a0)\n",
    "    xk = np.zeros(31)  \n",
    "    for k in range(10000):\n",
    "        i = int(np.random.rand()*X.shape[0])\n",
    "        xk -= 1/(k+1)*gk\n",
    "        gk = partial_diferential(i,xk[:-1],xk[-1])\n",
    "    return xk"
   ]
  },
  {
   "cell_type": "code",
   "execution_count": 126,
   "metadata": {},
   "outputs": [
    {
     "data": {
      "text/plain": [
       "array([ 0.10687791,  0.07885184,  0.10563486,  0.10144518,  0.03890702,\n",
       "        0.04306535,  0.08381475,  0.10899245,  0.0446166 , -0.04455313,\n",
       "        0.08600415, -0.00757356,  0.07457836,  0.07462854,  0.0155219 ,\n",
       "       -0.00550516, -0.01701538,  0.02746694, -0.00844716, -0.03897408,\n",
       "        0.12149655,  0.09668428,  0.11738145,  0.10935703,  0.09349782,\n",
       "        0.06869462,  0.0814195 ,  0.11746684,  0.08614509,  0.03910089,\n",
       "       -0.40626411])"
      ]
     },
     "execution_count": 126,
     "metadata": {},
     "output_type": "execute_result"
    }
   ],
   "source": [
    "v0 = np.zeros(30)\n",
    "sous_gradient_stochastique(v0,0)"
   ]
  },
  {
   "cell_type": "code",
   "execution_count": 127,
   "metadata": {},
   "outputs": [],
   "source": [
    "tmp = sous_gradient_stochastique(v0,0)"
   ]
  },
  {
   "cell_type": "code",
   "execution_count": 131,
   "metadata": {},
   "outputs": [
    {
     "name": "stdout",
     "output_type": "stream",
     "text": [
      "the value obtained is 103.24863439860698\n"
     ]
    }
   ],
   "source": [
    "print(\"the value obtained is \"+str(f(tmp[:-1],tmp[-1])))"
   ]
  },
  {
   "cell_type": "markdown",
   "metadata": {},
   "source": [
    "# Question 4.1"
   ]
  },
  {
   "cell_type": "markdown",
   "metadata": {},
   "source": [
    "The Lagrangian function associated to problem (1) is :\n",
    "$L(v,a,\\phi,\\psi)=\\frac{1}{2} \\sum_{j=1}^{m} v_j^2 +c\\sum_{i=1}^{n}\\xi_i-\\sum_{i=1}^{n}\\langle \\phi_i,\\xi_i\\rangle - \\sum_{i=1}^{n}\\langle \\psi_i,1-\\xi_i-y_i(x_i^Tv+a)\\rangle + \\tau_{\\mathbb{R_{+}^{n}}}(\\psi) + \\tau_{\\mathbb{R_{+}^{n}}}(\\phi)$"
   ]
  },
  {
   "cell_type": "markdown",
   "metadata": {},
   "source": [
    "# Question 4.2"
   ]
  },
  {
   "cell_type": "markdown",
   "metadata": {},
   "source": [
    "# Gradient of g with respect to x :\n"
   ]
  },
  {
   "cell_type": "markdown",
   "metadata": {},
   "source": [
    "\n",
    "\n",
    "$g(x,\\phi) = - \\frac{1}{2\\rho}\\phi^2 + \\frac{\\rho}{2}(max(0,x+\\rho^{-1}\\phi))^2$\n",
    "\n",
    "\n",
    "\n",
    "\n",
    "$\\nabla_x g (x,\\phi) = 2\\cdotp\\max(0,x + \\rho^{-1}\\phi)\\cdotp\\frac{\\rho}{2}\\frac{d}{dx}(max(0,x + \\rho^{-1}\\phi))$\n",
    "\n",
    "\n",
    "Case 1 : $max(0,x + \\rho^{-1}\\phi) = 0$ $\\Longrightarrow$ $\\frac{d}{dx}(max(0,x + \\rho^{-1}\\phi)) = 0$\n",
    "\n",
    "\n",
    "Case 2 : $max(0,x + \\rho^{-1}\\phi) = x + \\rho^{-1}\\phi$ $\\Longrightarrow$ $\\frac{d}{dx}(max(0,x + \\rho^{-1}\\phi)) = \\frac{d}{dx}(x + \\rho^{-1}\\phi) = 1$\n",
    "\n",
    "In all cases : $\\nabla_x g (x,\\phi) = \\rho \\cdotp\\max(0,x + \\rho^{-1}\\phi)$"
   ]
  },
  {
   "cell_type": "markdown",
   "metadata": {},
   "source": [
    "# Gradient of g with respect to $\\phi$ :\n"
   ]
  },
  {
   "cell_type": "markdown",
   "metadata": {},
   "source": [
    "\n",
    "$\\nabla_\\phi g (x,\\phi) = -\\frac{1}{\\rho}\\cdotp\\phi + \\rho\\cdotp\\max(0,x + \\rho^{-1}\\phi)\\cdotp\\frac{d}{d\\phi}(max(0,x + \\rho^{-1}\\phi))$\n",
    "\n",
    "Using the same logic, we have in all cases : $\\frac{d}{d\\phi}(\\max(0,x + \\rho^{-1}\\phi)) = \\rho^{-1} $ or 0\n",
    "    \n",
    "Therefore : \n",
    "\n",
    "$\\nabla_\\phi g (x,\\phi) = -\\rho^{-1}\\cdotp\\phi + \\max(0,x + \\rho^{-1}\\phi)$\n",
    "\n",
    "If $ \\max(0,x + \\rho^{-1}\\phi)=0 $ then $\\nabla_\\phi g (x,\\phi) = -\\rho^{-1}\\cdotp\\phi $ \n",
    "\n",
    "\n",
    "$ \\iff $ If $ \\max(-\\rho^{-1}\\phi,x )=0 $ then $\\nabla_\\phi g (x,\\phi) = -\\rho^{-1}\\cdotp\\phi $ \n",
    "\n",
    "Otherwise, $\\nabla_\\phi g (x,\\phi) = x$\n",
    "\n",
    "Thus, $\\nabla_\\phi g (x,\\phi) = \\max(-\\rho^{-1}\\phi,x ) $\n",
    "\n"
   ]
  },
  {
   "cell_type": "markdown",
   "metadata": {},
   "source": [
    "# Question 4.3"
   ]
  },
  {
   "cell_type": "markdown",
   "metadata": {},
   "source": [
    "When $x\\leq\\frac{-\\phi}{\\rho}$:\n",
    "\n",
    "$\\nabla_x^{2}g(x,\\phi)=0$\n",
    "\n",
    "$\\nabla_\\phi^{2}g(x,\\phi)=-\\frac{1}{\\rho}$\n",
    "\n",
    "When $x>\\frac{-\\phi}{\\rho}$:\n",
    "\n",
    "$\\nabla_x^{2}g(x,\\phi)=\\rho>0$\n",
    "\n",
    "$\\nabla_\\phi^{2}g(x,\\phi)=0$\n",
    "\n",
    "\n",
    "In all cases, the Hessian of $x\\rightarrow g(x,\\phi)$ is always positive (in $\\mathbb{R}$),therefore $x\\rightarrow g(x,\\phi)$ is convex.\n",
    "\n",
    "In all cases, the Hessian of $\\phi\\rightarrow g(x,\\phi)$ is always negative (in $\\mathbb{R}$),therefore $\\phi\\rightarrow g(x,\\phi)$ is concave.\n"
   ]
  },
  {
   "cell_type": "code",
   "execution_count": null,
   "metadata": {},
   "outputs": [],
   "source": []
  },
  {
   "cell_type": "markdown",
   "metadata": {},
   "source": [
    "# Question 4.4"
   ]
  },
  {
   "cell_type": "code",
   "execution_count": 93,
   "metadata": {},
   "outputs": [],
   "source": [
    "x = X.copy()\n",
    "eps = 1 \n",
    "p = 2\n",
    "dy = np.diag(y)\n",
    "\n",
    "v0 = np.zeros(31)\n",
    "a0 = 0\n",
    "\n",
    "z0 = np.zeros((len(y),))\n",
    "ph0 = np.zeros((len(y),))\n",
    "ph1 = np.zeros((len(y),))\n",
    "\n",
    "def g(x,ph):\n",
    "    -ph**2/2/p + p*(max(0,x+ph/p)**2)/2\n",
    "\n",
    "def grad_g_x(x,ph):\n",
    "    #gradient with respect to x\n",
    "    grad_x = p*max(0,x+ph/p)\n",
    "    return (grad_x)\n",
    "\n",
    "def grad_g_phi(x,ph):\n",
    "    #gradient with respect to phi \n",
    "    grad_phi = max(-ph/p,x)\n",
    "    return (grad_phi)\n",
    "\n",
    "vect_grad_x = np.vectorize(grad_g_x)\n",
    "\n",
    "vect_grad_phi= np.vectorize(grad_g_phi)\n",
    "\n",
    "def Lp(v,a,z,ph0,ph1):\n",
    "    # value of the lagrangian function\n",
    "    return (v*v).sum()/2 +z.sum() + gv(-z,ph1).sum() + gv(-z+1-dy.dot(x.dot(v)+a),ph0).sum()\n",
    "\n",
    "def grad_Lp(v,a,z):\n",
    "    # gradient of the lagrangian\n",
    "    gradv = v - (dy.dot(x).T).dot(vect_grad_x(-z+1-dy.dot(x.dot(v)+a),ph0))\n",
    "    grada = -np.array(dy.dot(vect_grad_x(-z+1-dy.dot(x.dot(v)+a),ph0))).sum\n",
    "    gradz = np.ones(z.shape) - vect_grad_x(-z,ph1) - vect_grad_x(-z+1-dy.dot(x.dot(v)+a),ph0)\n",
    "    return gradv, grada, gradz"
   ]
  },
  {
   "cell_type": "code",
   "execution_count": 99,
   "metadata": {},
   "outputs": [],
   "source": [
    "ph0 = np.zeros((len(y),))\n",
    "ph1 = np.zeros((len(y),))\n",
    "\n",
    "\n",
    "def gradient_descent_lagrangian(ph0,ph1)   :\n",
    "    v0 = np.zeros(31)\n",
    "    a0 = 0\n",
    "    z0 = np.zeros((len(y),))\n",
    "    \n",
    "    gradv, grada, gradz = grad_Lp(v0,a0,z0)\n",
    "    norm = np.linalg.norm(gradv)+ np.linalg.norm(grada)+ np.linalg.norm(gradz)\n",
    "    it = 0\n",
    "    while norm > eps and it < 100:\n",
    "        # We add a constant so that it doesn't diverge\n",
    "        v0 -= gradv/(it+500) \n",
    "        a0 -= grada/(it+500)\n",
    "        z0 -= gradz/(it+500)\n",
    "        gradv, grada, gradz = grad_Lp(v0,a0,z0)\n",
    "        norm = np.linalg.norm(gradv)+ np.linalg.norm(grada)+ np.linalg.norm(gradz)\n",
    "        valeur = Lp(v0,a0,z0,ph0,ph1)\n",
    "        it+=1\n",
    "    return v0,a0,z0\n"
   ]
  },
  {
   "cell_type": "markdown",
   "metadata": {},
   "source": [
    "# Question 4.5"
   ]
  },
  {
   "cell_type": "code",
   "execution_count": 103,
   "metadata": {},
   "outputs": [],
   "source": [
    "def grad_phi_lp(v,a,z,ph0,ph1):\n",
    "    grad_phi_0 = vect_grad_phi(-z+1-dy.dot(x.dot(v)+a),ph0)\n",
    "    grad_phi_1 = vect_grad_phi(-z,ph1)\n",
    "    return grad_phi_0,grad_phi_1"
   ]
  },
  {
   "cell_type": "markdown",
   "metadata": {},
   "source": [
    "# Question 4.6"
   ]
  },
  {
   "cell_type": "code",
   "execution_count": null,
   "metadata": {},
   "outputs": [],
   "source": [
    "ph0 = np.zeros((len(y),))\n",
    "ph1 = np.zeros((len(y),))\n",
    "\n",
    "\n",
    "for i in range(1000):\n",
    "    vk,ak,zk = gradient_descent_lagrangian(ph0,ph1)\n",
    "    gph0 , gph1 = grad_phi(vk,ak,zk,ph0,ph1)\n",
    "    ph0 += p*gph0\n",
    "    ph1 += p*gph1\n",
    "\n",
    "Lp(vk,ak,zk,ph0,ph1)"
   ]
  }
 ],
 "metadata": {
  "kernelspec": {
   "display_name": "Python 3",
   "language": "python",
   "name": "python3"
  },
  "language_info": {
   "codemirror_mode": {
    "name": "ipython",
    "version": 3
   },
   "file_extension": ".py",
   "mimetype": "text/x-python",
   "name": "python",
   "nbconvert_exporter": "python",
   "pygments_lexer": "ipython3",
   "version": "3.6.4"
  }
 },
 "nbformat": 4,
 "nbformat_minor": 2
}
