{
  "nbformat": 4,
  "nbformat_minor": 0,
  "metadata": {
    "colab": {
      "name": "proj_final.ipynb",
      "version": "0.3.2",
      "provenance": [],
      "collapsed_sections": [
        "rbMoU72F_aDv",
        "5i8xvq8G_aI4",
        "anmpHuOq_aK-"
      ]
    },
    "language_info": {
      "codemirror_mode": {
        "name": "ipython",
        "version": 3
      },
      "file_extension": ".py",
      "mimetype": "text/x-python",
      "name": "python",
      "nbconvert_exporter": "python",
      "pygments_lexer": "ipython3",
      "version": "3.6.5"
    },
    "kernelspec": {
      "display_name": "Python 3",
      "language": "python",
      "name": "python3"
    },
    "accelerator": "GPU"
  },
  "cells": [
    {
      "metadata": {
        "colab_type": "code",
        "id": "hYsI9EGK_Z9h",
        "colab": {}
      },
      "cell_type": "code",
      "source": [
        "import numpy as np\n",
        "from scipy.stats import norm\n",
        "from matplotlib import pyplot as plt \n",
        "%matplotlib inline  "
      ],
      "execution_count": 0,
      "outputs": []
    },
    {
      "metadata": {
        "colab_type": "text",
        "id": "e5FiaB8__Z-C"
      },
      "cell_type": "markdown",
      "source": [
        "# 1) Build an MC algorithm that computes the mean of any given distribution\n",
        "You will train your algorithm on the following density mixture_d_2. If your algorithm needs to be restricted to a compact set. You can only choose $[-10,10]^2$ but it is not allowed to take $[0,10]^2$ (this information is obtained by visualizing which is not always the case). You will first present your algorithm and then evaluate its performance according to different budget $(1000,5000,10000)$ using the averaged squared error computed over, at least, $50$ trials. If $A_1,\\ldots, A_{50}$ are realization of your algorithm and $\\mu$ is the true value, the average squared error computed over $50$ trials is\n",
        "$$\\frac{1}{50} \\sum_{i=1} ^{50} (A_i - \\mu)^2$$ \n"
      ]
    },
    {
      "metadata": {
        "colab_type": "code",
        "id": "_3fML-8q_Z-J",
        "colab": {}
      },
      "cell_type": "code",
      "source": [
        "#gaussian mixture on the unit cube\n",
        "def mixture_d_2(x):\n",
        "    x1 = x - np.matrix([3,7])\n",
        "    x2 = x - np.matrix([7,2])\n",
        "    x3 = x - np.matrix([7,7])\n",
        "    return (.2 * np.prod(norm.pdf(x1)) + .4 * np.prod(norm.pdf(x2)) + .4 * np.prod(norm.pdf(x3))) "
      ],
      "execution_count": 0,
      "outputs": []
    },
    {
      "metadata": {
        "colab_type": "code",
        "id": "K4iJwMhE_Z-b",
        "outputId": "6873b660-c119-4ebb-cf5b-8d38933b4723",
        "colab": {
          "base_uri": "https://localhost:8080/",
          "height": 35
        }
      },
      "cell_type": "code",
      "source": [
        "mixture_d_2([1,1])"
      ],
      "execution_count": 0,
      "outputs": [
        {
          "output_type": "execute_result",
          "data": {
            "text/plain": [
              "6.536828823691848e-10"
            ]
          },
          "metadata": {
            "tags": []
          },
          "execution_count": 37
        }
      ]
    },
    {
      "metadata": {
        "colab_type": "code",
        "id": "UwQDdnrs_Z_G",
        "colab": {}
      },
      "cell_type": "code",
      "source": [
        "#We code the gaussion mixture ourselves for computational Scomplexity purposes\n",
        "def mixture_d_2(x):\n",
        "    x=np.matrix(x)\n",
        "    x1 = x - np.matrix([3,7])\n",
        "    x2 = x - np.matrix([7,2])\n",
        "    x3 = x - np.matrix([7,7])\n",
        "    return float(.2*1/(2*np.pi)*np.exp(-1/2*np.inner(x1,x1))+.4*1/(2*np.pi)*np.exp(-1/2*np.inner(x2,x2))+.2*1/(2*np.pi)*np.exp(-1/2*np.inner(x3,x3)))"
      ],
      "execution_count": 0,
      "outputs": []
    },
    {
      "metadata": {
        "colab_type": "code",
        "id": "3XSXr0j8_Z_e",
        "outputId": "e09ce79f-c933-4df9-c1a0-6520b91ecb2b",
        "colab": {
          "base_uri": "https://localhost:8080/",
          "height": 35
        }
      },
      "cell_type": "code",
      "source": [
        "mixture_d_2([1,1])"
      ],
      "execution_count": 0,
      "outputs": [
        {
          "output_type": "execute_result",
          "data": {
            "text/plain": [
              "6.536828749859142e-10"
            ]
          },
          "metadata": {
            "tags": []
          },
          "execution_count": 39
        }
      ]
    },
    {
      "metadata": {
        "colab_type": "text",
        "id": "z42gGJqA_aAA"
      },
      "cell_type": "markdown",
      "source": [
        "# Here is a plot of the density"
      ]
    },
    {
      "metadata": {
        "colab_type": "code",
        "id": "w1T-TGvH_aAG",
        "outputId": "7f9adea8-1079-485c-b218-19e9d0dcc677",
        "colab": {
          "base_uri": "https://localhost:8080/",
          "height": 269
        }
      },
      "cell_type": "code",
      "source": [
        "N = 100\n",
        "z = np.zeros([N,N])\n",
        "x = np.zeros([N,N])\n",
        "y = np.zeros([N,N])\n",
        "xmin = 0\n",
        "xmax = 10\n",
        "ymin = 0\n",
        "ymax = 10\n",
        "\n",
        "x1 = np.linspace(xmin,xmax,N)\n",
        "y1 = np.linspace(ymin,ymax,N)\n",
        "for i in range(N):\n",
        "    for j in range(N):\n",
        "        x[i,j] = x1[i]\n",
        "        y[i,j] = y1[j]\n",
        "        z[i,j] = mixture_d_2([x1[i],y1[j]])\n",
        "\n",
        "plt.pcolormesh(x,y,z)\n",
        "plt.show()"
      ],
      "execution_count": 0,
      "outputs": [
        {
          "output_type": "display_data",
          "data": {
            "image/png": "[encoded data removed]",
            "text/plain": [
              "<Figure size 432x288 with 1 Axes>"
            ]
          },
          "metadata": {
            "tags": []
          }
        }
      ]
    },
    {
      "metadata": {
        "colab_type": "text",
        "id": "c1KauvkI_aAt"
      },
      "cell_type": "markdown",
      "source": [
        "# Variance-Reduction Based importance sampling"
      ]
    },
    {
      "metadata": {
        "colab_type": "text",
        "id": "b0Wg5erl_aAy"
      },
      "cell_type": "markdown",
      "source": [
        "We will first try to evaluate the average of mixture_d_2 by using a variance-reduction based importance sampling.\n",
        "\n",
        "Our first approach is to minimize the risk over the parameter space $\\Theta$ where $f_{\\Theta}$ represents the gaussian 1-D density functions.\n",
        "\n",
        "We use the inition distribution q0 as a uniform distribution on $[-10,10]^{2}$"
      ]
    },
    {
      "metadata": {
        "colab_type": "text",
        "id": "JY57VdzG_aA4"
      },
      "cell_type": "markdown",
      "source": [
        "For the uniform distribution, there is no parameter theta to minimize so we can immediately approximate the integral"
      ]
    },
    {
      "metadata": {
        "colab_type": "text",
        "id": "cgDjk89x_aA_"
      },
      "cell_type": "markdown",
      "source": [
        "The choice of the q distribution is of utmost importance, as it has an effect on the variance of the method.\n",
        "Our q is optimal if it is proportional to $\\varphi$\n",
        "\n",
        "We want to $min_{q \\in Q} $ $var_{q}\\frac{\\varphi}{q}$"
      ]
    },
    {
      "metadata": {
        "colab_type": "code",
        "id": "3l3-DDcN_aBS",
        "colab": {}
      },
      "cell_type": "code",
      "source": [
        "#importance sampling algorithm - Using the Variance method\n",
        "#Step one of the unified view algorithm\n",
        "##We generate n1 i.i.d points\n",
        "##For this we will use a uniform distribution over [-10,10]^2 (we can improve this later with a different distribution)\n",
        "n1 = 100\n",
        "##Exploration\n",
        "x = np.random.uniform(-10,10,n1) \n",
        "y = np.random.uniform(-10,10,n1)\n",
        "eval_points = list(zip(x,y))\n",
        "\n",
        "##Exploitation\n",
        "def q(theta_1,theta_2,x):\n",
        "    return np.prod(norm.pdf(x-np.matrix([theta_1,theta_2])))\n",
        "    \n",
        "eval_phi = [mixture_d_2(eval_points[i]) for i in range(n1)]\n",
        "eval_q0 = [1/(20**2) for i in range(n1)]\n",
        "\n",
        "\n",
        "def R_hat_1(theta_1,theta_2):\n",
        "    eval_q = [q(theta_1,theta_2,point) for point in eval_points]\n",
        "    return 1/n1*sum([eval_phi[i]**2/(eval_q0[i]*eval_q[i]) for i in range(n1)])\n",
        "    \n",
        "\n",
        "\n",
        "xx , yy = np.meshgrid(np.linspace(-10,10,20),np.linspace(-10,10,20)) #meshgrid(theta_1,theta_2)\n",
        "zz = np.zeros((50,50))\n",
        "\n",
        "zz_min = np.inf\n",
        "theta_1_min = 0\n",
        "theta_2_min = 0\n",
        "\n",
        "for i in range(20):\n",
        "    for j in range(20):\n",
        "        zz[i, j] = R_hat_1(xx[i,j],yy[i,j])##we iterate over theta to find the best gaussian to approximate our mixture\n",
        "        if zz[i, j] <= zz_min :\n",
        "            zz_min = zz[i, j]\n",
        "            theta_1_min = xx[i, j]\n",
        "            theta_2_min = yy[i, j]     "
      ],
      "execution_count": 0,
      "outputs": []
    },
    {
      "metadata": {
        "colab_type": "code",
        "id": "LIDhIBnA_aB7",
        "outputId": "ec839056-5a11-42dc-ef0a-32084fd58396",
        "colab": {
          "base_uri": "https://localhost:8080/",
          "height": 54
        }
      },
      "cell_type": "code",
      "source": [
        "print('theta_1_min : '+str(theta_1_min))\n",
        "print('theta_2_min : '+str(theta_2_min))"
      ],
      "execution_count": 0,
      "outputs": [
        {
          "output_type": "stream",
          "text": [
            "theta_1_min : 5.789473684210526\n",
            "theta_2_min : 4.7368421052631575\n"
          ],
          "name": "stdout"
        }
      ]
    },
    {
      "metadata": {
        "colab_type": "code",
        "id": "sq3g9SS9_aCa",
        "outputId": "6d1365de-06ed-4583-a358-3919b27936c8",
        "colab": {
          "base_uri": "https://localhost:8080/",
          "height": 35
        }
      },
      "cell_type": "code",
      "source": [
        "#Real theta: \n",
        "avg = 0.2*np.array([3,7])+0.4*np.array([7,2])+0.4*np.array([7,7])\n",
        "avg"
      ],
      "execution_count": 0,
      "outputs": [
        {
          "output_type": "execute_result",
          "data": {
            "text/plain": [
              "array([6.2, 5. ])"
            ]
          },
          "metadata": {
            "tags": []
          },
          "execution_count": 43
        }
      ]
    },
    {
      "metadata": {
        "colab_type": "code",
        "id": "adoulDbg_aCr",
        "outputId": "a44cb39e-bcff-4bd4-fb27-9dc167f3323d",
        "colab": {
          "base_uri": "https://localhost:8080/",
          "height": 269
        }
      },
      "cell_type": "code",
      "source": [
        "N = 100\n",
        "z = np.zeros([N,N])\n",
        "x = np.zeros([N,N])\n",
        "y = np.zeros([N,N])\n",
        "xmin = -10\n",
        "xmax = 10\n",
        "ymin = -10\n",
        "ymax = 10\n",
        "\n",
        "x1 = np.linspace(xmin,xmax,N)\n",
        "y1 = np.linspace(ymin,ymax,N)\n",
        "for i in range(N):\n",
        "    for j in range(N):\n",
        "        x[i,j] = x1[i]\n",
        "        y[i,j] = y1[j]\n",
        "        z[i,j] = mixture_d_2([x1[i],y1[j]])\n",
        "\n",
        "plt.pcolormesh(x,y,z)\n",
        "plt.scatter([theta_1_min], [theta_2_min], marker='o', c=\"red\", label=\"theta approximation\") #The red dot in the graph will correspond to the theta we use in our gaussian approximation\n",
        "plt.scatter(avg[0],avg[1], marker='o', color=\"g\",label=\"true average theta\") #The green dot corresponds to the real average theta of the mixture\n",
        "plt.legend(loc='lower left')\n",
        "plt.show()"
      ],
      "execution_count": 0,
      "outputs": [
        {
          "output_type": "display_data",
          "data": {
            "image/png": "[encoded data removed]",
            "text/plain": [
              "<Figure size 432x288 with 1 Axes>"
            ]
          },
          "metadata": {
            "tags": []
          }
        }
      ]
    },
    {
      "metadata": {
        "colab_type": "text",
        "id": "lWnLaLBv_aC-"
      },
      "cell_type": "markdown",
      "source": [
        "The q_theta_1 function we will use will be a gaussian with mean [theta_1_min,theta_2_min] (the red point in the above plot)"
      ]
    },
    {
      "metadata": {
        "colab_type": "code",
        "id": "FjuoRKGi_aDC",
        "colab": {}
      },
      "cell_type": "code",
      "source": [
        "#Step 2, now we can evaluate the value of the integral\n",
        "##We generate n2 data points under a normal distribution (mean: [theta_1,theta_2])\n",
        "##We will use a budget of 1000-100 = 900\n",
        "def variance_reduction():\n",
        "\n",
        "    n2 = 900 #budget is 1000 to begin with\n",
        "    x = np.random.normal(loc=theta_1_min,size= 900)\n",
        "    y = np.random.normal(loc=theta_2_min,size= 900)\n",
        "\n",
        "    eval_points = list(zip(x,y)) #corresponds to X1, ..., Xn2\n",
        "    phi_values = [mixture_d_2(point) for point in eval_points] \n",
        "    q_theta_2 = [np.prod(norm.pdf(np.matrix(point)-np.matrix([theta_1_min,theta_2_min]))) for point in eval_points]\n",
        "    I_hat_2 = 1/n2*sum([phi_values[i]/q_theta_2[i] for i in range(n2)])\n",
        "    return I_hat_2\n",
        "\n",
        "def error():\n",
        "    error_list = [(variance_reduction()-1)**2 for i in range(50)]\n",
        "    return 1/50*sum(error_list)"
      ],
      "execution_count": 0,
      "outputs": []
    },
    {
      "metadata": {
        "colab_type": "code",
        "id": "3siz0D4I_aDe",
        "outputId": "cc138835-91e5-406f-8a29-42c1f1e5807a",
        "colab": {
          "base_uri": "https://localhost:8080/",
          "height": 135
        }
      },
      "cell_type": "code",
      "source": [
        "print('The error of our Variance-Reduction Algorithm is : '+str(error()))"
      ],
      "execution_count": 0,
      "outputs": [
        {
          "output_type": "stream",
          "text": [
            "The error of our Variance-Reduction Algorithm is : 0.14864216641300304\n"
          ],
          "name": "stdout"
        }
      ]
    },
    {
      "metadata": {
        "colab_type": "text",
        "id": "rbMoU72F_aDv"
      },
      "cell_type": "markdown",
      "source": [
        "# Limitations of Variance Reduction"
      ]
    },
    {
      "metadata": {
        "colab_type": "text",
        "id": "olotIuHi_aDy"
      },
      "cell_type": "markdown",
      "source": [
        "The problem with this initial approach is that it will not work for distributions where the centres of gaussians are far away, or opposed. As shown below."
      ]
    },
    {
      "metadata": {
        "colab_type": "code",
        "id": "pa2JlEjH_aD1",
        "outputId": "2f8b9f14-4298-4c35-fe1a-e7dfee349d20",
        "colab": {}
      },
      "cell_type": "code",
      "source": [
        "def new_mixture(x):\n",
        "    x=np.matrix(x)\n",
        "    x1 = x - np.matrix([-7.5,7.5])\n",
        "    x2 = x - np.matrix([7.5,7.5])\n",
        "    x3 = x - np.matrix([7.5,-7.5])\n",
        "    return float(.2*1/(2*np.pi)*np.exp(-1/2*np.inner(x1,x1))+.4*1/(2*np.pi)*np.exp(-1/2*np.inner(x2,x2))+.2*1/(2*np.pi)*np.exp(-1/2*np.inner(x3,x3)))\n",
        "\n",
        "n1 = 100\n",
        "##Exploration\n",
        "x = np.random.uniform(-10,10,n1) \n",
        "y = np.random.uniform(-10,10,n1)\n",
        "eval_points = list(zip(x,y))\n",
        "\n",
        "##Exploitation\n",
        "def q(theta_1,theta_2,x):\n",
        "    return np.prod(norm.pdf(x-np.matrix([theta_1,theta_2])))\n",
        "\n",
        "eval_phi = [new_mixture(eval_points[i]) for i in range(n1)]\n",
        "eval_q0 = [1/(20**2) for i in range(n1)]\n",
        "\n",
        "\n",
        "xx , yy = np.meshgrid(np.linspace(-10,10,20),np.linspace(-10,10,20)) #meshgrid(theta_1,theta_2)\n",
        "zz = np.zeros((50,50))\n",
        "\n",
        "zz_min = np.inf\n",
        "theta_1_min = 0\n",
        "theta_2_min = 0\n",
        "\n",
        "for i in range(20):\n",
        "    for j in range(20):\n",
        "        zz[i, j] = R_hat_1(xx[i,j],yy[i,j])##we iterate over theta to find the best gaussian to approximate our mixture\n",
        "        if zz[i, j] <= zz_min :\n",
        "            zz_min = zz[i, j]\n",
        "            theta_1_min = xx[i, j]\n",
        "            theta_2_min = yy[i, j]     \n",
        "\n",
        "N = 100\n",
        "z = np.zeros([N,N])\n",
        "x = np.zeros([N,N])\n",
        "y = np.zeros([N,N])\n",
        "xmin = -10\n",
        "xmax = 10\n",
        "ymin = -10\n",
        "ymax = 10\n",
        "\n",
        "x1 = np.linspace(xmin,xmax,N)\n",
        "y1 = np.linspace(ymin,ymax,N)\n",
        "for i in range(N):\n",
        "    for j in range(N):\n",
        "        x[i,j] = x1[i]\n",
        "        y[i,j] = y1[j]\n",
        "        z[i,j] = new_mixture([x1[i],y1[j]])\n",
        "\n",
        "plt.pcolormesh(x,y,z)\n",
        "plt.scatter([theta_1_min], [theta_2_min], marker='o', c=\"red\", label=\"theta approximation\") #The red dot in the graph will correspond to the theta we use in our gaussian approximation\n",
        "plt.legend(loc='lower left')\n",
        "plt.show()"
      ],
      "execution_count": 0,
      "outputs": [
        {
          "output_type": "display_data",
          "data": {
            "image/png": "[encoded data removed]",
            "text/plain": [
              "<Figure size 432x288 with 1 Axes>"
            ]
          },
          "metadata": {
            "tags": []
          }
        }
      ]
    },
    {
      "metadata": {
        "colab_type": "text",
        "id": "7OMN9cRg_aEJ"
      },
      "cell_type": "markdown",
      "source": [
        "Clearly, the 2-D gaussian model is unsatisfactory. We will use a non-parametric approach from now on: Gaussian Kernel NPAIS\n"
      ]
    },
    {
      "metadata": {
        "colab_type": "text",
        "id": "nKWmvk13_aEW"
      },
      "cell_type": "markdown",
      "source": [
        "# A new approach : AIS"
      ]
    },
    {
      "metadata": {
        "colab_type": "code",
        "id": "zdmphkp5_aEe",
        "colab": {}
      },
      "cell_type": "code",
      "source": [
        "#We will generate under X_i, so we need to use rejection sampling\n",
        "#generate under density function f\n",
        "\n",
        "def normal(x): #probability density function of normal distribution at x\n",
        "    n=np.shape(x)[-1]\n",
        "    return (1/(np.sqrt(2*np.pi)))*np.exp(-(1/2)*np.inner(x,x))\n",
        "\n",
        "def g(x):\n",
        "    return 1/20**2*(np.abs(x[0])<10)*(np.abs(x[1])<10)\n",
        "\n",
        "C = 20**2/(2*np.pi)"
      ],
      "execution_count": 0,
      "outputs": []
    },
    {
      "metadata": {
        "colab_type": "code",
        "id": "sIgxNbl8_aE-",
        "colab": {}
      },
      "cell_type": "code",
      "source": [
        "def reject_method(f,n):\n",
        "    X_f = [] #Xi that have been generated under f\n",
        "    compteur = 0\n",
        "    while len(X_f) < n:\n",
        "        X = np.random.uniform(low=-10,high=10,size=(n,2)) #Creates n 2-d vectors under a uniform distribution\n",
        "        U = np.random.uniform(low=0,high=1,size=(n,1))\n",
        "        for i in range(n):\n",
        "            if f(X[i])/(C*g(X[i])) >= U[i]:\n",
        "                X_f.append(X[i])\n",
        "            compteur += 1\n",
        "    return X_f[:n],compteur"
      ],
      "execution_count": 0,
      "outputs": []
    },
    {
      "metadata": {
        "colab_type": "code",
        "id": "V1onvzIs_aFY",
        "outputId": "ba62d65e-9fd9-41d7-f060-9035da230150",
        "colab": {
          "base_uri": "https://localhost:8080/",
          "height": 109
        }
      },
      "cell_type": "code",
      "source": [
        "reject_method(mixture_d_2,5)[0]"
      ],
      "execution_count": 0,
      "outputs": [
        {
          "output_type": "execute_result",
          "data": {
            "text/plain": [
              "[array([2.86510372, 7.06773774]),\n",
              " array([4.50224729, 5.38880937]),\n",
              " array([2.29329987, 6.32134805]),\n",
              " array([7.00859936, 2.42958213]),\n",
              " array([1.7832111 , 6.95039372])]"
            ]
          },
          "metadata": {
            "tags": []
          },
          "execution_count": 15
        }
      ]
    },
    {
      "metadata": {
        "colab_type": "text",
        "id": "HSijMBQR_aF1"
      },
      "cell_type": "markdown",
      "source": [
        "An immediate observation is that the rejection method is extremely costly. The vast majority of budget points will be rejected."
      ]
    },
    {
      "metadata": {
        "colab_type": "code",
        "id": "aPDrzRaj_aF3",
        "outputId": "0c1f8b74-44fc-4860-f1f0-69c39ad14198",
        "colab": {
          "base_uri": "https://localhost:8080/",
          "height": 35
        }
      },
      "cell_type": "code",
      "source": [
        "print('To get 5 points, we need to evaluate the mixture on : '+ str(reject_method(mixture_d_2,5)[1])+' points')"
      ],
      "execution_count": 0,
      "outputs": [
        {
          "output_type": "stream",
          "text": [
            "To get 5 points, we need to evaluate the mixture on : 330 points\n"
          ],
          "name": "stdout"
        }
      ]
    },
    {
      "metadata": {
        "colab_type": "text",
        "id": "ZlQD3mOB_aGQ"
      },
      "cell_type": "markdown",
      "source": [
        "We will thus use NPAIS where we will select the density to be evaluated with probability $\\lambda$.\n",
        "\n",
        "We select $q_0$ with probability $\\lambda$ and another density with probability $1-\\lambda$ that will be updated.\n",
        "\n",
        "The updated density has been selected under a binomial law of parameter $W$ - a vector which contains all the weights of the drawn variables.\n",
        "\n",
        "We use Gaussian Kernels when updating our density"
      ]
    },
    {
      "metadata": {
        "colab_type": "code",
        "id": "LqWq8D5F_aGa",
        "colab": {}
      },
      "cell_type": "code",
      "source": [
        "def npais(phi, T, q0, lmbda, h, dim, N):\n",
        "    \n",
        "    q, S, I = q0, 0, 0\n",
        "    nt = int(N/T) #Each iteration has same amount of points\n",
        "    Nt = nt### N is the total number of evaluation points\n",
        "    w = [1/nt for i in range(nt)]\n",
        "    x = np.zeros((nt,dim))\n",
        "    \n",
        "    for t in range(1,T):\n",
        "        for i in range(nt):\n",
        "            if (np.random.binomial(1,lmbda[t]) == 1):\n",
        "                x[i] = np.array([20*np.random.random() - 10 for k in range(dim)])\n",
        "            else:\n",
        "                indice = np.random.multinomial(1, w) @ np.array([k for k in range(len(w))]).T\n",
        "                x[i] = np.random.normal(x[indice], h)\n",
        "                \n",
        "        \n",
        "        poids = [phi(x[i])/q(x[i]) for i in range(nt)]\n",
        "            \n",
        "        norm = sum(poids)\n",
        "        S += norm\n",
        "        Nt += nt\n",
        "        I = S/Nt\n",
        "        \n",
        "        w = list(np.array(poids)/norm)\n",
        "        \n",
        "        \n",
        "        f_t_tilde = lambda z : np.sum([w[j]*normal((z-x[j])/h) for j in range (nt)]) #use of gaussian kernels\n",
        "        q = lambda x : (1-lmbda[t])*f_t_tilde(x) + lmbda[t]*q0(x)\n",
        "        \n",
        "    return I"
      ],
      "execution_count": 0,
      "outputs": []
    },
    {
      "metadata": {
        "colab_type": "text",
        "id": "HMPfJ3JX_aGn"
      },
      "cell_type": "markdown",
      "source": [
        "As you may have noticed in the above code, we have opted to remove a degree of freedom to simplify the problem: \n",
        "\n",
        "By imposing nt = N//T, we are considering the same amount of steps (nt) for each iteration t, whether it be in the exploration or exploitation phases."
      ]
    },
    {
      "metadata": {
        "colab_type": "code",
        "id": "bDs_Gppd_aGr",
        "outputId": "d947096c-5d38-4706-ef17-c2b9efb0ecb8",
        "colab": {
          "base_uri": "https://localhost:8080/",
          "height": 35
        }
      },
      "cell_type": "code",
      "source": [
        "npais(mixture_d_2,100, lambda x: 1/400, [1/((n)**0.4) for n in range(1,1001)], 0.31, 2, 1000)"
      ],
      "execution_count": 6,
      "outputs": [
        {
          "output_type": "execute_result",
          "data": {
            "text/plain": [
              "0.8622205303641036"
            ]
          },
          "metadata": {
            "tags": []
          },
          "execution_count": 6
        }
      ]
    },
    {
      "metadata": {
        "colab_type": "text",
        "id": "m2LkSS_S_aG3"
      },
      "cell_type": "markdown",
      "source": [
        "# Optimisation of our NPAIS parameters"
      ]
    },
    {
      "metadata": {
        "colab_type": "text",
        "id": "uveIeVTJ_aHD"
      },
      "cell_type": "markdown",
      "source": [
        "Firstly, we need to set up an error function that we will minimize"
      ]
    },
    {
      "metadata": {
        "colab_type": "code",
        "id": "5uewDBx9_aHN",
        "colab": {}
      },
      "cell_type": "code",
      "source": [
        "#PSEUDO CODE\n",
        "def error_50_iterations(parameter):\n",
        "    prediction = npais(parameter)\n",
        "    target = 1 #integration of the density mixture over its support is equal to 1\n",
        "    error_list = [(prediction-target)**2 for i in range(50)]\n",
        "    return sum(error_list)"
      ],
      "execution_count": 0,
      "outputs": []
    },
    {
      "metadata": {
        "colab_type": "text",
        "id": "kX32aAAq_aHg"
      },
      "cell_type": "markdown",
      "source": [
        "We will fix our number of points at N = 1000"
      ]
    },
    {
      "metadata": {
        "colab_type": "text",
        "id": "xMu1VP7o_aHi"
      },
      "cell_type": "markdown",
      "source": [
        "Optimal amount of exploitation iterations : $T$"
      ]
    },
    {
      "metadata": {
        "colab_type": "text",
        "id": "uQ4lPPdx_aIM"
      },
      "cell_type": "markdown",
      "source": [
        "Optimal weight sequence : $\\lambda_{n}$"
      ]
    },
    {
      "metadata": {
        "colab_type": "code",
        "id": "bKnR19ip_aHl",
        "outputId": "cbb3af8a-1258-4d60-9a1d-0488e031b2dc",
        "colab": {
          "base_uri": "https://localhost:8080/",
          "height": 35
        }
      },
      "cell_type": "code",
      "source": [
        "T_error_list = []\n",
        "for T in range(1,1001,10): #If we have a budget of 1000 points, we have at most 1000 steps, we will use a step of 10 for computational purposes\n",
        "    error_list = [(npais(mixture_d_2, T, lambda x: 1/400, [1/((n)**0.5) for n in range(1,1001)], 0.1, 2, 1000)-1)**2 for j in range(50)]\n",
        "    T_error_list.append(sum(error_list))\n",
        "np.argmin(T_error_list)"
      ],
      "execution_count": 0,
      "outputs": [
        {
          "output_type": "execute_result",
          "data": {
            "text/plain": [
              "11"
            ]
          },
          "metadata": {
            "tags": []
          },
          "execution_count": 19
        }
      ]
    },
    {
      "metadata": {
        "colab_type": "code",
        "id": "m_j5nK1MC8nj",
        "colab": {}
      },
      "cell_type": "code",
      "source": [
        "T_optimal = range(1,1001,10)[11]"
      ],
      "execution_count": 0,
      "outputs": []
    },
    {
      "metadata": {
        "colab_type": "text",
        "id": "LdKihGm4_aIO"
      },
      "cell_type": "markdown",
      "source": [
        "Optimal Kernel parameter : $h$"
      ]
    },
    {
      "metadata": {
        "colab_type": "text",
        "id": "e27b6EE1DJ_Z"
      },
      "cell_type": "markdown",
      "source": [
        "We will vary h from $10^{-5}$ to $1$ \n",
        "\n",
        "To do this, we will consider the log of h"
      ]
    },
    {
      "metadata": {
        "colab_type": "code",
        "id": "UAh7jJMd_aIQ",
        "outputId": "8647e2d9-528c-47c2-a9ad-669d094e42fb",
        "colab": {
          "base_uri": "https://localhost:8080/",
          "height": 35
        }
      },
      "cell_type": "code",
      "source": [
        "h_error_list = []\n",
        "for logh in np.arange(-5*np.log(10),0,0.5): #If we have a budget of 1000 points, we have at most 1000 steps, we will use a step of 10 for computational purposes\n",
        "    error_list = [(npais(mixture_d_2, T_optimal, lambda x: 1/400, [1/((n)**0.5) for n in range(1,1001)], np.exp(logh), 2, 1000)-1)**2 for j in range(50)]\n",
        "    h_error_list.append(sum(error_list))\n",
        "np.argmin(h_error_list)"
      ],
      "execution_count": 0,
      "outputs": [
        {
          "output_type": "execute_result",
          "data": {
            "text/plain": [
              "21"
            ]
          },
          "metadata": {
            "tags": []
          },
          "execution_count": 26
        }
      ]
    },
    {
      "metadata": {
        "colab_type": "code",
        "id": "DtW9C13NJ5a_",
        "colab": {}
      },
      "cell_type": "code",
      "source": [
        "h_optimal = np.exp(np.arange(-5*np.log(10),0,0.5)[21])"
      ],
      "execution_count": 0,
      "outputs": []
    },
    {
      "metadata": {
        "colab_type": "text",
        "id": "mpwdPz8FKa13"
      },
      "cell_type": "markdown",
      "source": [
        "Optimal Kernel parameter : $\\lambda_{n}$"
      ]
    },
    {
      "metadata": {
        "colab_type": "text",
        "id": "4qClZmHXK-nJ"
      },
      "cell_type": "markdown",
      "source": [
        "We iterate over $s$ in $\\frac{1}{n^{s}}$"
      ]
    },
    {
      "metadata": {
        "colab_type": "code",
        "id": "68EtWJvrKKL3",
        "outputId": "ed000153-d773-489d-c19e-1833533b7385",
        "colab": {
          "base_uri": "https://localhost:8080/",
          "height": 35
        }
      },
      "cell_type": "code",
      "source": [
        "lambda_error_list = []\n",
        "for s in np.arange(0.01,0.9,0.01): #If we have a budget of 1000 points, we have at most 1000 steps, we will use a step of 10 for computational purposes\n",
        "    error_list = [(npais(mixture_d_2, T_optimal, lambda x: 1/400, [1/((n)**s) for n in range(1,1001)], h_optimal, 2, 1000)-1)**2 for j in range(50)]\n",
        "    lambda_error_list.append(sum(error_list))\n",
        "np.argmin(lambda_error_list)"
      ],
      "execution_count": 0,
      "outputs": [
        {
          "output_type": "execute_result",
          "data": {
            "text/plain": [
              "4"
            ]
          },
          "metadata": {
            "tags": []
          },
          "execution_count": 33
        }
      ]
    },
    {
      "metadata": {
        "colab_type": "code",
        "id": "oOBQF534Lqy2",
        "colab": {}
      },
      "cell_type": "code",
      "source": [
        "s_optimal = np.arange(0.01,0.9,0.01)[4]"
      ],
      "execution_count": 0,
      "outputs": []
    },
    {
      "metadata": {
        "colab_type": "code",
        "id": "R0tfZjAK_aIf",
        "outputId": "be4f38de-8f41-4679-eccc-f08b122818d4",
        "colab": {
          "base_uri": "https://localhost:8080/",
          "height": 72
        }
      },
      "cell_type": "code",
      "source": [
        "print('T optimal : '+ str(T_optimal))\n",
        "print('h optimal : '+str(h_optimal))\n",
        "print('s optimal : '+str(s_optimal))"
      ],
      "execution_count": 0,
      "outputs": [
        {
          "output_type": "stream",
          "text": [
            "T optimal : 111\n",
            "h optimal : 0.36315502674246564\n",
            "s optimal : 0.05\n"
          ],
          "name": "stdout"
        }
      ]
    },
    {
      "metadata": {
        "colab_type": "text",
        "id": "5i8xvq8G_aI4"
      },
      "cell_type": "markdown",
      "source": [
        "# Tests for N=1000,5000,10000"
      ]
    },
    {
      "metadata": {
        "colab_type": "code",
        "id": "O5vyaXxc_aJH",
        "colab": {}
      },
      "cell_type": "code",
      "source": [
        "def error(N):\n",
        "    return 1/50*sum([(npais(mixture_d_2, T_optimal, lambda x: 1/400, [1/((n)**s_optimal) for n in range(1,1001)], h_optimal, 2, N)-1)**2 for j in range(50)])\n",
        "\n",
        "  "
      ],
      "execution_count": 0,
      "outputs": []
    },
    {
      "metadata": {
        "colab_type": "code",
        "id": "zQdPk19IR7Vc",
        "outputId": "9ab7f5cd-f004-4d10-807b-00423e6274e3",
        "colab": {
          "base_uri": "https://localhost:8080/",
          "height": 72
        }
      },
      "cell_type": "code",
      "source": [
        "print('Error for N = 1000 iterations : '+str(error(1000)))\n",
        "print('Error for N = 5000 iterations : '+str(error(5000)))\n",
        "print('Error for N = 10000 iterations : '+str(error(10000)))\n"
      ],
      "execution_count": 0,
      "outputs": [
        {
          "output_type": "stream",
          "text": [
            "Error for N = 1000 iterations : 0.01455619122025113\n",
            "Error for N = 5000 iterations : 0.08185612747097386\n",
            "Error for N = 10000 iterations : 0.14988358836498386\n"
          ],
          "name": "stdout"
        }
      ]
    },
    {
      "metadata": {
        "colab_type": "text",
        "id": "PVVHw4i4T88_"
      },
      "cell_type": "markdown",
      "source": [
        "The order of magnitude of the error of our algorithm for 1000 points is $10^{-2}$ \n",
        "\n",
        "It is surprising that the error increases with the budget N that is allocated, but this is possibly because our optimized parameters h,s and T were obtained for N=1000.\n",
        "\n",
        "There is no reason why these parameters should stay the same for N=5000 or N=10000"
      ]
    },
    {
      "metadata": {
        "colab_type": "text",
        "id": "Uj-evBm__aJz"
      },
      "cell_type": "markdown",
      "source": [
        "# 2) Compare your algorithm to the basic MC methods with uniform sampling on the cube [0,10]^2\n",
        "(note that such a method has an additional information with respect to yours, which is the suppoet information [0,10]^2)\n",
        "\n",
        "The comparison will be made with respect to a budget of $10000$ particles using the average squared error computed over at least $50$ trials."
      ]
    },
    {
      "metadata": {
        "colab_type": "code",
        "id": "akz41xXHVmQr",
        "colab": {}
      },
      "cell_type": "code",
      "source": [
        "import numpy as np\n",
        "def monte_carlo():\n",
        "    x = np.random.uniform(0,10,10000)\n",
        "    y = np.random.uniform(0,10,10000)\n",
        "    phi_list = [100*mixture_d_2(np.array(x[i],y[i])) for i in range(10000)]\n",
        "    return 1/10000*np.sum(phi_list)"
      ],
      "execution_count": 0,
      "outputs": []
    },
    {
      "metadata": {
        "colab_type": "code",
        "id": "moBViAUxXQw4",
        "colab": {}
      },
      "cell_type": "code",
      "source": [
        "def error():\n",
        "    return 1/50*sum([(monte_carlo()-1)**2 for j in range(50)])"
      ],
      "execution_count": 0,
      "outputs": []
    },
    {
      "metadata": {
        "colab_type": "code",
        "id": "cjpQTayAXjcQ",
        "outputId": "c2d1320c-e069-44b6-c15d-dcba17eed740",
        "colab": {
          "base_uri": "https://localhost:8080/",
          "height": 35
        }
      },
      "cell_type": "code",
      "source": [
        "print('Monte Carlo Error for 10000 points is : '+str(error()))"
      ],
      "execution_count": 0,
      "outputs": [
        {
          "output_type": "stream",
          "text": [
            "Monte Carlo Error for 10000 points is : 0.1792656435161762\n"
          ],
          "name": "stdout"
        }
      ]
    },
    {
      "metadata": {
        "colab_type": "text",
        "id": "kHu5M-2X_aJ7"
      },
      "cell_type": "markdown",
      "source": [
        "# 3) A larger dimension?\n",
        "\n",
        "Provide a deescription of your algorithm (if different than before).\n",
        "Evaluate its performance when computing the average of mixture_d_5 with different sample sizes $(1000, 5000, 10000)$. You will use again the average squared error computed over at least 5050 trials.\n"
      ]
    },
    {
      "metadata": {
        "colab_type": "code",
        "id": "CF3lXKEb_aJ-",
        "colab": {}
      },
      "cell_type": "code",
      "source": [
        "def mixture_d_5(x):\n",
        "    x1 = np.matrix(x) - np.matrix([3,5,0,0,0])\n",
        "    x2 = np.matrix(x) - np.matrix([7,5,0,0,0])\n",
        "    return .5 * np.prod(norm.pdf(x1)) + .5 * np.prod(norm.pdf(x2))"
      ],
      "execution_count": 0,
      "outputs": []
    },
    {
      "metadata": {
        "colab_type": "code",
        "id": "gJ9s59w9_aKS",
        "colab": {}
      },
      "cell_type": "code",
      "source": [
        "#We code the gaussion mixture ourselves for computational Scomplexity purposes\n",
        "def mixture_d_5(x):\n",
        "    x=np.matrix(x)\n",
        "    x1 = x - np.matrix([3,5,0,0,0])\n",
        "    x2 = x - np.matrix([7,5,0,0,0])\n",
        "    return float(.5*1/(2*np.pi)*np.exp(-1/2*np.inner(x1,x1))+.5*1/(2*np.pi)*np.exp(-1/2*np.inner(x2,x2)))"
      ],
      "execution_count": 0,
      "outputs": []
    },
    {
      "metadata": {
        "colab_type": "code",
        "id": "Th_lQvfU_aKn",
        "outputId": "f7f43bc7-dd6b-4803-9be9-344e3438e3af",
        "colab": {
          "base_uri": "https://localhost:8080/",
          "height": 35
        }
      },
      "cell_type": "code",
      "source": [
        "npais(mixture_d_5,111, lambda x: 1/3200000, [1/((n)**0.05) for n in range(1,1001)], 0.36, 5, 1000)"
      ],
      "execution_count": 27,
      "outputs": [
        {
          "output_type": "execute_result",
          "data": {
            "text/plain": [
              "1.1914368112640477"
            ]
          },
          "metadata": {
            "tags": []
          },
          "execution_count": 27
        }
      ]
    },
    {
      "metadata": {
        "id": "XZeqeQToOjo7",
        "colab_type": "code",
        "colab": {}
      },
      "cell_type": "code",
      "source": [
        "def error(N):\n",
        "    return 1/50*sum([(npais(mixture_d_5,111, lambda x: 1/3200000, [1/((n)**0.05) for n in range(1,N+1)], 0.36, 5, N)-1)**2 for i in range(50)])"
      ],
      "execution_count": 0,
      "outputs": []
    },
    {
      "metadata": {
        "id": "Fqh_h7phOjpP",
        "colab_type": "code",
        "colab": {
          "base_uri": "https://localhost:8080/",
          "height": 72
        },
        "outputId": "19b934ff-d4e2-4c0c-9e41-08fee0e3ba2d"
      },
      "cell_type": "code",
      "source": [
        "print('Error of NPAIS over N = 1000 points : '+str(error(1000)))\n",
        "print('Error of NPAIS over N = 5000 points : '+str(error(5000)))\n",
        "print('Error of NPAIS over N = 10000 points : '+str(error(10000)))"
      ],
      "execution_count": 15,
      "outputs": [
        {
          "output_type": "stream",
          "text": [
            "Error of NPAIS over N = 1000 points : 2775.088924117066\n",
            "Error of NPAIS over N = 5000 points : 39029.528068688815\n",
            "Error of NPAIS over N = 10000 points : 105792.39942093552\n"
          ],
          "name": "stdout"
        }
      ]
    },
    {
      "metadata": {
        "id": "Ragi5M6WRY8b",
        "colab_type": "text"
      },
      "cell_type": "markdown",
      "source": [
        "This NPAIS Algorithm does not scale well to higher dimensions..."
      ]
    },
    {
      "metadata": {
        "colab_type": "text",
        "id": "anmpHuOq_aK-"
      },
      "cell_type": "markdown",
      "source": [
        "# 4) Two new densities (respectively on $\\mathbb R^2$ and $\\mathbb R^5$) will be given to you during the last computer class. You will provide the accuracy (as before) of your method computing the mean with respect to these densities.\n",
        "\n",
        "You will use $10000$ particles. And compute the average squared error with $50$ trials."
      ]
    },
    {
      "metadata": {
        "colab_type": "code",
        "id": "k7INDk0c_aLA",
        "colab": {}
      },
      "cell_type": "code",
      "source": [
        ""
      ],
      "execution_count": 0,
      "outputs": []
    },
    {
      "metadata": {
        "colab_type": "code",
        "id": "nzz0Ws7C_aLt",
        "colab": {}
      },
      "cell_type": "code",
      "source": [
        ""
      ],
      "execution_count": 0,
      "outputs": []
    },
    {
      "metadata": {
        "colab_type": "code",
        "id": "Q_PE2pBvC3N6",
        "colab": {}
      },
      "cell_type": "code",
      "source": [
        ""
      ],
      "execution_count": 0,
      "outputs": []
    }
  ]
}